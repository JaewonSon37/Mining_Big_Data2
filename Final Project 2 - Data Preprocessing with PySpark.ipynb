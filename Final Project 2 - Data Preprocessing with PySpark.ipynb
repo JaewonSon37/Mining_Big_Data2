{
 "cells": [
  {
   "cell_type": "markdown",
   "id": "b4f6293c",
   "metadata": {
    "id": "b4f6293c"
   },
   "source": [
    "## Data Preprocessing with PySpark\n",
    "---"
   ]
  },
  {
   "cell_type": "code",
   "execution_count": 1,
   "id": "33d89def-8f5c-4bf5-9e7e-63d831453867",
   "metadata": {
    "execution": {
     "iopub.execute_input": "2025-03-05T22:20:18.054598Z",
     "iopub.status.busy": "2025-03-05T22:20:18.054347Z",
     "iopub.status.idle": "2025-03-05T22:21:04.906529Z",
     "shell.execute_reply": "2025-03-05T22:21:04.905768Z",
     "shell.execute_reply.started": "2025-03-05T22:20:18.054551Z"
    },
    "id": "33d89def-8f5c-4bf5-9e7e-63d831453867",
    "tags": []
   },
   "outputs": [
    {
     "data": {
      "application/vnd.jupyter.widget-view+json": {
       "model_id": "6de4cb48591043dabedd643f23d3d7ec",
       "version_major": 2,
       "version_minor": 0
      },
      "text/plain": [
       "VBox()"
      ]
     },
     "metadata": {},
     "output_type": "display_data"
    },
    {
     "name": "stdout",
     "output_type": "stream",
     "text": [
      "Starting Spark application\n"
     ]
    },
    {
     "data": {
      "text/html": [
       "<table>\n",
       "<tbody><tr><th>ID</th><th>YARN Application ID</th><th>Kind</th><th>State</th><th>Spark UI</th><th>Driver log</th><th>User</th><th>Current session?</th></tr><tr><td>4</td><td>application_1741207229711_0005</td><td>pyspark</td><td>idle</td><td><a target=\"_blank\" href=\"http://ip-172-31-75-208.ec2.internal:20888/proxy/application_1741207229711_0005/\" class=\"emr-proxy-link j-1N992DIEGL5PU application_1741207229711_0005\" emr-resource=\"j-1N992DIEGL5PU\n",
       "\" application-id=\"application_1741207229711_0005\">Link</a></td><td><a target=\"_blank\" href=\"http://ip-172-31-71-85.ec2.internal:8042/node/containerlogs/container_1741207229711_0005_01_000001/livy\">Link</a></td><td>None</td><td>✔</td></tr></tbody></table>"
      ],
      "text/plain": [
       "<IPython.core.display.HTML object>"
      ]
     },
     "metadata": {},
     "output_type": "display_data"
    },
    {
     "data": {
      "application/vnd.jupyter.widget-view+json": {
       "model_id": "",
       "version_major": 2,
       "version_minor": 0
      },
      "text/plain": [
       "FloatProgress(value=0.0, bar_style='info', description='Progress:', layout=Layout(height='25px', width='50%'),…"
      ]
     },
     "metadata": {},
     "output_type": "display_data"
    },
    {
     "name": "stdout",
     "output_type": "stream",
     "text": [
      "SparkSession available as 'spark'.\n"
     ]
    },
    {
     "data": {
      "application/vnd.jupyter.widget-view+json": {
       "model_id": "",
       "version_major": 2,
       "version_minor": 0
      },
      "text/plain": [
       "FloatProgress(value=0.0, bar_style='info', description='Progress:', layout=Layout(height='25px', width='50%'),…"
      ]
     },
     "metadata": {},
     "output_type": "display_data"
    }
   ],
   "source": [
    "# Import libraries\n",
    "from pyspark.sql import SparkSession\n",
    "from pyspark.sql import functions as F\n",
    "from pyspark.sql.functions import col, date_format, substring, to_timestamp"
   ]
  },
  {
   "cell_type": "code",
   "execution_count": 2,
   "id": "2166f289-e6af-42bf-b15a-724089554d46",
   "metadata": {
    "colab": {
     "base_uri": "https://localhost:8080/"
    },
    "execution": {
     "iopub.execute_input": "2025-03-05T22:21:04.915150Z",
     "iopub.status.busy": "2025-03-05T22:21:04.914725Z",
     "iopub.status.idle": "2025-03-05T22:21:05.064525Z",
     "shell.execute_reply": "2025-03-05T22:21:05.056122Z",
     "shell.execute_reply.started": "2025-03-05T22:21:04.915112Z"
    },
    "id": "2166f289-e6af-42bf-b15a-724089554d46",
    "outputId": "96de78ad-e360-42b1-b948-71f61397f5c9",
    "tags": []
   },
   "outputs": [
    {
     "data": {
      "application/vnd.jupyter.widget-view+json": {
       "model_id": "f4e8a37a087c4b159ba7c180518c13f0",
       "version_major": 2,
       "version_minor": 0
      },
      "text/plain": [
       "VBox()"
      ]
     },
     "metadata": {},
     "output_type": "display_data"
    },
    {
     "data": {
      "application/vnd.jupyter.widget-view+json": {
       "model_id": "",
       "version_major": 2,
       "version_minor": 0
      },
      "text/plain": [
       "FloatProgress(value=0.0, bar_style='info', description='Progress:', layout=Layout(height='25px', width='50%'),…"
      ]
     },
     "metadata": {},
     "output_type": "display_data"
    }
   ],
   "source": [
    "# Initialize a Spark session\n",
    "spark = SparkSession.builder.appName(\"FinalProject - Data Preprocessing\").getOrCreate()"
   ]
  },
  {
   "cell_type": "markdown",
   "id": "522e2391-fa41-404e-87e7-31a5f60eee80",
   "metadata": {},
   "source": [
    "---\n",
    "### 1. Data Load - Weather Dataset"
   ]
  },
  {
   "cell_type": "code",
   "execution_count": 3,
   "id": "4845b00f",
   "metadata": {
    "execution": {
     "iopub.execute_input": "2025-03-05T22:21:05.076705Z",
     "iopub.status.busy": "2025-03-05T22:21:05.076469Z",
     "iopub.status.idle": "2025-03-05T22:21:16.478480Z",
     "shell.execute_reply": "2025-03-05T22:21:16.477681Z",
     "shell.execute_reply.started": "2025-03-05T22:21:05.076670Z"
    },
    "tags": []
   },
   "outputs": [
    {
     "data": {
      "application/vnd.jupyter.widget-view+json": {
       "model_id": "1cd3c841e3374ac59a9da7f020f5c146",
       "version_major": 2,
       "version_minor": 0
      },
      "text/plain": [
       "VBox()"
      ]
     },
     "metadata": {},
     "output_type": "display_data"
    },
    {
     "data": {
      "application/vnd.jupyter.widget-view+json": {
       "model_id": "",
       "version_major": 2,
       "version_minor": 0
      },
      "text/plain": [
       "FloatProgress(value=0.0, bar_style='info', description='Progress:', layout=Layout(height='25px', width='50%'),…"
      ]
     },
     "metadata": {},
     "output_type": "display_data"
    }
   ],
   "source": [
    "# Load the weather dataset from an S3 bucket\n",
    "weather_data_path = \"s3://csc555-jaewon/final_project/2024_chicago_hourly_weather_from_january_to_february.csv\"\n",
    "weather_df = spark.read.option(\"header\", \"true\").csv(weather_data_path)"
   ]
  },
  {
   "cell_type": "code",
   "execution_count": 4,
   "id": "89eb7444-cb7d-4990-87f7-11b2a9650774",
   "metadata": {
    "execution": {
     "iopub.execute_input": "2025-03-05T22:21:16.484182Z",
     "iopub.status.busy": "2025-03-05T22:21:16.483678Z",
     "iopub.status.idle": "2025-03-05T22:21:21.781517Z",
     "shell.execute_reply": "2025-03-05T22:21:21.780734Z",
     "shell.execute_reply.started": "2025-03-05T22:21:16.484144Z"
    },
    "tags": []
   },
   "outputs": [
    {
     "data": {
      "application/vnd.jupyter.widget-view+json": {
       "model_id": "f8c5500f3e724588a3267d4c54ad0f18",
       "version_major": 2,
       "version_minor": 0
      },
      "text/plain": [
       "VBox()"
      ]
     },
     "metadata": {},
     "output_type": "display_data"
    },
    {
     "data": {
      "application/vnd.jupyter.widget-view+json": {
       "model_id": "",
       "version_major": 2,
       "version_minor": 0
      },
      "text/plain": [
       "FloatProgress(value=0.0, bar_style='info', description='Progress:', layout=Layout(height='25px', width='50%'),…"
      ]
     },
     "metadata": {},
     "output_type": "display_data"
    }
   ],
   "source": [
    "# Get the number of rows and columns\n",
    "weather_num_rows = weather_df.count()\n",
    "weather_num_columns = len(weather_df.columns)"
   ]
  },
  {
   "cell_type": "code",
   "execution_count": 5,
   "id": "1853d38c-80b0-4f20-9724-12d19e773abc",
   "metadata": {
    "execution": {
     "iopub.execute_input": "2025-03-05T22:21:21.784854Z",
     "iopub.status.busy": "2025-03-05T22:21:21.784580Z",
     "iopub.status.idle": "2025-03-05T22:21:21.873688Z",
     "shell.execute_reply": "2025-03-05T22:21:21.872489Z",
     "shell.execute_reply.started": "2025-03-05T22:21:21.784819Z"
    },
    "tags": []
   },
   "outputs": [
    {
     "data": {
      "application/vnd.jupyter.widget-view+json": {
       "model_id": "0b0cd0715b304977957fa21219cba68d",
       "version_major": 2,
       "version_minor": 0
      },
      "text/plain": [
       "VBox()"
      ]
     },
     "metadata": {},
     "output_type": "display_data"
    },
    {
     "data": {
      "application/vnd.jupyter.widget-view+json": {
       "model_id": "",
       "version_major": 2,
       "version_minor": 0
      },
      "text/plain": [
       "FloatProgress(value=0.0, bar_style='info', description='Progress:', layout=Layout(height='25px', width='50%'),…"
      ]
     },
     "metadata": {},
     "output_type": "display_data"
    },
    {
     "name": "stdout",
     "output_type": "stream",
     "text": [
      "Rows: 8784, Columns: 8"
     ]
    }
   ],
   "source": [
    "print(f\"Rows: {weather_num_rows}, Columns: {weather_num_columns}\")"
   ]
  },
  {
   "cell_type": "code",
   "execution_count": 6,
   "id": "f67845ee-47b2-4b08-9cf6-959e2d4381c2",
   "metadata": {
    "execution": {
     "iopub.execute_input": "2025-03-05T22:21:21.877835Z",
     "iopub.status.busy": "2025-03-05T22:21:21.877342Z",
     "iopub.status.idle": "2025-03-05T22:21:23.187143Z",
     "shell.execute_reply": "2025-03-05T22:21:23.186310Z",
     "shell.execute_reply.started": "2025-03-05T22:21:21.877798Z"
    },
    "tags": []
   },
   "outputs": [
    {
     "data": {
      "application/vnd.jupyter.widget-view+json": {
       "model_id": "5abc090bcffc4d2abecc4e4bd8ff8411",
       "version_major": 2,
       "version_minor": 0
      },
      "text/plain": [
       "VBox()"
      ]
     },
     "metadata": {},
     "output_type": "display_data"
    },
    {
     "data": {
      "application/vnd.jupyter.widget-view+json": {
       "model_id": "",
       "version_major": 2,
       "version_minor": 0
      },
      "text/plain": [
       "FloatProgress(value=0.0, bar_style='info', description='Progress:', layout=Layout(height='25px', width='50%'),…"
      ]
     },
     "metadata": {},
     "output_type": "display_data"
    },
    {
     "name": "stdout",
     "output_type": "stream",
     "text": [
      "+----------------+--------------+--------------------+-------------+-------------+--------------------+-------------+-----------+\n",
      "|            time|temperature_2m|relative_humidity_2m|precipitation|windspeed_10m|apparent_temperature|windgusts_10m|weathercode|\n",
      "+----------------+--------------+--------------------+-------------+-------------+--------------------+-------------+-----------+\n",
      "|2024-01-01T00:00|             0|                  85|          0.1|         30.4|                -6.9|         44.3|         71|\n",
      "|2024-01-01T01:00|           0.1|                  86|          0.1|         30.1|                -6.7|         44.6|         71|\n",
      "|2024-01-01T02:00|           0.4|                  85|          0.1|         27.8|                -6.1|         43.6|         71|\n",
      "|2024-01-01T03:00|           0.2|                  85|            0|         25.4|                  -6|           40|          3|\n",
      "|2024-01-01T04:00|          -0.3|                  85|            0|         23.1|                -6.2|         36.4|          3|\n",
      "+----------------+--------------+--------------------+-------------+-------------+--------------------+-------------+-----------+\n",
      "only showing top 5 rows"
     ]
    }
   ],
   "source": [
    "weather_df.show(5)"
   ]
  },
  {
   "cell_type": "markdown",
   "id": "2ffd18cb-8d7f-4432-9d6a-f9e4a0cabb68",
   "metadata": {},
   "source": [
    "---\n",
    "### 2. Data Load - Taxi Dataset"
   ]
  },
  {
   "cell_type": "code",
   "execution_count": 7,
   "id": "bce95f83-65db-4bff-9478-348b1e696750",
   "metadata": {
    "execution": {
     "iopub.execute_input": "2025-03-05T22:21:23.192613Z",
     "iopub.status.busy": "2025-03-05T22:21:23.192205Z",
     "iopub.status.idle": "2025-03-05T22:21:24.457605Z",
     "shell.execute_reply": "2025-03-05T22:21:24.456571Z",
     "shell.execute_reply.started": "2025-03-05T22:21:23.192576Z"
    },
    "tags": []
   },
   "outputs": [
    {
     "data": {
      "application/vnd.jupyter.widget-view+json": {
       "model_id": "3825d5e4b13c4b66b2822b7fff579262",
       "version_major": 2,
       "version_minor": 0
      },
      "text/plain": [
       "VBox()"
      ]
     },
     "metadata": {},
     "output_type": "display_data"
    },
    {
     "data": {
      "application/vnd.jupyter.widget-view+json": {
       "model_id": "",
       "version_major": 2,
       "version_minor": 0
      },
      "text/plain": [
       "FloatProgress(value=0.0, bar_style='info', description='Progress:', layout=Layout(height='25px', width='50%'),…"
      ]
     },
     "metadata": {},
     "output_type": "display_data"
    }
   ],
   "source": [
    "# Load the taxi dataset from an S3 bucket\n",
    "taxi_data_path = \"s3://csc555-jaewon/final_project/2024_chicago_taxi_trips_from_january_to_february.csv\"\n",
    "taxi_df = spark.read.option(\"header\", \"true\").csv(taxi_data_path)"
   ]
  },
  {
   "cell_type": "code",
   "execution_count": 8,
   "id": "c79ebe94-dc35-40d8-b6d5-1fd6d55b3ffa",
   "metadata": {
    "execution": {
     "iopub.execute_input": "2025-03-05T22:21:24.460618Z",
     "iopub.status.busy": "2025-03-05T22:21:24.460394Z",
     "iopub.status.idle": "2025-03-05T22:21:29.744047Z",
     "shell.execute_reply": "2025-03-05T22:21:29.743206Z",
     "shell.execute_reply.started": "2025-03-05T22:21:24.460582Z"
    },
    "tags": []
   },
   "outputs": [
    {
     "data": {
      "application/vnd.jupyter.widget-view+json": {
       "model_id": "f65c70dd27c8499da8d8023191ec50ad",
       "version_major": 2,
       "version_minor": 0
      },
      "text/plain": [
       "VBox()"
      ]
     },
     "metadata": {},
     "output_type": "display_data"
    },
    {
     "data": {
      "application/vnd.jupyter.widget-view+json": {
       "model_id": "",
       "version_major": 2,
       "version_minor": 0
      },
      "text/plain": [
       "FloatProgress(value=0.0, bar_style='info', description='Progress:', layout=Layout(height='25px', width='50%'),…"
      ]
     },
     "metadata": {},
     "output_type": "display_data"
    }
   ],
   "source": [
    "# Get the number of rows and columns\n",
    "taxi_num_rows = taxi_df.count()\n",
    "taxi_num_columns = len(taxi_df.columns)"
   ]
  },
  {
   "cell_type": "code",
   "execution_count": 9,
   "id": "16de5a64-057a-4790-a92b-e8488285af58",
   "metadata": {
    "execution": {
     "iopub.execute_input": "2025-03-05T22:21:29.748145Z",
     "iopub.status.busy": "2025-03-05T22:21:29.747603Z",
     "iopub.status.idle": "2025-03-05T22:21:29.823290Z",
     "shell.execute_reply": "2025-03-05T22:21:29.813193Z",
     "shell.execute_reply.started": "2025-03-05T22:21:29.748108Z"
    },
    "tags": []
   },
   "outputs": [
    {
     "data": {
      "application/vnd.jupyter.widget-view+json": {
       "model_id": "f8475256d1fe4bce9726bc6872c00120",
       "version_major": 2,
       "version_minor": 0
      },
      "text/plain": [
       "VBox()"
      ]
     },
     "metadata": {},
     "output_type": "display_data"
    },
    {
     "data": {
      "application/vnd.jupyter.widget-view+json": {
       "model_id": "",
       "version_major": 2,
       "version_minor": 0
      },
      "text/plain": [
       "FloatProgress(value=0.0, bar_style='info', description='Progress:', layout=Layout(height='25px', width='50%'),…"
      ]
     },
     "metadata": {},
     "output_type": "display_data"
    },
    {
     "name": "stdout",
     "output_type": "stream",
     "text": [
      "Rows: 865208, Columns: 23"
     ]
    }
   ],
   "source": [
    "print(f\"Rows: {taxi_num_rows}, Columns: {taxi_num_columns}\")"
   ]
  },
  {
   "cell_type": "code",
   "execution_count": 10,
   "id": "08e350ec-bb30-46b8-9517-548dfffbddb0",
   "metadata": {
    "execution": {
     "iopub.execute_input": "2025-03-05T22:21:29.849789Z",
     "iopub.status.busy": "2025-03-05T22:21:29.847144Z",
     "iopub.status.idle": "2025-03-05T22:21:31.149316Z",
     "shell.execute_reply": "2025-03-05T22:21:31.148244Z",
     "shell.execute_reply.started": "2025-03-05T22:21:29.849722Z"
    },
    "tags": []
   },
   "outputs": [
    {
     "data": {
      "application/vnd.jupyter.widget-view+json": {
       "model_id": "6fabe5eae1be4b09a09ab73f9f6eb2e5",
       "version_major": 2,
       "version_minor": 0
      },
      "text/plain": [
       "VBox()"
      ]
     },
     "metadata": {},
     "output_type": "display_data"
    },
    {
     "data": {
      "application/vnd.jupyter.widget-view+json": {
       "model_id": "",
       "version_major": 2,
       "version_minor": 0
      },
      "text/plain": [
       "FloatProgress(value=0.0, bar_style='info', description='Progress:', layout=Layout(height='25px', width='50%'),…"
      ]
     },
     "metadata": {},
     "output_type": "display_data"
    },
    {
     "name": "stdout",
     "output_type": "stream",
     "text": [
      "+--------------------+--------------------+--------------------+------------------+------------+----------+-------------------+--------------------+---------------------+----------------------+-----+----+-----+------+----------+------------+--------------------+------------------------+-------------------------+------------------------+-------------------------+--------------------------+--------------------------+\n",
      "|             Trip ID|             Taxi ID|Trip Start Timestamp|Trip End Timestamp|Trip Seconds|Trip Miles|Pickup Census Tract|Dropoff Census Tract|Pickup Community Area|Dropoff Community Area| Fare|Tips|Tolls|Extras|Trip Total|Payment Type|             Company|Pickup Centroid Latitude|Pickup Centroid Longitude|Pickup Centroid Location|Dropoff Centroid Latitude|Dropoff Centroid Longitude|Dropoff Centroid  Location|\n",
      "+--------------------+--------------------+--------------------+------------------+------------+----------+-------------------+--------------------+---------------------+----------------------+-----+----+-----+------+----------+------------+--------------------+------------------------+-------------------------+------------------------+-------------------------+--------------------------+--------------------------+\n",
      "|60ee4f36a78ca1fc6...|5cfef538e74c1d5c6...|     2/29/2024 23:45|     3/1/2024 0:15|        1643|     12.91|               NULL|                NULL|                   76|                  NULL|   34|   0|    0|     4|        38|        Cash|            Sun Taxi|             41.98026432|              -87.9136246|    POINT (-87.913624...|                     NULL|                      NULL|                      NULL|\n",
      "|edcc84164819a8b9e...|a3bc50ed4e7b5de8e...|     2/29/2024 23:45|   2/29/2024 23:45|           6|         0|               NULL|                NULL|                    8|                     8|    8|   2|    0|     0|      10.5| Credit Card|            Sun Taxi|             41.89960211|             -87.63330804|    POINT (-87.633308...|              41.89960211|              -87.63330804|      POINT (-87.633308...|\n",
      "|54cc446bd337e9b94...|6c87f1d023a9d7146...|     2/29/2024 23:45|     3/1/2024 0:15|        1500|       9.5|               NULL|                NULL|                   32|                     4|26.75|7.05|    0|     1|      34.8| Credit Card|Taxi Affiliation ...|             41.87886558|             -87.62519214|    POINT (-87.625192...|              41.97517094|              -87.68751552|      POINT (-87.687515...|\n",
      "|649862631660ced15...|4001d6fc76fe3a718...|     2/29/2024 23:45|     3/1/2024 0:00|        1378|      10.1|               NULL|                NULL|                   28|                     3|26.75|5.45|    0|     0|      32.7| Credit Card|            Sun Taxi|             41.87400538|             -87.66351755|    POINT (-87.663517...|              41.96581197|              -87.65587879|      POINT (-87.655878...|\n",
      "|352def77e848700ab...|175a4c9a16e22bfd2...|     2/29/2024 23:45|     3/1/2024 0:00|         791|      3.54|               NULL|                NULL|                   77|                  NULL|   12|  10|    0|     0|        22|      Mobile|            Sun Taxi|              41.9867118|             -87.66341641|    POINT (-87.663416...|                     NULL|                      NULL|                      NULL|\n",
      "+--------------------+--------------------+--------------------+------------------+------------+----------+-------------------+--------------------+---------------------+----------------------+-----+----+-----+------+----------+------------+--------------------+------------------------+-------------------------+------------------------+-------------------------+--------------------------+--------------------------+\n",
      "only showing top 5 rows"
     ]
    }
   ],
   "source": [
    "taxi_df.show(5)"
   ]
  },
  {
   "cell_type": "markdown",
   "id": "6c944ca8-2797-4e00-94e2-cf4b9fd44ce8",
   "metadata": {},
   "source": [
    "---\n",
    "### 3. Data Preprocessing - Weather Dataset"
   ]
  },
  {
   "cell_type": "code",
   "execution_count": 11,
   "id": "e414843b-cce0-4b2f-a40a-07d8368fbb02",
   "metadata": {
    "execution": {
     "iopub.execute_input": "2025-03-05T22:21:31.153993Z",
     "iopub.status.busy": "2025-03-05T22:21:31.153395Z",
     "iopub.status.idle": "2025-03-05T22:21:31.461971Z",
     "shell.execute_reply": "2025-03-05T22:21:31.461265Z",
     "shell.execute_reply.started": "2025-03-05T22:21:31.153956Z"
    }
   },
   "outputs": [
    {
     "data": {
      "application/vnd.jupyter.widget-view+json": {
       "model_id": "5fdd2fadf25241ea98e2fc54ef9cfac5",
       "version_major": 2,
       "version_minor": 0
      },
      "text/plain": [
       "VBox()"
      ]
     },
     "metadata": {},
     "output_type": "display_data"
    },
    {
     "data": {
      "application/vnd.jupyter.widget-view+json": {
       "model_id": "",
       "version_major": 2,
       "version_minor": 0
      },
      "text/plain": [
       "FloatProgress(value=0.0, bar_style='info', description='Progress:', layout=Layout(height='25px', width='50%'),…"
      ]
     },
     "metadata": {},
     "output_type": "display_data"
    }
   ],
   "source": [
    "# Create a new column by formatting the timestamp\n",
    "weather_df = weather_df.withColumn(\"Hour Slot\", date_format(to_timestamp(col(\"time\"), \"yyyy-MM-dd'T'HH:mm\"), \"MM/dd/yyyy HH\"))"
   ]
  },
  {
   "cell_type": "code",
   "execution_count": 12,
   "id": "188b0c1b-923c-454e-8a1c-d9838e87e0a6",
   "metadata": {
    "execution": {
     "iopub.execute_input": "2025-03-05T22:21:31.466078Z",
     "iopub.status.busy": "2025-03-05T22:21:31.465805Z",
     "iopub.status.idle": "2025-03-05T22:21:31.740125Z",
     "shell.execute_reply": "2025-03-05T22:21:31.738539Z",
     "shell.execute_reply.started": "2025-03-05T22:21:31.466041Z"
    },
    "tags": []
   },
   "outputs": [
    {
     "data": {
      "application/vnd.jupyter.widget-view+json": {
       "model_id": "f5d0351809ef4755b25831008a17fef5",
       "version_major": 2,
       "version_minor": 0
      },
      "text/plain": [
       "VBox()"
      ]
     },
     "metadata": {},
     "output_type": "display_data"
    },
    {
     "data": {
      "application/vnd.jupyter.widget-view+json": {
       "model_id": "",
       "version_major": 2,
       "version_minor": 0
      },
      "text/plain": [
       "FloatProgress(value=0.0, bar_style='info', description='Progress:', layout=Layout(height='25px', width='50%'),…"
      ]
     },
     "metadata": {},
     "output_type": "display_data"
    }
   ],
   "source": [
    "# Cast columns to float type\n",
    "weather_df = weather_df.withColumn(\"temperature_2m\", col(\"temperature_2m\").cast(\"float\")) \\\n",
    "                       .withColumn(\"relative_humidity_2m\", col(\"relative_humidity_2m\").cast(\"float\")) \\\n",
    "                       .withColumn(\"precipitation\", col(\"precipitation\").cast(\"float\")) \\\n",
    "                       .withColumn(\"windspeed_10m\", col(\"windspeed_10m\").cast(\"float\")) \\\n",
    "                       .withColumn(\"apparent_temperature\", col(\"apparent_temperature\").cast(\"float\")) \\\n",
    "                       .withColumn(\"windgusts_10m\", col(\"windgusts_10m\").cast(\"float\"))"
   ]
  },
  {
   "cell_type": "code",
   "execution_count": 13,
   "id": "addde4e0-d1a6-4612-9604-16046953d57c",
   "metadata": {
    "execution": {
     "iopub.execute_input": "2025-03-05T22:21:31.744159Z",
     "iopub.status.busy": "2025-03-05T22:21:31.743572Z",
     "iopub.status.idle": "2025-03-05T22:21:31.811123Z",
     "shell.execute_reply": "2025-03-05T22:21:31.810260Z",
     "shell.execute_reply.started": "2025-03-05T22:21:31.744122Z"
    },
    "tags": []
   },
   "outputs": [
    {
     "data": {
      "application/vnd.jupyter.widget-view+json": {
       "model_id": "193c27c1f8e54652b0061466d514c823",
       "version_major": 2,
       "version_minor": 0
      },
      "text/plain": [
       "VBox()"
      ]
     },
     "metadata": {},
     "output_type": "display_data"
    },
    {
     "data": {
      "application/vnd.jupyter.widget-view+json": {
       "model_id": "",
       "version_major": 2,
       "version_minor": 0
      },
      "text/plain": [
       "FloatProgress(value=0.0, bar_style='info', description='Progress:', layout=Layout(height='25px', width='50%'),…"
      ]
     },
     "metadata": {},
     "output_type": "display_data"
    },
    {
     "name": "stdout",
     "output_type": "stream",
     "text": [
      "root\n",
      " |-- time: string (nullable = true)\n",
      " |-- temperature_2m: float (nullable = true)\n",
      " |-- relative_humidity_2m: float (nullable = true)\n",
      " |-- precipitation: float (nullable = true)\n",
      " |-- windspeed_10m: float (nullable = true)\n",
      " |-- apparent_temperature: float (nullable = true)\n",
      " |-- windgusts_10m: float (nullable = true)\n",
      " |-- weathercode: string (nullable = true)\n",
      " |-- Hour Slot: string (nullable = true)"
     ]
    }
   ],
   "source": [
    "weather_df.printSchema()"
   ]
  },
  {
   "cell_type": "code",
   "execution_count": 14,
   "id": "a2687d4a-5a41-4e92-80d2-5f2a56be8d34",
   "metadata": {
    "execution": {
     "iopub.execute_input": "2025-03-05T22:21:31.814517Z",
     "iopub.status.busy": "2025-03-05T22:21:31.814209Z",
     "iopub.status.idle": "2025-03-05T22:21:33.128194Z",
     "shell.execute_reply": "2025-03-05T22:21:33.127250Z",
     "shell.execute_reply.started": "2025-03-05T22:21:31.814479Z"
    }
   },
   "outputs": [
    {
     "data": {
      "application/vnd.jupyter.widget-view+json": {
       "model_id": "adf8bdcd3c134902a10f50d3fef67821",
       "version_major": 2,
       "version_minor": 0
      },
      "text/plain": [
       "VBox()"
      ]
     },
     "metadata": {},
     "output_type": "display_data"
    },
    {
     "data": {
      "application/vnd.jupyter.widget-view+json": {
       "model_id": "",
       "version_major": 2,
       "version_minor": 0
      },
      "text/plain": [
       "FloatProgress(value=0.0, bar_style='info', description='Progress:', layout=Layout(height='25px', width='50%'),…"
      ]
     },
     "metadata": {},
     "output_type": "display_data"
    },
    {
     "name": "stdout",
     "output_type": "stream",
     "text": [
      "+----------------+--------------+--------------------+-------------+-------------+--------------------+-------------+-----------+-------------+\n",
      "|            time|temperature_2m|relative_humidity_2m|precipitation|windspeed_10m|apparent_temperature|windgusts_10m|weathercode|    Hour Slot|\n",
      "+----------------+--------------+--------------------+-------------+-------------+--------------------+-------------+-----------+-------------+\n",
      "|2024-01-01T00:00|           0.0|                85.0|          0.1|         30.4|                -6.9|         44.3|         71|01/01/2024 00|\n",
      "|2024-01-01T01:00|           0.1|                86.0|          0.1|         30.1|                -6.7|         44.6|         71|01/01/2024 01|\n",
      "|2024-01-01T02:00|           0.4|                85.0|          0.1|         27.8|                -6.1|         43.6|         71|01/01/2024 02|\n",
      "|2024-01-01T03:00|           0.2|                85.0|          0.0|         25.4|                -6.0|         40.0|          3|01/01/2024 03|\n",
      "|2024-01-01T04:00|          -0.3|                85.0|          0.0|         23.1|                -6.2|         36.4|          3|01/01/2024 04|\n",
      "+----------------+--------------+--------------------+-------------+-------------+--------------------+-------------+-----------+-------------+\n",
      "only showing top 5 rows"
     ]
    }
   ],
   "source": [
    "weather_df.show(5)"
   ]
  },
  {
   "cell_type": "markdown",
   "id": "0432e61c-d1df-4815-af56-b902b2345e72",
   "metadata": {},
   "source": [
    "---\n",
    "### 4. Data Preprocessing - Taxi Dataset"
   ]
  },
  {
   "cell_type": "code",
   "execution_count": 15,
   "id": "b3d7a5eb-8bbd-4e3b-952e-331b4634b9af",
   "metadata": {
    "execution": {
     "iopub.execute_input": "2025-03-05T22:21:33.132783Z",
     "iopub.status.busy": "2025-03-05T22:21:33.132148Z",
     "iopub.status.idle": "2025-03-05T22:21:33.198241Z",
     "shell.execute_reply": "2025-03-05T22:21:33.197464Z",
     "shell.execute_reply.started": "2025-03-05T22:21:33.132755Z"
    },
    "tags": []
   },
   "outputs": [
    {
     "data": {
      "application/vnd.jupyter.widget-view+json": {
       "model_id": "768e87288ca2450cb1028c05d31ff878",
       "version_major": 2,
       "version_minor": 0
      },
      "text/plain": [
       "VBox()"
      ]
     },
     "metadata": {},
     "output_type": "display_data"
    },
    {
     "data": {
      "application/vnd.jupyter.widget-view+json": {
       "model_id": "",
       "version_major": 2,
       "version_minor": 0
      },
      "text/plain": [
       "FloatProgress(value=0.0, bar_style='info', description='Progress:', layout=Layout(height='25px', width='50%'),…"
      ]
     },
     "metadata": {},
     "output_type": "display_data"
    }
   ],
   "source": [
    "# Select the column\n",
    "taxi_df = taxi_df.select(\"Trip Start Timestamp\")"
   ]
  },
  {
   "cell_type": "code",
   "execution_count": 16,
   "id": "75d0660d-127c-4014-839c-3395a1756792",
   "metadata": {
    "execution": {
     "iopub.execute_input": "2025-03-05T22:21:33.206686Z",
     "iopub.status.busy": "2025-03-05T22:21:33.206290Z",
     "iopub.status.idle": "2025-03-05T22:21:33.510624Z",
     "shell.execute_reply": "2025-03-05T22:21:33.509958Z",
     "shell.execute_reply.started": "2025-03-05T22:21:33.206649Z"
    },
    "tags": []
   },
   "outputs": [
    {
     "data": {
      "application/vnd.jupyter.widget-view+json": {
       "model_id": "ea621925a1ed461aa41c3dc690b93905",
       "version_major": 2,
       "version_minor": 0
      },
      "text/plain": [
       "VBox()"
      ]
     },
     "metadata": {},
     "output_type": "display_data"
    },
    {
     "data": {
      "application/vnd.jupyter.widget-view+json": {
       "model_id": "",
       "version_major": 2,
       "version_minor": 0
      },
      "text/plain": [
       "FloatProgress(value=0.0, bar_style='info', description='Progress:', layout=Layout(height='25px', width='50%'),…"
      ]
     },
     "metadata": {},
     "output_type": "display_data"
    }
   ],
   "source": [
    "# Create a new column by formatting the timestamp\n",
    "taxi_df = taxi_df.withColumn(\"Formatted Timestamp\",\n",
    "                             F.date_format(F.to_timestamp(F.col(\"Trip Start Timestamp\"), \"M/d/yyyy HH:mm\"), \"MM/dd/yyyy HH:mm\"))"
   ]
  },
  {
   "cell_type": "code",
   "execution_count": 17,
   "id": "dd4b5c79-7b2a-4075-9cb5-2ce17aa0819e",
   "metadata": {
    "execution": {
     "iopub.execute_input": "2025-03-05T22:21:33.516688Z",
     "iopub.status.busy": "2025-03-05T22:21:33.516459Z",
     "iopub.status.idle": "2025-03-05T22:21:33.604149Z",
     "shell.execute_reply": "2025-03-05T22:21:33.601894Z",
     "shell.execute_reply.started": "2025-03-05T22:21:33.516654Z"
    },
    "tags": []
   },
   "outputs": [
    {
     "data": {
      "application/vnd.jupyter.widget-view+json": {
       "model_id": "123d30eab8e945c8bc4c7473c3d6bfae",
       "version_major": 2,
       "version_minor": 0
      },
      "text/plain": [
       "VBox()"
      ]
     },
     "metadata": {},
     "output_type": "display_data"
    },
    {
     "data": {
      "application/vnd.jupyter.widget-view+json": {
       "model_id": "",
       "version_major": 2,
       "version_minor": 0
      },
      "text/plain": [
       "FloatProgress(value=0.0, bar_style='info', description='Progress:', layout=Layout(height='25px', width='50%'),…"
      ]
     },
     "metadata": {},
     "output_type": "display_data"
    }
   ],
   "source": [
    "# Extract the \"Hour Slot\" from the \"Formatted Timestamp\" column\n",
    "taxi_df = taxi_df.withColumn(\"Hour Slot\", F.substring(F.col(\"Formatted Timestamp\"), 1, 13))"
   ]
  },
  {
   "cell_type": "code",
   "execution_count": 18,
   "id": "088a2ef3-0744-430f-bdfe-81899693cfc6",
   "metadata": {
    "execution": {
     "iopub.execute_input": "2025-03-05T22:21:33.618729Z",
     "iopub.status.busy": "2025-03-05T22:21:33.618371Z",
     "iopub.status.idle": "2025-03-05T22:21:33.896000Z",
     "shell.execute_reply": "2025-03-05T22:21:33.894658Z",
     "shell.execute_reply.started": "2025-03-05T22:21:33.618691Z"
    },
    "tags": []
   },
   "outputs": [
    {
     "data": {
      "application/vnd.jupyter.widget-view+json": {
       "model_id": "84c443eed64041f386abce5aedefd7c5",
       "version_major": 2,
       "version_minor": 0
      },
      "text/plain": [
       "VBox()"
      ]
     },
     "metadata": {},
     "output_type": "display_data"
    },
    {
     "data": {
      "application/vnd.jupyter.widget-view+json": {
       "model_id": "",
       "version_major": 2,
       "version_minor": 0
      },
      "text/plain": [
       "FloatProgress(value=0.0, bar_style='info', description='Progress:', layout=Layout(height='25px', width='50%'),…"
      ]
     },
     "metadata": {},
     "output_type": "display_data"
    }
   ],
   "source": [
    "# Count the number of taxi trips for each hour slot\n",
    "spark.conf.set(\"spark.sql.legacy.timeParserPolicy\", \"LEGACY\") # Set the legacy time parser policy\n",
    "taxi_count_df = taxi_df.groupBy('Hour Slot').count().orderBy('Hour Slot')"
   ]
  },
  {
   "cell_type": "code",
   "execution_count": 19,
   "id": "fb96cf15-9954-4a39-8612-042415f03081",
   "metadata": {
    "execution": {
     "iopub.execute_input": "2025-03-05T22:21:33.899540Z",
     "iopub.status.busy": "2025-03-05T22:21:33.899240Z",
     "iopub.status.idle": "2025-03-05T22:21:43.194690Z",
     "shell.execute_reply": "2025-03-05T22:21:43.193719Z",
     "shell.execute_reply.started": "2025-03-05T22:21:33.899504Z"
    }
   },
   "outputs": [
    {
     "data": {
      "application/vnd.jupyter.widget-view+json": {
       "model_id": "db7ecbbe1e8141f2b61970d1a124fef6",
       "version_major": 2,
       "version_minor": 0
      },
      "text/plain": [
       "VBox()"
      ]
     },
     "metadata": {},
     "output_type": "display_data"
    },
    {
     "data": {
      "application/vnd.jupyter.widget-view+json": {
       "model_id": "",
       "version_major": 2,
       "version_minor": 0
      },
      "text/plain": [
       "FloatProgress(value=0.0, bar_style='info', description='Progress:', layout=Layout(height='25px', width='50%'),…"
      ]
     },
     "metadata": {},
     "output_type": "display_data"
    },
    {
     "name": "stdout",
     "output_type": "stream",
     "text": [
      "+-------------+-----+\n",
      "|    Hour Slot|count|\n",
      "+-------------+-----+\n",
      "|01/01/2024 00|  462|\n",
      "|01/01/2024 01|  522|\n",
      "|01/01/2024 02|  490|\n",
      "|01/01/2024 03|  269|\n",
      "|01/01/2024 04|  150|\n",
      "+-------------+-----+\n",
      "only showing top 5 rows"
     ]
    }
   ],
   "source": [
    "taxi_count_df.show(5)"
   ]
  },
  {
   "cell_type": "code",
   "execution_count": 20,
   "id": "713c3baf-64e5-48c7-8786-955c948c671a",
   "metadata": {
    "execution": {
     "iopub.execute_input": "2025-03-05T22:21:43.199611Z",
     "iopub.status.busy": "2025-03-05T22:21:43.199019Z",
     "iopub.status.idle": "2025-03-05T22:21:50.611224Z",
     "shell.execute_reply": "2025-03-05T22:21:50.610130Z",
     "shell.execute_reply.started": "2025-03-05T22:21:43.199573Z"
    },
    "tags": []
   },
   "outputs": [
    {
     "data": {
      "application/vnd.jupyter.widget-view+json": {
       "model_id": "bce363832fd441279753da62216da654",
       "version_major": 2,
       "version_minor": 0
      },
      "text/plain": [
       "VBox()"
      ]
     },
     "metadata": {},
     "output_type": "display_data"
    },
    {
     "data": {
      "application/vnd.jupyter.widget-view+json": {
       "model_id": "",
       "version_major": 2,
       "version_minor": 0
      },
      "text/plain": [
       "FloatProgress(value=0.0, bar_style='info', description='Progress:', layout=Layout(height='25px', width='50%'),…"
      ]
     },
     "metadata": {},
     "output_type": "display_data"
    },
    {
     "name": "stdout",
     "output_type": "stream",
     "text": [
      "Taxi trip count has been successfully completed."
     ]
    }
   ],
   "source": [
    "# Check if the total count matches the initial row count of the taxi dataset\n",
    "total_count = taxi_count_df.agg(F.sum('count').alias('total_count')).collect() # Sum the total number of taxi trips\n",
    "if total_count[0]['total_count'] == taxi_num_rows:\n",
    "    print(\"Taxi trip count has been successfully completed.\")\n",
    "else:\n",
    "    print(\"There was an issue with the taxi trip count.\")"
   ]
  },
  {
   "cell_type": "markdown",
   "id": "f9da782e-30d3-4b05-8406-2c0343ce4e3f",
   "metadata": {},
   "source": [
    "---\n",
    "### 5. Data Merging  - Merged Dataset"
   ]
  },
  {
   "cell_type": "code",
   "execution_count": 21,
   "id": "5d83bc85-aac7-44b7-8f23-9a1ec72550ad",
   "metadata": {
    "execution": {
     "iopub.execute_input": "2025-03-05T22:21:50.615114Z",
     "iopub.status.busy": "2025-03-05T22:21:50.614809Z",
     "iopub.status.idle": "2025-03-05T22:21:50.871869Z",
     "shell.execute_reply": "2025-03-05T22:21:50.871062Z",
     "shell.execute_reply.started": "2025-03-05T22:21:50.614997Z"
    },
    "tags": []
   },
   "outputs": [
    {
     "data": {
      "application/vnd.jupyter.widget-view+json": {
       "model_id": "fc1574a57c33437ca4c8d520f6c0b8df",
       "version_major": 2,
       "version_minor": 0
      },
      "text/plain": [
       "VBox()"
      ]
     },
     "metadata": {},
     "output_type": "display_data"
    },
    {
     "data": {
      "application/vnd.jupyter.widget-view+json": {
       "model_id": "",
       "version_major": 2,
       "version_minor": 0
      },
      "text/plain": [
       "FloatProgress(value=0.0, bar_style='info', description='Progress:', layout=Layout(height='25px', width='50%'),…"
      ]
     },
     "metadata": {},
     "output_type": "display_data"
    }
   ],
   "source": [
    "# Merge the datasets\n",
    "merged_df = taxi_count_df.join(weather_df, on = \"Hour Slot\", how = \"inner\")\n",
    "merged_df = merged_df.orderBy(\"Hour Slot\", ascending = True)"
   ]
  },
  {
   "cell_type": "code",
   "execution_count": 22,
   "id": "b377e439-5b74-4ff5-bb16-d4cf8564a882",
   "metadata": {
    "execution": {
     "iopub.execute_input": "2025-03-05T22:21:50.878191Z",
     "iopub.status.busy": "2025-03-05T22:21:50.877712Z",
     "iopub.status.idle": "2025-03-05T22:21:58.232195Z",
     "shell.execute_reply": "2025-03-05T22:21:58.231355Z",
     "shell.execute_reply.started": "2025-03-05T22:21:50.878153Z"
    },
    "tags": []
   },
   "outputs": [
    {
     "data": {
      "application/vnd.jupyter.widget-view+json": {
       "model_id": "ec3fc8c3d27a453bb2ea1eab0611fd18",
       "version_major": 2,
       "version_minor": 0
      },
      "text/plain": [
       "VBox()"
      ]
     },
     "metadata": {},
     "output_type": "display_data"
    },
    {
     "data": {
      "application/vnd.jupyter.widget-view+json": {
       "model_id": "",
       "version_major": 2,
       "version_minor": 0
      },
      "text/plain": [
       "FloatProgress(value=0.0, bar_style='info', description='Progress:', layout=Layout(height='25px', width='50%'),…"
      ]
     },
     "metadata": {},
     "output_type": "display_data"
    },
    {
     "name": "stdout",
     "output_type": "stream",
     "text": [
      "+-------------+-----+----------------+--------------+--------------------+-------------+-------------+--------------------+-------------+-----------+\n",
      "|    Hour Slot|count|            time|temperature_2m|relative_humidity_2m|precipitation|windspeed_10m|apparent_temperature|windgusts_10m|weathercode|\n",
      "+-------------+-----+----------------+--------------+--------------------+-------------+-------------+--------------------+-------------+-----------+\n",
      "|01/01/2024 00|  462|2024-01-01T00:00|           0.0|                85.0|          0.1|         30.4|                -6.9|         44.3|         71|\n",
      "|01/01/2024 01|  522|2024-01-01T01:00|           0.1|                86.0|          0.1|         30.1|                -6.7|         44.6|         71|\n",
      "|01/01/2024 02|  490|2024-01-01T02:00|           0.4|                85.0|          0.1|         27.8|                -6.1|         43.6|         71|\n",
      "|01/01/2024 03|  269|2024-01-01T03:00|           0.2|                85.0|          0.0|         25.4|                -6.0|         40.0|          3|\n",
      "|01/01/2024 04|  150|2024-01-01T04:00|          -0.3|                85.0|          0.0|         23.1|                -6.2|         36.4|          3|\n",
      "+-------------+-----+----------------+--------------+--------------------+-------------+-------------+--------------------+-------------+-----------+\n",
      "only showing top 5 rows"
     ]
    }
   ],
   "source": [
    "merged_df.show(5)"
   ]
  },
  {
   "cell_type": "markdown",
   "id": "aa1b5eaa-159b-46cb-8ad2-7f65e00ce1b9",
   "metadata": {},
   "source": [
    "---\n",
    "### 6. Data Export to S3 - Merged Dataset"
   ]
  },
  {
   "cell_type": "code",
   "execution_count": 23,
   "id": "6a48924b-ca66-412c-b528-24ee839bd9dd",
   "metadata": {
    "execution": {
     "iopub.execute_input": "2025-03-05T22:21:58.237017Z",
     "iopub.status.busy": "2025-03-05T22:21:58.236538Z",
     "iopub.status.idle": "2025-03-05T22:22:07.555780Z",
     "shell.execute_reply": "2025-03-05T22:22:07.554515Z",
     "shell.execute_reply.started": "2025-03-05T22:21:58.236980Z"
    }
   },
   "outputs": [
    {
     "data": {
      "application/vnd.jupyter.widget-view+json": {
       "model_id": "b2c6be7245c148f89329a0a091d4a727",
       "version_major": 2,
       "version_minor": 0
      },
      "text/plain": [
       "VBox()"
      ]
     },
     "metadata": {},
     "output_type": "display_data"
    },
    {
     "data": {
      "application/vnd.jupyter.widget-view+json": {
       "model_id": "",
       "version_major": 2,
       "version_minor": 0
      },
      "text/plain": [
       "FloatProgress(value=0.0, bar_style='info', description='Progress:', layout=Layout(height='25px', width='50%'),…"
      ]
     },
     "metadata": {},
     "output_type": "display_data"
    }
   ],
   "source": [
    "# Export the merged dataset to an S3 bucket as a CSV file\n",
    "merged_df.write.csv(\"s3://csc555-jaewon/final_project/2024_chicago_merged_dataset.csv\", header = True)"
   ]
  },
  {
   "cell_type": "code",
   "execution_count": null,
   "id": "92b13bed-ba34-4d8b-aeef-8dab207de609",
   "metadata": {},
   "outputs": [],
   "source": []
  }
 ],
 "metadata": {
  "colab": {
   "provenance": []
  },
  "kernelspec": {
   "display_name": "PySpark",
   "language": "python",
   "name": "pysparkkernel"
  },
  "language_info": {
   "codemirror_mode": {
    "name": "python",
    "version": 3
   },
   "file_extension": ".py",
   "mimetype": "text/x-python",
   "name": "pyspark",
   "pygments_lexer": "python3"
  }
 },
 "nbformat": 4,
 "nbformat_minor": 5
}
