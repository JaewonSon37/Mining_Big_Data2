{
 "cells": [
  {
   "cell_type": "markdown",
   "id": "b4f6293c",
   "metadata": {
    "id": "b4f6293c"
   },
   "source": [
    "## Exploratory Data Analysis with PySpark\n",
    "---"
   ]
  },
  {
   "cell_type": "code",
   "execution_count": 1,
   "id": "9a60d1aa-affe-4908-a322-1d98b28a30ed",
   "metadata": {
    "execution": {
     "iopub.execute_input": "2025-03-06T22:19:43.772431Z",
     "iopub.status.busy": "2025-03-06T22:19:43.770883Z",
     "iopub.status.idle": "2025-03-06T22:21:30.136456Z",
     "shell.execute_reply": "2025-03-06T22:21:30.135671Z",
     "shell.execute_reply.started": "2025-03-06T22:19:43.772383Z"
    },
    "tags": []
   },
   "outputs": [
    {
     "data": {
      "application/vnd.jupyter.widget-view+json": {
       "model_id": "2213c3f0636541a0b0b23d2dc7d17b7f",
       "version_major": 2,
       "version_minor": 0
      },
      "text/plain": [
       "VBox()"
      ]
     },
     "metadata": {},
     "output_type": "display_data"
    },
    {
     "name": "stdout",
     "output_type": "stream",
     "text": [
      "Starting Spark application\n"
     ]
    },
    {
     "data": {
      "text/html": [
       "<table>\n",
       "<tbody><tr><th>ID</th><th>YARN Application ID</th><th>Kind</th><th>State</th><th>Spark UI</th><th>Driver log</th><th>User</th><th>Current session?</th></tr><tr><td>4</td><td>application_1741295189031_0005</td><td>pyspark</td><td>idle</td><td><a target=\"_blank\" href=\"http://ip-172-31-71-133.ec2.internal:20888/proxy/application_1741295189031_0005/\" class=\"emr-proxy-link j-3FY3MWIREEBW7 application_1741295189031_0005\" emr-resource=\"j-3FY3MWIREEBW7\n",
       "\" application-id=\"application_1741295189031_0005\">Link</a></td><td><a target=\"_blank\" href=\"http://ip-172-31-76-87.ec2.internal:8042/node/containerlogs/container_1741295189031_0005_01_000001/livy\">Link</a></td><td>None</td><td>✔</td></tr></tbody></table>"
      ],
      "text/plain": [
       "<IPython.core.display.HTML object>"
      ]
     },
     "metadata": {},
     "output_type": "display_data"
    },
    {
     "data": {
      "application/vnd.jupyter.widget-view+json": {
       "model_id": "",
       "version_major": 2,
       "version_minor": 0
      },
      "text/plain": [
       "FloatProgress(value=0.0, bar_style='info', description='Progress:', layout=Layout(height='25px', width='50%'),…"
      ]
     },
     "metadata": {},
     "output_type": "display_data"
    },
    {
     "name": "stdout",
     "output_type": "stream",
     "text": [
      "SparkSession available as 'spark'.\n"
     ]
    },
    {
     "data": {
      "application/vnd.jupyter.widget-view+json": {
       "model_id": "",
       "version_major": 2,
       "version_minor": 0
      },
      "text/plain": [
       "FloatProgress(value=0.0, bar_style='info', description='Progress:', layout=Layout(height='25px', width='50%'),…"
      ]
     },
     "metadata": {},
     "output_type": "display_data"
    },
    {
     "name": "stdout",
     "output_type": "stream",
     "text": [
      "Collecting pandas\n",
      "  Downloading pandas-2.2.3-cp39-cp39-manylinux_2_17_x86_64.manylinux2014_x86_64.whl (13.1 MB)\n",
      "Collecting tzdata>=2022.7\n",
      "  Downloading tzdata-2025.1-py2.py3-none-any.whl (346 kB)\n",
      "Collecting python-dateutil>=2.8.2\n",
      "  Downloading python_dateutil-2.9.0.post0-py2.py3-none-any.whl (229 kB)\n",
      "Collecting numpy>=1.22.4\n",
      "  Downloading numpy-2.0.2-cp39-cp39-manylinux_2_17_x86_64.manylinux2014_x86_64.whl (19.5 MB)\n",
      "Requirement already satisfied: pytz>=2020.1 in /usr/local/lib/python3.9/site-packages (from pandas) (2024.2)\n",
      "Requirement already satisfied: six>=1.5 in /usr/local/lib/python3.9/site-packages (from python-dateutil>=2.8.2->pandas) (1.13.0)\n",
      "Installing collected packages: tzdata, python-dateutil, numpy, pandas\n",
      "  Attempting uninstall: python-dateutil\n",
      "    Found existing installation: python-dateutil 2.8.1\n",
      "    Not uninstalling python-dateutil at /usr/lib/python3.9/site-packages, outside environment /mnt/yarn/usercache/livy/appcache/application_1741295189031_0005/container_1741295189031_0005_01_000001/tmp/spark-05792363-6c8e-4aea-8337-885fae8083eb\n",
      "    Can't uninstall 'python-dateutil'. No files were found to uninstall.\n",
      "Successfully installed numpy-2.0.2 pandas-2.2.3 python-dateutil-2.9.0.post0 tzdata-2025.1\n",
      "\n",
      "Requirement already satisfied: numpy in ./tmp/spark-05792363-6c8e-4aea-8337-885fae8083eb/lib64/python3.9/site-packages (2.0.2)\n",
      "\n",
      "Collecting seaborn\n",
      "  Downloading seaborn-0.13.2-py3-none-any.whl (294 kB)\n",
      "Requirement already satisfied: pandas>=1.2 in ./tmp/spark-05792363-6c8e-4aea-8337-885fae8083eb/lib64/python3.9/site-packages (from seaborn) (2.2.3)\n",
      "Collecting matplotlib!=3.6.1,>=3.4\n",
      "  Downloading matplotlib-3.9.4-cp39-cp39-manylinux_2_17_x86_64.manylinux2014_x86_64.whl (8.3 MB)\n",
      "Requirement already satisfied: numpy!=1.24.0,>=1.20 in ./tmp/spark-05792363-6c8e-4aea-8337-885fae8083eb/lib64/python3.9/site-packages (from seaborn) (2.0.2)\n",
      "Requirement already satisfied: pyparsing>=2.3.1 in /usr/lib/python3.9/site-packages (from matplotlib!=3.6.1,>=3.4->seaborn) (2.4.7)\n",
      "Collecting kiwisolver>=1.3.1\n",
      "  Downloading kiwisolver-1.4.7-cp39-cp39-manylinux_2_12_x86_64.manylinux2010_x86_64.whl (1.6 MB)\n",
      "Collecting cycler>=0.10\n",
      "  Downloading cycler-0.12.1-py3-none-any.whl (8.3 kB)\n",
      "Requirement already satisfied: packaging>=20.0 in /usr/lib/python3.9/site-packages (from matplotlib!=3.6.1,>=3.4->seaborn) (21.3)\n",
      "Collecting importlib-resources>=3.2.0\n",
      "  Downloading importlib_resources-6.5.2-py3-none-any.whl (37 kB)\n",
      "Requirement already satisfied: python-dateutil>=2.7 in ./tmp/spark-05792363-6c8e-4aea-8337-885fae8083eb/lib/python3.9/site-packages (from matplotlib!=3.6.1,>=3.4->seaborn) (2.9.0.post0)\n",
      "Collecting contourpy>=1.0.1\n",
      "  Downloading contourpy-1.3.0-cp39-cp39-manylinux_2_17_x86_64.manylinux2014_x86_64.whl (321 kB)\n",
      "Collecting pillow>=8\n",
      "  Downloading pillow-11.1.0-cp39-cp39-manylinux_2_28_x86_64.whl (4.5 MB)\n",
      "Collecting fonttools>=4.22.0\n",
      "  Downloading fonttools-4.56.0-cp39-cp39-manylinux_2_17_x86_64.manylinux2014_x86_64.whl (4.6 MB)\n",
      "Requirement already satisfied: tzdata>=2022.7 in ./tmp/spark-05792363-6c8e-4aea-8337-885fae8083eb/lib/python3.9/site-packages (from pandas>=1.2->seaborn) (2025.1)\n",
      "Requirement already satisfied: pytz>=2020.1 in /usr/local/lib/python3.9/site-packages (from pandas>=1.2->seaborn) (2024.2)\n",
      "Collecting zipp>=3.1.0\n",
      "  Downloading zipp-3.21.0-py3-none-any.whl (9.6 kB)\n",
      "Requirement already satisfied: six>=1.5 in /usr/local/lib/python3.9/site-packages (from python-dateutil>=2.7->matplotlib!=3.6.1,>=3.4->seaborn) (1.13.0)\n",
      "Installing collected packages: zipp, pillow, kiwisolver, importlib-resources, fonttools, cycler, contourpy, matplotlib, seaborn\n",
      "Successfully installed contourpy-1.3.0 cycler-0.12.1 fonttools-4.56.0 importlib-resources-6.5.2 kiwisolver-1.4.7 matplotlib-3.9.4 pillow-11.1.0 seaborn-0.13.2 zipp-3.21.0\n",
      "\n",
      "Requirement already satisfied: matplotlib in ./tmp/spark-05792363-6c8e-4aea-8337-885fae8083eb/lib64/python3.9/site-packages (3.9.4)\n",
      "Requirement already satisfied: packaging>=20.0 in /usr/lib/python3.9/site-packages (from matplotlib) (21.3)\n",
      "Requirement already satisfied: cycler>=0.10 in ./tmp/spark-05792363-6c8e-4aea-8337-885fae8083eb/lib/python3.9/site-packages (from matplotlib) (0.12.1)\n",
      "Requirement already satisfied: contourpy>=1.0.1 in ./tmp/spark-05792363-6c8e-4aea-8337-885fae8083eb/lib64/python3.9/site-packages (from matplotlib) (1.3.0)\n",
      "Requirement already satisfied: numpy>=1.23 in ./tmp/spark-05792363-6c8e-4aea-8337-885fae8083eb/lib64/python3.9/site-packages (from matplotlib) (2.0.2)\n",
      "Requirement already satisfied: fonttools>=4.22.0 in ./tmp/spark-05792363-6c8e-4aea-8337-885fae8083eb/lib64/python3.9/site-packages (from matplotlib) (4.56.0)\n",
      "Requirement already satisfied: importlib-resources>=3.2.0 in ./tmp/spark-05792363-6c8e-4aea-8337-885fae8083eb/lib/python3.9/site-packages (from matplotlib) (6.5.2)\n",
      "Requirement already satisfied: pillow>=8 in ./tmp/spark-05792363-6c8e-4aea-8337-885fae8083eb/lib64/python3.9/site-packages (from matplotlib) (11.1.0)\n",
      "Requirement already satisfied: pyparsing>=2.3.1 in /usr/lib/python3.9/site-packages (from matplotlib) (2.4.7)\n",
      "Requirement already satisfied: python-dateutil>=2.7 in ./tmp/spark-05792363-6c8e-4aea-8337-885fae8083eb/lib/python3.9/site-packages (from matplotlib) (2.9.0.post0)\n",
      "Requirement already satisfied: kiwisolver>=1.3.1 in ./tmp/spark-05792363-6c8e-4aea-8337-885fae8083eb/lib64/python3.9/site-packages (from matplotlib) (1.4.7)\n",
      "Requirement already satisfied: zipp>=3.1.0 in ./tmp/spark-05792363-6c8e-4aea-8337-885fae8083eb/lib/python3.9/site-packages (from importlib-resources>=3.2.0->matplotlib) (3.21.0)\n",
      "Requirement already satisfied: six>=1.5 in /usr/local/lib/python3.9/site-packages (from python-dateutil>=2.7->matplotlib) (1.13.0)\n",
      "\n",
      "Collecting boto3\n",
      "  Downloading boto3-1.37.8-py3-none-any.whl (139 kB)\n",
      "Collecting botocore<1.38.0,>=1.37.8\n",
      "  Downloading botocore-1.37.8-py3-none-any.whl (13.4 MB)\n",
      "Collecting s3transfer<0.12.0,>=0.11.0\n",
      "  Downloading s3transfer-0.11.4-py3-none-any.whl (84 kB)\n",
      "Requirement already satisfied: jmespath<2.0.0,>=0.7.1 in /usr/local/lib/python3.9/site-packages (from boto3) (1.0.1)\n",
      "Requirement already satisfied: urllib3<1.27,>=1.25.4 in /usr/lib/python3.9/site-packages (from botocore<1.38.0,>=1.37.8->boto3) (1.25.10)\n",
      "Requirement already satisfied: python-dateutil<3.0.0,>=2.1 in ./tmp/spark-05792363-6c8e-4aea-8337-885fae8083eb/lib/python3.9/site-packages (from botocore<1.38.0,>=1.37.8->boto3) (2.9.0.post0)\n",
      "Requirement already satisfied: six>=1.5 in /usr/local/lib/python3.9/site-packages (from python-dateutil<3.0.0,>=2.1->botocore<1.38.0,>=1.37.8->boto3) (1.13.0)\n",
      "Installing collected packages: botocore, s3transfer, boto3\n",
      "Successfully installed boto3-1.37.8 botocore-1.37.8 s3transfer-0.11.4\n",
      "\n",
      "WARNING: The directory '/home/.cache/pip' or its parent directory is not owned or is not writable by the current user. The cache has been disabled. Check the permissions and owner of that directory. If executing pip with sudo, you should use sudo's -H flag.\n",
      "ERROR: pip's dependency resolver does not currently take into account all the packages that are installed. This behaviour is the source of the following dependency conflicts.\n",
      "awscli 2.17.18 requires python-dateutil<=2.8.2,>=2.1, but you have python-dateutil 2.9.0.post0 which is incompatible.\n",
      "\n",
      "WARNING: The directory '/home/.cache/pip' or its parent directory is not owned or is not writable by the current user. The cache has been disabled. Check the permissions and owner of that directory. If executing pip with sudo, you should use sudo's -H flag.\n",
      "\n",
      "WARNING: The directory '/home/.cache/pip' or its parent directory is not owned or is not writable by the current user. The cache has been disabled. Check the permissions and owner of that directory. If executing pip with sudo, you should use sudo's -H flag.\n",
      "\n",
      "WARNING: The directory '/home/.cache/pip' or its parent directory is not owned or is not writable by the current user. The cache has been disabled. Check the permissions and owner of that directory. If executing pip with sudo, you should use sudo's -H flag.\n",
      "\n",
      "WARNING: The directory '/home/.cache/pip' or its parent directory is not owned or is not writable by the current user. The cache has been disabled. Check the permissions and owner of that directory. If executing pip with sudo, you should use sudo's -H flag."
     ]
    }
   ],
   "source": [
    "# Install packages\n",
    "sc.install_pypi_package(\"pandas\")\n",
    "sc.install_pypi_package(\"numpy\")\n",
    "sc.install_pypi_package(\"seaborn\")\n",
    "sc.install_pypi_package(\"matplotlib\")\n",
    "sc.install_pypi_package(\"boto3\")"
   ]
  },
  {
   "cell_type": "code",
   "execution_count": 2,
   "id": "32cacaac-56fa-425c-a172-cfec89f38f02",
   "metadata": {
    "execution": {
     "iopub.execute_input": "2025-03-06T22:21:30.138057Z",
     "iopub.status.busy": "2025-03-06T22:21:30.137817Z",
     "iopub.status.idle": "2025-03-06T22:21:33.432199Z",
     "shell.execute_reply": "2025-03-06T22:21:33.431196Z",
     "shell.execute_reply.started": "2025-03-06T22:21:30.138022Z"
    },
    "tags": []
   },
   "outputs": [
    {
     "data": {
      "application/vnd.jupyter.widget-view+json": {
       "model_id": "705684d872654c579c68ac2abaaf7aab",
       "version_major": 2,
       "version_minor": 0
      },
      "text/plain": [
       "VBox()"
      ]
     },
     "metadata": {},
     "output_type": "display_data"
    },
    {
     "data": {
      "application/vnd.jupyter.widget-view+json": {
       "model_id": "",
       "version_major": 2,
       "version_minor": 0
      },
      "text/plain": [
       "FloatProgress(value=0.0, bar_style='info', description='Progress:', layout=Layout(height='25px', width='50%'),…"
      ]
     },
     "metadata": {},
     "output_type": "display_data"
    }
   ],
   "source": [
    "# Import libraries\n",
    "import pandas as pd\n",
    "import numpy as np\n",
    "import seaborn as sns\n",
    "import matplotlib.pyplot as plt\n",
    "import boto3\n",
    "import os\n",
    "\n",
    "from pyspark.sql import SparkSession\n",
    "from pyspark.sql.functions import col, substring"
   ]
  },
  {
   "cell_type": "code",
   "execution_count": 3,
   "id": "a5cc1da8-58f0-42d6-b174-f3a428d73818",
   "metadata": {
    "execution": {
     "iopub.execute_input": "2025-03-06T22:21:33.434638Z",
     "iopub.status.busy": "2025-03-06T22:21:33.434114Z",
     "iopub.status.idle": "2025-03-06T22:21:33.502611Z",
     "shell.execute_reply": "2025-03-06T22:21:33.500631Z",
     "shell.execute_reply.started": "2025-03-06T22:21:33.434599Z"
    }
   },
   "outputs": [
    {
     "data": {
      "application/vnd.jupyter.widget-view+json": {
       "model_id": "d2ffefc7d1544c9995286c3817c2ff27",
       "version_major": 2,
       "version_minor": 0
      },
      "text/plain": [
       "VBox()"
      ]
     },
     "metadata": {},
     "output_type": "display_data"
    },
    {
     "data": {
      "application/vnd.jupyter.widget-view+json": {
       "model_id": "",
       "version_major": 2,
       "version_minor": 0
      },
      "text/plain": [
       "FloatProgress(value=0.0, bar_style='info', description='Progress:', layout=Layout(height='25px', width='50%'),…"
      ]
     },
     "metadata": {},
     "output_type": "display_data"
    }
   ],
   "source": [
    "# Initialize a Spark session\n",
    "spark = SparkSession.builder.appName(\"FinalProject - Exploratory Data Analysis\").getOrCreate()"
   ]
  },
  {
   "cell_type": "code",
   "execution_count": 4,
   "id": "a52a6c90-1e20-4dbf-9776-07b866b482f6",
   "metadata": {
    "execution": {
     "iopub.execute_input": "2025-03-06T22:21:33.505076Z",
     "iopub.status.busy": "2025-03-06T22:21:33.504874Z",
     "iopub.status.idle": "2025-03-06T22:21:38.833511Z",
     "shell.execute_reply": "2025-03-06T22:21:38.832266Z",
     "shell.execute_reply.started": "2025-03-06T22:21:33.505053Z"
    }
   },
   "outputs": [
    {
     "data": {
      "application/vnd.jupyter.widget-view+json": {
       "model_id": "6488565208c84e6cb6e5f18b63c1966f",
       "version_major": 2,
       "version_minor": 0
      },
      "text/plain": [
       "VBox()"
      ]
     },
     "metadata": {},
     "output_type": "display_data"
    },
    {
     "data": {
      "application/vnd.jupyter.widget-view+json": {
       "model_id": "",
       "version_major": 2,
       "version_minor": 0
      },
      "text/plain": [
       "FloatProgress(value=0.0, bar_style='info', description='Progress:', layout=Layout(height='25px', width='50%'),…"
      ]
     },
     "metadata": {},
     "output_type": "display_data"
    }
   ],
   "source": [
    "# Load the 2024_chicago_taxi_and_weather dataset from an S3 bucket\n",
    "taxi_and_weather_path = \"s3://csc555-jaewon/final_project/2024_chicago_taxi_and_weather/20250305_222658_00067_pntyd_bf5908a3-a2ab-433b-830a-6f02200e2504\"\n",
    "taxi_and_weather_df = spark.read.parquet(taxi_and_weather_path)"
   ]
  },
  {
   "cell_type": "code",
   "execution_count": 5,
   "id": "f5c89ae7-dfba-4b84-933e-45f5548f658b",
   "metadata": {
    "execution": {
     "iopub.execute_input": "2025-03-06T22:21:38.835353Z",
     "iopub.status.busy": "2025-03-06T22:21:38.834868Z",
     "iopub.status.idle": "2025-03-06T22:21:44.155647Z",
     "shell.execute_reply": "2025-03-06T22:21:44.154619Z",
     "shell.execute_reply.started": "2025-03-06T22:21:38.835313Z"
    },
    "tags": []
   },
   "outputs": [
    {
     "data": {
      "application/vnd.jupyter.widget-view+json": {
       "model_id": "3ce8aac3d23647d4ba49bf90399db9f7",
       "version_major": 2,
       "version_minor": 0
      },
      "text/plain": [
       "VBox()"
      ]
     },
     "metadata": {},
     "output_type": "display_data"
    },
    {
     "data": {
      "application/vnd.jupyter.widget-view+json": {
       "model_id": "",
       "version_major": 2,
       "version_minor": 0
      },
      "text/plain": [
       "FloatProgress(value=0.0, bar_style='info', description='Progress:', layout=Layout(height='25px', width='50%'),…"
      ]
     },
     "metadata": {},
     "output_type": "display_data"
    },
    {
     "name": "stdout",
     "output_type": "stream",
     "text": [
      "+-------------+-----+--------------+--------------------+-------------+-------------+--------------------+-------------+-----------+\n",
      "|    hour_slot|count|temperature_2m|relative_humidity_2m|precipitation|windspeed_10m|apparent_temperature|windgusts_10m|weathercode|\n",
      "+-------------+-----+--------------+--------------------+-------------+-------------+--------------------+-------------+-----------+\n",
      "|01/01/2024 00|  462|           0.0|                85.0|          0.1|         30.4|                -6.9|         44.3|         71|\n",
      "|01/01/2024 01|  522|           0.1|                86.0|          0.1|         30.1|                -6.7|         44.6|         71|\n",
      "|01/01/2024 02|  490|           0.4|                85.0|          0.1|         27.8|                -6.1|         43.6|         71|\n",
      "|01/01/2024 03|  269|           0.2|                85.0|          0.0|         25.4|                -6.0|         40.0|          3|\n",
      "|01/01/2024 04|  150|          -0.3|                85.0|          0.0|         23.1|                -6.2|         36.4|          3|\n",
      "+-------------+-----+--------------+--------------------+-------------+-------------+--------------------+-------------+-----------+\n",
      "only showing top 5 rows"
     ]
    }
   ],
   "source": [
    "taxi_and_weather_df.show(5)"
   ]
  },
  {
   "cell_type": "markdown",
   "id": "b9056ced-769e-41bd-91b7-3ce38882b575",
   "metadata": {},
   "source": [
    "---\n",
    "### 1. EDA - Hourly Taxi Usage Heatmap"
   ]
  },
  {
   "cell_type": "code",
   "execution_count": 6,
   "id": "f32e25e7-57d9-48b9-a943-81e66fc9334c",
   "metadata": {
    "execution": {
     "iopub.execute_input": "2025-03-06T22:21:44.158022Z",
     "iopub.status.busy": "2025-03-06T22:21:44.157839Z",
     "iopub.status.idle": "2025-03-06T22:21:44.407790Z",
     "shell.execute_reply": "2025-03-06T22:21:44.406869Z",
     "shell.execute_reply.started": "2025-03-06T22:21:44.158000Z"
    }
   },
   "outputs": [
    {
     "data": {
      "application/vnd.jupyter.widget-view+json": {
       "model_id": "d7e21da8249a4de8a2ef98db1d330366",
       "version_major": 2,
       "version_minor": 0
      },
      "text/plain": [
       "VBox()"
      ]
     },
     "metadata": {},
     "output_type": "display_data"
    },
    {
     "data": {
      "application/vnd.jupyter.widget-view+json": {
       "model_id": "",
       "version_major": 2,
       "version_minor": 0
      },
      "text/plain": [
       "FloatProgress(value=0.0, bar_style='info', description='Progress:', layout=Layout(height='25px', width='50%'),…"
      ]
     },
     "metadata": {},
     "output_type": "display_data"
    }
   ],
   "source": [
    "# Create a new column and group the data\n",
    "taxi_usage_df = taxi_and_weather_df.withColumn(\"hour\", substring(col(\"Hour_Slot\"), -2, 2))\n",
    "taxi_usage_df = taxi_usage_df.groupBy(\"hour\").sum(\"count\").orderBy(\"hour\")"
   ]
  },
  {
   "cell_type": "code",
   "execution_count": 7,
   "id": "e6b9bf0d-d6e2-42a2-b05e-1e8ce9206369",
   "metadata": {
    "execution": {
     "iopub.execute_input": "2025-03-06T22:21:44.410368Z",
     "iopub.status.busy": "2025-03-06T22:21:44.410032Z",
     "iopub.status.idle": "2025-03-06T22:21:51.772666Z",
     "shell.execute_reply": "2025-03-06T22:21:51.771834Z",
     "shell.execute_reply.started": "2025-03-06T22:21:44.410327Z"
    },
    "tags": []
   },
   "outputs": [
    {
     "data": {
      "application/vnd.jupyter.widget-view+json": {
       "model_id": "b88440c35a3c4edcae86cd081307dc1e",
       "version_major": 2,
       "version_minor": 0
      },
      "text/plain": [
       "VBox()"
      ]
     },
     "metadata": {},
     "output_type": "display_data"
    },
    {
     "data": {
      "application/vnd.jupyter.widget-view+json": {
       "model_id": "",
       "version_major": 2,
       "version_minor": 0
      },
      "text/plain": [
       "FloatProgress(value=0.0, bar_style='info', description='Progress:', layout=Layout(height='25px', width='50%'),…"
      ]
     },
     "metadata": {},
     "output_type": "display_data"
    }
   ],
   "source": [
    "# Convert the PySpark DataFrame to a Pandas DataFrame\n",
    "taxi_usage_pd = taxi_usage_df.toPandas()\n",
    "taxi_usage_pd[\"hour\"] = taxi_usage_pd[\"hour\"].astype(int)\n",
    "taxi_usage_pd = taxi_usage_pd.sort_values(\"hour\")"
   ]
  },
  {
   "cell_type": "code",
   "execution_count": 8,
   "id": "d6b3599b-5569-4295-bb16-6e4533c5c9f4",
   "metadata": {
    "execution": {
     "iopub.execute_input": "2025-03-06T22:21:51.774647Z",
     "iopub.status.busy": "2025-03-06T22:21:51.774391Z",
     "iopub.status.idle": "2025-03-06T22:21:51.834567Z",
     "shell.execute_reply": "2025-03-06T22:21:51.833613Z",
     "shell.execute_reply.started": "2025-03-06T22:21:51.774611Z"
    }
   },
   "outputs": [
    {
     "data": {
      "application/vnd.jupyter.widget-view+json": {
       "model_id": "f977781725f2402291ae94b1b96d33d2",
       "version_major": 2,
       "version_minor": 0
      },
      "text/plain": [
       "VBox()"
      ]
     },
     "metadata": {},
     "output_type": "display_data"
    },
    {
     "data": {
      "application/vnd.jupyter.widget-view+json": {
       "model_id": "",
       "version_major": 2,
       "version_minor": 0
      },
      "text/plain": [
       "FloatProgress(value=0.0, bar_style='info', description='Progress:', layout=Layout(height='25px', width='50%'),…"
      ]
     },
     "metadata": {},
     "output_type": "display_data"
    }
   ],
   "source": [
    "# Set the 'hour' column as the index for the heatmap\n",
    "taxi_usage_heatmap = taxi_usage_pd.set_index(\"hour\")"
   ]
  },
  {
   "cell_type": "code",
   "execution_count": 9,
   "id": "54564095-7971-4a7d-a09d-c53a91eedbd3",
   "metadata": {
    "execution": {
     "iopub.execute_input": "2025-03-06T22:21:51.836058Z",
     "iopub.status.busy": "2025-03-06T22:21:51.835826Z",
     "iopub.status.idle": "2025-03-06T22:21:52.159695Z",
     "shell.execute_reply": "2025-03-06T22:21:52.158498Z",
     "shell.execute_reply.started": "2025-03-06T22:21:51.836023Z"
    },
    "id": "54564095-7971-4a7d-a09d-c53a91eedbd3",
    "tags": []
   },
   "outputs": [
    {
     "data": {
      "application/vnd.jupyter.widget-view+json": {
       "model_id": "4c2bad20ed3d4d149776de74fd9308f7",
       "version_major": 2,
       "version_minor": 0
      },
      "text/plain": [
       "VBox()"
      ]
     },
     "metadata": {},
     "output_type": "display_data"
    },
    {
     "data": {
      "application/vnd.jupyter.widget-view+json": {
       "model_id": "",
       "version_major": 2,
       "version_minor": 0
      },
      "text/plain": [
       "FloatProgress(value=0.0, bar_style='info', description='Progress:', layout=Layout(height='25px', width='50%'),…"
      ]
     },
     "metadata": {},
     "output_type": "display_data"
    },
    {
     "name": "stdout",
     "output_type": "stream",
     "text": [
      "Text(0.5, 1.0, 'Hourly Taxi Usage Heatmap')"
     ]
    }
   ],
   "source": [
    "# Plot the heatmap\n",
    "plt.figure(figsize = (20, 12))\n",
    "sns.heatmap(taxi_usage_heatmap, cmap = \"coolwarm\", annot = True, fmt = \".0f\")\n",
    "plt.xlabel(\"Taxi Usage\")\n",
    "plt.ylabel(\"Hour of Day\")\n",
    "plt.title(\"Hourly Taxi Usage Heatmap\")"
   ]
  },
  {
   "cell_type": "code",
   "execution_count": 10,
   "id": "80a99341-ae12-4e07-80cf-aa17952a2243",
   "metadata": {
    "execution": {
     "iopub.execute_input": "2025-03-06T22:21:52.162103Z",
     "iopub.status.busy": "2025-03-06T22:21:52.161315Z",
     "iopub.status.idle": "2025-03-06T22:21:52.467518Z",
     "shell.execute_reply": "2025-03-06T22:21:52.463017Z",
     "shell.execute_reply.started": "2025-03-06T22:21:52.162062Z"
    }
   },
   "outputs": [
    {
     "data": {
      "application/vnd.jupyter.widget-view+json": {
       "model_id": "919c7d81a43346da865e7accf45918ca",
       "version_major": 2,
       "version_minor": 0
      },
      "text/plain": [
       "VBox()"
      ]
     },
     "metadata": {},
     "output_type": "display_data"
    },
    {
     "data": {
      "application/vnd.jupyter.widget-view+json": {
       "model_id": "",
       "version_major": 2,
       "version_minor": 0
      },
      "text/plain": [
       "FloatProgress(value=0.0, bar_style='info', description='Progress:', layout=Layout(height='25px', width='50%'),…"
      ]
     },
     "metadata": {},
     "output_type": "display_data"
    }
   ],
   "source": [
    "# Save the heatmap image locally\n",
    "local_path = '/tmp/hourly_taxi_usage_heatmap.png'\n",
    "plt.savefig(local_path)"
   ]
  },
  {
   "cell_type": "code",
   "execution_count": 11,
   "id": "ffcc6fe0-11fe-4881-85d3-ace34d62df03",
   "metadata": {
    "execution": {
     "iopub.execute_input": "2025-03-06T22:21:52.469479Z",
     "iopub.status.busy": "2025-03-06T22:21:52.468978Z",
     "iopub.status.idle": "2025-03-06T22:21:53.224416Z",
     "shell.execute_reply": "2025-03-06T22:21:53.223367Z",
     "shell.execute_reply.started": "2025-03-06T22:21:52.469439Z"
    }
   },
   "outputs": [
    {
     "data": {
      "application/vnd.jupyter.widget-view+json": {
       "model_id": "9900ae8013f74c89a5b2fb591c5420b5",
       "version_major": 2,
       "version_minor": 0
      },
      "text/plain": [
       "VBox()"
      ]
     },
     "metadata": {},
     "output_type": "display_data"
    },
    {
     "data": {
      "application/vnd.jupyter.widget-view+json": {
       "model_id": "",
       "version_major": 2,
       "version_minor": 0
      },
      "text/plain": [
       "FloatProgress(value=0.0, bar_style='info', description='Progress:', layout=Layout(height='25px', width='50%'),…"
      ]
     },
     "metadata": {},
     "output_type": "display_data"
    },
    {
     "name": "stdout",
     "output_type": "stream",
     "text": [
      "Heatmap successfully uploaded to s3://csc555-jaewon/final_project/2024_chicago_taxi_and_weather/hourly_taxi_usage_heatmap.png"
     ]
    }
   ],
   "source": [
    "# Upload the heatmap image to an S3 bucket\n",
    "s3 = boto3.client('s3')\n",
    "bucket_name = 'csc555-jaewon'\n",
    "s3_path = 'final_project/2024_chicago_taxi_and_weather/hourly_taxi_usage_heatmap.png'\n",
    "s3.upload_file(local_path, bucket_name, s3_path)\n",
    "print(f\"Heatmap successfully uploaded to s3://{bucket_name}/{s3_path}\")"
   ]
  },
  {
   "cell_type": "code",
   "execution_count": 12,
   "id": "dc30e167-a364-4af9-8fdd-74cfcd2635fc",
   "metadata": {
    "execution": {
     "iopub.execute_input": "2025-03-06T22:21:53.225999Z",
     "iopub.status.busy": "2025-03-06T22:21:53.225754Z",
     "iopub.status.idle": "2025-03-06T22:21:53.337061Z",
     "shell.execute_reply": "2025-03-06T22:21:53.336293Z",
     "shell.execute_reply.started": "2025-03-06T22:21:53.225964Z"
    },
    "tags": []
   },
   "outputs": [
    {
     "data": {
      "application/vnd.jupyter.widget-view+json": {
       "model_id": "c28355976c4b40838aa383c2f130800b",
       "version_major": 2,
       "version_minor": 0
      },
      "text/plain": [
       "VBox()"
      ]
     },
     "metadata": {},
     "output_type": "display_data"
    },
    {
     "data": {
      "application/vnd.jupyter.widget-view+json": {
       "model_id": "",
       "version_major": 2,
       "version_minor": 0
      },
      "text/plain": [
       "FloatProgress(value=0.0, bar_style='info', description='Progress:', layout=Layout(height='25px', width='50%'),…"
      ]
     },
     "metadata": {},
     "output_type": "display_data"
    }
   ],
   "source": [
    "# Remove the locally saved image\n",
    "os.remove(local_path)"
   ]
  },
  {
   "cell_type": "markdown",
   "id": "8a74274a-b149-461a-aae1-51f99137e1b8",
   "metadata": {
    "execution": {
     "iopub.execute_input": "2025-03-06T21:49:06.805601Z",
     "iopub.status.busy": "2025-03-06T21:49:06.805333Z",
     "iopub.status.idle": "2025-03-06T21:49:06.880336Z",
     "shell.execute_reply": "2025-03-06T21:49:06.879564Z",
     "shell.execute_reply.started": "2025-03-06T21:49:06.805574Z"
    },
    "tags": []
   },
   "source": [
    "---\n",
    "### 2. EDA - Correlation Heatmap between Taxi Count and Weather Data"
   ]
  },
  {
   "cell_type": "code",
   "execution_count": 13,
   "id": "035e1956-9630-4e01-a47a-76ef932e86c9",
   "metadata": {
    "execution": {
     "iopub.execute_input": "2025-03-06T22:21:53.340356Z",
     "iopub.status.busy": "2025-03-06T22:21:53.338635Z",
     "iopub.status.idle": "2025-03-06T22:21:53.419579Z",
     "shell.execute_reply": "2025-03-06T22:21:53.418707Z",
     "shell.execute_reply.started": "2025-03-06T22:21:53.340316Z"
    },
    "tags": []
   },
   "outputs": [
    {
     "data": {
      "application/vnd.jupyter.widget-view+json": {
       "model_id": "86db58641083405781f976ff10c2946d",
       "version_major": 2,
       "version_minor": 0
      },
      "text/plain": [
       "VBox()"
      ]
     },
     "metadata": {},
     "output_type": "display_data"
    },
    {
     "data": {
      "application/vnd.jupyter.widget-view+json": {
       "model_id": "",
       "version_major": 2,
       "version_minor": 0
      },
      "text/plain": [
       "FloatProgress(value=0.0, bar_style='info', description='Progress:', layout=Layout(height='25px', width='50%'),…"
      ]
     },
     "metadata": {},
     "output_type": "display_data"
    }
   ],
   "source": [
    "# Select relevant columns for correlation analysis\n",
    "weather_df = taxi_and_weather_df.select('count', 'temperature_2m', 'relative_humidity_2m', 'precipitation', 'windspeed_10m', 'apparent_temperature', 'windgusts_10m')"
   ]
  },
  {
   "cell_type": "code",
   "execution_count": 14,
   "id": "73033317-ced3-435e-8601-b4049f609ea0",
   "metadata": {
    "execution": {
     "iopub.execute_input": "2025-03-06T22:21:53.421534Z",
     "iopub.status.busy": "2025-03-06T22:21:53.421073Z",
     "iopub.status.idle": "2025-03-06T22:21:54.225812Z",
     "shell.execute_reply": "2025-03-06T22:21:54.224850Z",
     "shell.execute_reply.started": "2025-03-06T22:21:53.421490Z"
    },
    "tags": []
   },
   "outputs": [
    {
     "data": {
      "application/vnd.jupyter.widget-view+json": {
       "model_id": "3415219201c44e078dac1482c42687a6",
       "version_major": 2,
       "version_minor": 0
      },
      "text/plain": [
       "VBox()"
      ]
     },
     "metadata": {},
     "output_type": "display_data"
    },
    {
     "data": {
      "application/vnd.jupyter.widget-view+json": {
       "model_id": "",
       "version_major": 2,
       "version_minor": 0
      },
      "text/plain": [
       "FloatProgress(value=0.0, bar_style='info', description='Progress:', layout=Layout(height='25px', width='50%'),…"
      ]
     },
     "metadata": {},
     "output_type": "display_data"
    }
   ],
   "source": [
    "# Convert the PySpark DataFrame to a Pandas DataFrame\n",
    "weather_pd = weather_df.toPandas()"
   ]
  },
  {
   "cell_type": "code",
   "execution_count": 15,
   "id": "4ee84e7a-6eeb-4eb3-806e-4df014e7c18c",
   "metadata": {
    "execution": {
     "iopub.execute_input": "2025-03-06T22:21:54.231946Z",
     "iopub.status.busy": "2025-03-06T22:21:54.231702Z",
     "iopub.status.idle": "2025-03-06T22:21:54.336293Z",
     "shell.execute_reply": "2025-03-06T22:21:54.335540Z",
     "shell.execute_reply.started": "2025-03-06T22:21:54.231919Z"
    },
    "tags": []
   },
   "outputs": [
    {
     "data": {
      "application/vnd.jupyter.widget-view+json": {
       "model_id": "be6fe84975d74ad89c1bd7a4593ba910",
       "version_major": 2,
       "version_minor": 0
      },
      "text/plain": [
       "VBox()"
      ]
     },
     "metadata": {},
     "output_type": "display_data"
    },
    {
     "data": {
      "application/vnd.jupyter.widget-view+json": {
       "model_id": "",
       "version_major": 2,
       "version_minor": 0
      },
      "text/plain": [
       "FloatProgress(value=0.0, bar_style='info', description='Progress:', layout=Layout(height='25px', width='50%'),…"
      ]
     },
     "metadata": {},
     "output_type": "display_data"
    }
   ],
   "source": [
    "# Calculate Pearson correlation matrix\n",
    "corr_matrix = weather_pd.corr(method = \"pearson\")"
   ]
  },
  {
   "cell_type": "code",
   "execution_count": 16,
   "id": "7d884d29-cdae-4e23-85df-a0a0acf0f1c9",
   "metadata": {
    "execution": {
     "iopub.execute_input": "2025-03-06T22:21:54.342846Z",
     "iopub.status.busy": "2025-03-06T22:21:54.342432Z",
     "iopub.status.idle": "2025-03-06T22:21:54.692311Z",
     "shell.execute_reply": "2025-03-06T22:21:54.691757Z",
     "shell.execute_reply.started": "2025-03-06T22:21:54.342806Z"
    },
    "tags": []
   },
   "outputs": [
    {
     "data": {
      "application/vnd.jupyter.widget-view+json": {
       "model_id": "f165b474bfde4642b1ffcdba25e3b527",
       "version_major": 2,
       "version_minor": 0
      },
      "text/plain": [
       "VBox()"
      ]
     },
     "metadata": {},
     "output_type": "display_data"
    },
    {
     "data": {
      "application/vnd.jupyter.widget-view+json": {
       "model_id": "",
       "version_major": 2,
       "version_minor": 0
      },
      "text/plain": [
       "FloatProgress(value=0.0, bar_style='info', description='Progress:', layout=Layout(height='25px', width='50%'),…"
      ]
     },
     "metadata": {},
     "output_type": "display_data"
    },
    {
     "name": "stdout",
     "output_type": "stream",
     "text": [
      "Text(0.5, 1.0, 'Correlation Heatmap')"
     ]
    }
   ],
   "source": [
    "# Plot the correlation heatmap\n",
    "plt.figure(figsize = (20, 12))\n",
    "sns.heatmap(corr_matrix, annot = True, cmap = \"coolwarm\", fmt = \".2f\", linewidths = 0.5, mask = np.triu(np.ones_like(corr_matrix, dtype = bool)))\n",
    "plt.title(\"Correlation Heatmap\")"
   ]
  },
  {
   "cell_type": "code",
   "execution_count": 17,
   "id": "744d20c2-4fcd-4b3e-8bce-e03a970f3ee7",
   "metadata": {
    "execution": {
     "iopub.execute_input": "2025-03-06T22:21:54.693903Z",
     "iopub.status.busy": "2025-03-06T22:21:54.693469Z",
     "iopub.status.idle": "2025-03-06T22:21:54.993854Z",
     "shell.execute_reply": "2025-03-06T22:21:54.991631Z",
     "shell.execute_reply.started": "2025-03-06T22:21:54.693863Z"
    },
    "tags": []
   },
   "outputs": [
    {
     "data": {
      "application/vnd.jupyter.widget-view+json": {
       "model_id": "9af1920823ae49739ecbbbe6a38056f4",
       "version_major": 2,
       "version_minor": 0
      },
      "text/plain": [
       "VBox()"
      ]
     },
     "metadata": {},
     "output_type": "display_data"
    },
    {
     "data": {
      "application/vnd.jupyter.widget-view+json": {
       "model_id": "",
       "version_major": 2,
       "version_minor": 0
      },
      "text/plain": [
       "FloatProgress(value=0.0, bar_style='info', description='Progress:', layout=Layout(height='25px', width='50%'),…"
      ]
     },
     "metadata": {},
     "output_type": "display_data"
    }
   ],
   "source": [
    "# Save the correlation heatmap image locally\n",
    "local_path = '/tmp/correlation_heatmap.png'\n",
    "plt.savefig(local_path)"
   ]
  },
  {
   "cell_type": "code",
   "execution_count": 18,
   "id": "42feffcc-1d9b-49c9-a3d7-865dd94db714",
   "metadata": {
    "execution": {
     "iopub.execute_input": "2025-03-06T22:21:55.000865Z",
     "iopub.status.busy": "2025-03-06T22:21:54.995031Z",
     "iopub.status.idle": "2025-03-06T22:21:55.340036Z",
     "shell.execute_reply": "2025-03-06T22:21:55.339136Z",
     "shell.execute_reply.started": "2025-03-06T22:21:55.000824Z"
    },
    "tags": []
   },
   "outputs": [
    {
     "data": {
      "application/vnd.jupyter.widget-view+json": {
       "model_id": "09606d070eaf401d8f1a509dfb5af97d",
       "version_major": 2,
       "version_minor": 0
      },
      "text/plain": [
       "VBox()"
      ]
     },
     "metadata": {},
     "output_type": "display_data"
    },
    {
     "data": {
      "application/vnd.jupyter.widget-view+json": {
       "model_id": "",
       "version_major": 2,
       "version_minor": 0
      },
      "text/plain": [
       "FloatProgress(value=0.0, bar_style='info', description='Progress:', layout=Layout(height='25px', width='50%'),…"
      ]
     },
     "metadata": {},
     "output_type": "display_data"
    },
    {
     "name": "stdout",
     "output_type": "stream",
     "text": [
      "Heatmap successfully uploaded to s3://csc555-jaewon/final_project/2024_chicago_taxi_and_weather/correlation_heatmap.png"
     ]
    }
   ],
   "source": [
    "# Upload the correlation heatmap image to S3\n",
    "s3 = boto3.client('s3')\n",
    "bucket_name = 'csc555-jaewon'\n",
    "s3_path = 'final_project/2024_chicago_taxi_and_weather/correlation_heatmap.png'\n",
    "s3.upload_file(local_path, bucket_name, s3_path)\n",
    "print(f\"Heatmap successfully uploaded to s3://{bucket_name}/{s3_path}\")"
   ]
  },
  {
   "cell_type": "code",
   "execution_count": 19,
   "id": "0661d225-e5bc-43e2-b9d4-3aa2818396e7",
   "metadata": {
    "execution": {
     "iopub.execute_input": "2025-03-06T22:21:55.341639Z",
     "iopub.status.busy": "2025-03-06T22:21:55.341379Z",
     "iopub.status.idle": "2025-03-06T22:21:55.484388Z",
     "shell.execute_reply": "2025-03-06T22:21:55.480464Z",
     "shell.execute_reply.started": "2025-03-06T22:21:55.341601Z"
    },
    "tags": []
   },
   "outputs": [
    {
     "data": {
      "application/vnd.jupyter.widget-view+json": {
       "model_id": "3d9eb97155044d72b19d1c0335b8c975",
       "version_major": 2,
       "version_minor": 0
      },
      "text/plain": [
       "VBox()"
      ]
     },
     "metadata": {},
     "output_type": "display_data"
    },
    {
     "data": {
      "application/vnd.jupyter.widget-view+json": {
       "model_id": "",
       "version_major": 2,
       "version_minor": 0
      },
      "text/plain": [
       "FloatProgress(value=0.0, bar_style='info', description='Progress:', layout=Layout(height='25px', width='50%'),…"
      ]
     },
     "metadata": {},
     "output_type": "display_data"
    }
   ],
   "source": [
    "# Remove the locally saved image\n",
    "os.remove(local_path)"
   ]
  },
  {
   "cell_type": "code",
   "execution_count": null,
   "id": "9f77be70-0f72-44f1-b11d-73b916623267",
   "metadata": {},
   "outputs": [],
   "source": []
  }
 ],
 "metadata": {
  "colab": {
   "provenance": []
  },
  "kernelspec": {
   "display_name": "PySpark",
   "language": "python",
   "name": "pysparkkernel"
  },
  "language_info": {
   "codemirror_mode": {
    "name": "python",
    "version": 3
   },
   "file_extension": ".py",
   "mimetype": "text/x-python",
   "name": "pyspark",
   "pygments_lexer": "python3"
  }
 },
 "nbformat": 4,
 "nbformat_minor": 5
}
