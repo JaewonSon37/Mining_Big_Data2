{
 "cells": [
  {
   "cell_type": "markdown",
   "id": "b4f6293c",
   "metadata": {
    "id": "b4f6293c"
   },
   "source": [
    "## Machine Learning Model Development with Spark MLlib\n",
    "---"
   ]
  },
  {
   "cell_type": "code",
   "execution_count": 1,
   "id": "b1c105f0-4581-40c8-8eb1-5c3f9c4dabde",
   "metadata": {
    "execution": {
     "iopub.execute_input": "2025-03-10T03:27:44.742683Z",
     "iopub.status.busy": "2025-03-10T03:27:44.742192Z",
     "iopub.status.idle": "2025-03-10T03:29:27.007634Z",
     "shell.execute_reply": "2025-03-10T03:29:27.006248Z",
     "shell.execute_reply.started": "2025-03-10T03:27:44.742651Z"
    },
    "tags": []
   },
   "outputs": [
    {
     "data": {
      "application/vnd.jupyter.widget-view+json": {
       "model_id": "15a559ddef7745de99db39d0e3474971",
       "version_major": 2,
       "version_minor": 0
      },
      "text/plain": [
       "VBox()"
      ]
     },
     "metadata": {},
     "output_type": "display_data"
    },
    {
     "name": "stdout",
     "output_type": "stream",
     "text": [
      "Starting Spark application\n"
     ]
    },
    {
     "data": {
      "text/html": [
       "<table>\n<tbody><tr><th>ID</th><th>YARN Application ID</th><th>Kind</th><th>State</th><th>Spark UI</th><th>Driver log</th><th>User</th><th>Current session?</th></tr><tr><td>4</td><td>application_1741566398433_0005</td><td>pyspark</td><td>idle</td><td><a target=\"_blank\" href=\"http://ip-172-31-79-98.ec2.internal:20888/proxy/application_1741566398433_0005/\" class=\"emr-proxy-link j-352C33YXCUJ78 application_1741566398433_0005\" emr-resource=\"j-352C33YXCUJ78\n\" application-id=\"application_1741566398433_0005\">Link</a></td><td><a target=\"_blank\" href=\"http://ip-172-31-72-126.ec2.internal:8042/node/containerlogs/container_1741566398433_0005_01_000001/livy\">Link</a></td><td>None</td><td>✔</td></tr></tbody></table>"
      ],
      "text/plain": [
       "<IPython.core.display.HTML object>"
      ]
     },
     "metadata": {},
     "output_type": "display_data"
    },
    {
     "data": {
      "application/vnd.jupyter.widget-view+json": {
       "model_id": "",
       "version_major": 2,
       "version_minor": 0
      },
      "text/plain": [
       "FloatProgress(value=0.0, bar_style='info', description='Progress:', layout=Layout(height='25px', width='50%'),…"
      ]
     },
     "metadata": {},
     "output_type": "display_data"
    },
    {
     "name": "stdout",
     "output_type": "stream",
     "text": [
      "SparkSession available as 'spark'.\n"
     ]
    },
    {
     "data": {
      "application/vnd.jupyter.widget-view+json": {
       "model_id": "",
       "version_major": 2,
       "version_minor": 0
      },
      "text/plain": [
       "FloatProgress(value=0.0, bar_style='info', description='Progress:', layout=Layout(height='25px', width='50%'),…"
      ]
     },
     "metadata": {},
     "output_type": "display_data"
    },
    {
     "name": "stdout",
     "output_type": "stream",
     "text": [
      "Collecting pandas\n",
      "  Downloading pandas-2.2.3-cp39-cp39-manylinux_2_17_x86_64.manylinux2014_x86_64.whl (13.1 MB)\n",
      "Collecting tzdata>=2022.7\n",
      "  Downloading tzdata-2025.1-py2.py3-none-any.whl (346 kB)\n",
      "Collecting python-dateutil>=2.8.2\n",
      "  Downloading python_dateutil-2.9.0.post0-py2.py3-none-any.whl (229 kB)\n",
      "Requirement already satisfied: pytz>=2020.1 in /usr/local/lib/python3.9/site-packages (from pandas) (2024.2)\n",
      "Collecting numpy>=1.22.4\n",
      "  Downloading numpy-2.0.2-cp39-cp39-manylinux_2_17_x86_64.manylinux2014_x86_64.whl (19.5 MB)\n",
      "Requirement already satisfied: six>=1.5 in /usr/local/lib/python3.9/site-packages (from python-dateutil>=2.8.2->pandas) (1.13.0)\n",
      "Installing collected packages: tzdata, python-dateutil, numpy, pandas\n",
      "  Attempting uninstall: python-dateutil\n",
      "    Found existing installation: python-dateutil 2.8.1\n",
      "    Not uninstalling python-dateutil at /usr/lib/python3.9/site-packages, outside environment /mnt/yarn/usercache/livy/appcache/application_1741566398433_0005/container_1741566398433_0005_01_000001/tmp/spark-178453f6-1422-4d7a-b0a3-2af691c4c030\n",
      "    Can't uninstall 'python-dateutil'. No files were found to uninstall.\n",
      "Successfully installed numpy-2.0.2 pandas-2.2.3 python-dateutil-2.9.0.post0 tzdata-2025.1\n",
      "\n",
      "Requirement already satisfied: numpy in ./tmp/spark-178453f6-1422-4d7a-b0a3-2af691c4c030/lib64/python3.9/site-packages (2.0.2)\n",
      "\n",
      "Collecting seaborn\n",
      "  Downloading seaborn-0.13.2-py3-none-any.whl (294 kB)\n",
      "Collecting matplotlib!=3.6.1,>=3.4\n",
      "  Downloading matplotlib-3.9.4-cp39-cp39-manylinux_2_17_x86_64.manylinux2014_x86_64.whl (8.3 MB)\n",
      "Requirement already satisfied: numpy!=1.24.0,>=1.20 in ./tmp/spark-178453f6-1422-4d7a-b0a3-2af691c4c030/lib64/python3.9/site-packages (from seaborn) (2.0.2)\n",
      "Requirement already satisfied: pandas>=1.2 in ./tmp/spark-178453f6-1422-4d7a-b0a3-2af691c4c030/lib64/python3.9/site-packages (from seaborn) (2.2.3)\n",
      "Collecting pillow>=8\n",
      "  Downloading pillow-11.1.0-cp39-cp39-manylinux_2_28_x86_64.whl (4.5 MB)\n",
      "Collecting cycler>=0.10\n",
      "  Downloading cycler-0.12.1-py3-none-any.whl (8.3 kB)\n",
      "Collecting fonttools>=4.22.0\n",
      "  Downloading fonttools-4.56.0-cp39-cp39-manylinux_2_17_x86_64.manylinux2014_x86_64.whl (4.6 MB)\n",
      "Requirement already satisfied: python-dateutil>=2.7 in ./tmp/spark-178453f6-1422-4d7a-b0a3-2af691c4c030/lib/python3.9/site-packages (from matplotlib!=3.6.1,>=3.4->seaborn) (2.9.0.post0)\n",
      "Collecting importlib-resources>=3.2.0\n",
      "  Downloading importlib_resources-6.5.2-py3-none-any.whl (37 kB)\n",
      "Collecting kiwisolver>=1.3.1\n",
      "  Downloading kiwisolver-1.4.7-cp39-cp39-manylinux_2_12_x86_64.manylinux2010_x86_64.whl (1.6 MB)\n",
      "Requirement already satisfied: pyparsing>=2.3.1 in /usr/lib/python3.9/site-packages (from matplotlib!=3.6.1,>=3.4->seaborn) (2.4.7)\n",
      "Collecting contourpy>=1.0.1\n",
      "  Downloading contourpy-1.3.0-cp39-cp39-manylinux_2_17_x86_64.manylinux2014_x86_64.whl (321 kB)\n",
      "Requirement already satisfied: packaging>=20.0 in /usr/lib/python3.9/site-packages (from matplotlib!=3.6.1,>=3.4->seaborn) (21.3)\n",
      "Requirement already satisfied: tzdata>=2022.7 in ./tmp/spark-178453f6-1422-4d7a-b0a3-2af691c4c030/lib/python3.9/site-packages (from pandas>=1.2->seaborn) (2025.1)\n",
      "Requirement already satisfied: pytz>=2020.1 in /usr/local/lib/python3.9/site-packages (from pandas>=1.2->seaborn) (2024.2)\n",
      "Collecting zipp>=3.1.0\n",
      "  Downloading zipp-3.21.0-py3-none-any.whl (9.6 kB)\n",
      "Requirement already satisfied: six>=1.5 in /usr/local/lib/python3.9/site-packages (from python-dateutil>=2.7->matplotlib!=3.6.1,>=3.4->seaborn) (1.13.0)\n",
      "Installing collected packages: zipp, pillow, kiwisolver, importlib-resources, fonttools, cycler, contourpy, matplotlib, seaborn\n",
      "Successfully installed contourpy-1.3.0 cycler-0.12.1 fonttools-4.56.0 importlib-resources-6.5.2 kiwisolver-1.4.7 matplotlib-3.9.4 pillow-11.1.0 seaborn-0.13.2 zipp-3.21.0\n",
      "\n",
      "Requirement already satisfied: matplotlib in ./tmp/spark-178453f6-1422-4d7a-b0a3-2af691c4c030/lib64/python3.9/site-packages (3.9.4)\n",
      "Requirement already satisfied: pyparsing>=2.3.1 in /usr/lib/python3.9/site-packages (from matplotlib) (2.4.7)\n",
      "Requirement already satisfied: python-dateutil>=2.7 in ./tmp/spark-178453f6-1422-4d7a-b0a3-2af691c4c030/lib/python3.9/site-packages (from matplotlib) (2.9.0.post0)\n",
      "Requirement already satisfied: importlib-resources>=3.2.0 in ./tmp/spark-178453f6-1422-4d7a-b0a3-2af691c4c030/lib/python3.9/site-packages (from matplotlib) (6.5.2)\n",
      "Requirement already satisfied: cycler>=0.10 in ./tmp/spark-178453f6-1422-4d7a-b0a3-2af691c4c030/lib/python3.9/site-packages (from matplotlib) (0.12.1)\n",
      "Requirement already satisfied: numpy>=1.23 in ./tmp/spark-178453f6-1422-4d7a-b0a3-2af691c4c030/lib64/python3.9/site-packages (from matplotlib) (2.0.2)\n",
      "Requirement already satisfied: kiwisolver>=1.3.1 in ./tmp/spark-178453f6-1422-4d7a-b0a3-2af691c4c030/lib64/python3.9/site-packages (from matplotlib) (1.4.7)\n",
      "Requirement already satisfied: pillow>=8 in ./tmp/spark-178453f6-1422-4d7a-b0a3-2af691c4c030/lib64/python3.9/site-packages (from matplotlib) (11.1.0)\n",
      "Requirement already satisfied: packaging>=20.0 in /usr/lib/python3.9/site-packages (from matplotlib) (21.3)\n",
      "Requirement already satisfied: fonttools>=4.22.0 in ./tmp/spark-178453f6-1422-4d7a-b0a3-2af691c4c030/lib64/python3.9/site-packages (from matplotlib) (4.56.0)\n",
      "Requirement already satisfied: contourpy>=1.0.1 in ./tmp/spark-178453f6-1422-4d7a-b0a3-2af691c4c030/lib64/python3.9/site-packages (from matplotlib) (1.3.0)\n",
      "Requirement already satisfied: zipp>=3.1.0 in ./tmp/spark-178453f6-1422-4d7a-b0a3-2af691c4c030/lib/python3.9/site-packages (from importlib-resources>=3.2.0->matplotlib) (3.21.0)\n",
      "Requirement already satisfied: six>=1.5 in /usr/local/lib/python3.9/site-packages (from python-dateutil>=2.7->matplotlib) (1.13.0)\n",
      "\n",
      "Collecting boto3\n",
      "  Downloading boto3-1.37.9-py3-none-any.whl (139 kB)\n",
      "Collecting s3transfer<0.12.0,>=0.11.0\n",
      "  Downloading s3transfer-0.11.4-py3-none-any.whl (84 kB)\n",
      "Requirement already satisfied: jmespath<2.0.0,>=0.7.1 in /usr/local/lib/python3.9/site-packages (from boto3) (1.0.1)\n",
      "Collecting botocore<1.38.0,>=1.37.9\n",
      "  Downloading botocore-1.37.9-py3-none-any.whl (13.4 MB)\n",
      "Requirement already satisfied: urllib3<1.27,>=1.25.4 in /usr/lib/python3.9/site-packages (from botocore<1.38.0,>=1.37.9->boto3) (1.25.10)\n",
      "Requirement already satisfied: python-dateutil<3.0.0,>=2.1 in ./tmp/spark-178453f6-1422-4d7a-b0a3-2af691c4c030/lib/python3.9/site-packages (from botocore<1.38.0,>=1.37.9->boto3) (2.9.0.post0)\n",
      "Requirement already satisfied: six>=1.5 in /usr/local/lib/python3.9/site-packages (from python-dateutil<3.0.0,>=2.1->botocore<1.38.0,>=1.37.9->boto3) (1.13.0)\n",
      "Installing collected packages: botocore, s3transfer, boto3\n",
      "Successfully installed boto3-1.37.9 botocore-1.37.9 s3transfer-0.11.4\n",
      "\n",
      "WARNING: The directory '/home/.cache/pip' or its parent directory is not owned or is not writable by the current user. The cache has been disabled. Check the permissions and owner of that directory. If executing pip with sudo, you should use sudo's -H flag.\n",
      "ERROR: pip's dependency resolver does not currently take into account all the packages that are installed. This behaviour is the source of the following dependency conflicts.\n",
      "awscli 2.17.18 requires python-dateutil<=2.8.2,>=2.1, but you have python-dateutil 2.9.0.post0 which is incompatible.\n",
      "\n",
      "WARNING: The directory '/home/.cache/pip' or its parent directory is not owned or is not writable by the current user. The cache has been disabled. Check the permissions and owner of that directory. If executing pip with sudo, you should use sudo's -H flag.\n",
      "\n",
      "WARNING: The directory '/home/.cache/pip' or its parent directory is not owned or is not writable by the current user. The cache has been disabled. Check the permissions and owner of that directory. If executing pip with sudo, you should use sudo's -H flag.\n",
      "\n",
      "WARNING: The directory '/home/.cache/pip' or its parent directory is not owned or is not writable by the current user. The cache has been disabled. Check the permissions and owner of that directory. If executing pip with sudo, you should use sudo's -H flag.\n",
      "\n",
      "WARNING: The directory '/home/.cache/pip' or its parent directory is not owned or is not writable by the current user. The cache has been disabled. Check the permissions and owner of that directory. If executing pip with sudo, you should use sudo's -H flag."
     ]
    }
   ],
   "source": [
    "# Install packages\n",
    "sc.install_pypi_package(\"pandas\")\n",
    "sc.install_pypi_package(\"numpy\")\n",
    "sc.install_pypi_package(\"seaborn\")\n",
    "sc.install_pypi_package(\"matplotlib\")\n",
    "sc.install_pypi_package(\"boto3\")"
   ]
  },
  {
   "cell_type": "code",
   "execution_count": 2,
   "id": "32cacaac-56fa-425c-a172-cfec89f38f02",
   "metadata": {
    "execution": {
     "iopub.execute_input": "2025-03-10T03:29:27.009472Z",
     "iopub.status.busy": "2025-03-10T03:29:27.009181Z",
     "iopub.status.idle": "2025-03-10T03:29:32.315808Z",
     "shell.execute_reply": "2025-03-10T03:29:32.314774Z",
     "shell.execute_reply.started": "2025-03-10T03:29:27.009432Z"
    },
    "tags": []
   },
   "outputs": [
    {
     "data": {
      "application/vnd.jupyter.widget-view+json": {
       "model_id": "d52403a143b345f3b47e9c700cec2205",
       "version_major": 2,
       "version_minor": 0
      },
      "text/plain": [
       "VBox()"
      ]
     },
     "metadata": {},
     "output_type": "display_data"
    },
    {
     "data": {
      "application/vnd.jupyter.widget-view+json": {
       "model_id": "",
       "version_major": 2,
       "version_minor": 0
      },
      "text/plain": [
       "FloatProgress(value=0.0, bar_style='info', description='Progress:', layout=Layout(height='25px', width='50%'),…"
      ]
     },
     "metadata": {},
     "output_type": "display_data"
    }
   ],
   "source": [
    "# Import libraries\n",
    "import pandas as pd\n",
    "import numpy as np\n",
    "import seaborn as sns\n",
    "import matplotlib.pyplot as plt\n",
    "import boto3\n",
    "import os\n",
    "\n",
    "from pyspark.sql import SparkSession, Row\n",
    "from pyspark.sql.functions import col\n",
    "from pyspark.ml import Pipeline\n",
    "from pyspark.ml.feature import StringIndexer, OneHotEncoder, MinMaxScaler, VectorAssembler\n",
    "from pyspark.ml.evaluation import RegressionEvaluator\n",
    "from pyspark.ml.regression import LinearRegression, RandomForestRegressor, GBTRegressor, GeneralizedLinearRegression\n",
    "from pyspark.ml.tuning import ParamGridBuilder, CrossValidator"
   ]
  },
  {
   "cell_type": "code",
   "execution_count": 3,
   "id": "a5cc1da8-58f0-42d6-b174-f3a428d73818",
   "metadata": {
    "execution": {
     "iopub.execute_input": "2025-03-10T03:29:32.317396Z",
     "iopub.status.busy": "2025-03-10T03:29:32.317034Z",
     "iopub.status.idle": "2025-03-10T03:29:32.406873Z",
     "shell.execute_reply": "2025-03-10T03:29:32.406322Z",
     "shell.execute_reply.started": "2025-03-10T03:29:32.317360Z"
    },
    "tags": []
   },
   "outputs": [
    {
     "data": {
      "application/vnd.jupyter.widget-view+json": {
       "model_id": "464dba5ffc224caa853ad7a9f96ef926",
       "version_major": 2,
       "version_minor": 0
      },
      "text/plain": [
       "VBox()"
      ]
     },
     "metadata": {},
     "output_type": "display_data"
    },
    {
     "data": {
      "application/vnd.jupyter.widget-view+json": {
       "model_id": "",
       "version_major": 2,
       "version_minor": 0
      },
      "text/plain": [
       "FloatProgress(value=0.0, bar_style='info', description='Progress:', layout=Layout(height='25px', width='50%'),…"
      ]
     },
     "metadata": {},
     "output_type": "display_data"
    }
   ],
   "source": [
    "# Initialize a Spark session\n",
    "spark = SparkSession.builder.appName(\"FinalProject - Machine Learning Model Development\").getOrCreate()"
   ]
  },
  {
   "cell_type": "code",
   "execution_count": 4,
   "id": "a52a6c90-1e20-4dbf-9776-07b866b482f6",
   "metadata": {
    "execution": {
     "iopub.execute_input": "2025-03-10T03:29:32.408637Z",
     "iopub.status.busy": "2025-03-10T03:29:32.408139Z",
     "iopub.status.idle": "2025-03-10T03:29:37.729033Z",
     "shell.execute_reply": "2025-03-10T03:29:37.723194Z",
     "shell.execute_reply.started": "2025-03-10T03:29:32.408598Z"
    },
    "tags": []
   },
   "outputs": [
    {
     "data": {
      "application/vnd.jupyter.widget-view+json": {
       "model_id": "3c0d2e784e4f44c396eb7c4d81d492ed",
       "version_major": 2,
       "version_minor": 0
      },
      "text/plain": [
       "VBox()"
      ]
     },
     "metadata": {},
     "output_type": "display_data"
    },
    {
     "data": {
      "application/vnd.jupyter.widget-view+json": {
       "model_id": "",
       "version_major": 2,
       "version_minor": 0
      },
      "text/plain": [
       "FloatProgress(value=0.0, bar_style='info', description='Progress:', layout=Layout(height='25px', width='50%'),…"
      ]
     },
     "metadata": {},
     "output_type": "display_data"
    }
   ],
   "source": [
    "# Load the 2024_chicago_taxi_and_weather dataset from an S3 bucket\n",
    "taxi_and_weather_path = \"s3://csc555-jaewon/final_project/2024_chicago_taxi_and_weather/20250305_222658_00067_pntyd_bf5908a3-a2ab-433b-830a-6f02200e2504\"\n",
    "taxi_and_weather_df = spark.read.parquet(taxi_and_weather_path)"
   ]
  },
  {
   "cell_type": "markdown",
   "id": "bb1ef133-88c4-46b5-96ce-2fa48d1fca89",
   "metadata": {},
   "source": [
    "---\n",
    "### 1. Data Preprocessing"
   ]
  },
  {
   "cell_type": "code",
   "execution_count": 5,
   "id": "6084af04-c350-4791-a4b1-a03c816a2a09",
   "metadata": {
    "execution": {
     "iopub.execute_input": "2025-03-10T03:29:37.730195Z",
     "iopub.status.busy": "2025-03-10T03:29:37.730020Z",
     "iopub.status.idle": "2025-03-10T03:29:38.003147Z",
     "shell.execute_reply": "2025-03-10T03:29:38.002335Z",
     "shell.execute_reply.started": "2025-03-10T03:29:37.730171Z"
    },
    "tags": []
   },
   "outputs": [
    {
     "data": {
      "application/vnd.jupyter.widget-view+json": {
       "model_id": "af026899b3a344aba8dffd3c0e51814f",
       "version_major": 2,
       "version_minor": 0
      },
      "text/plain": [
       "VBox()"
      ]
     },
     "metadata": {},
     "output_type": "display_data"
    },
    {
     "data": {
      "application/vnd.jupyter.widget-view+json": {
       "model_id": "",
       "version_major": 2,
       "version_minor": 0
      },
      "text/plain": [
       "FloatProgress(value=0.0, bar_style='info', description='Progress:', layout=Layout(height='25px', width='50%'),…"
      ]
     },
     "metadata": {},
     "output_type": "display_data"
    }
   ],
   "source": [
    "# Cast column to string type\n",
    "taxi_and_weather_df = taxi_and_weather_df.withColumn(\"weathercode\", taxi_and_weather_df[\"weathercode\"].cast(\"string\"))"
   ]
  },
  {
   "cell_type": "code",
   "execution_count": 6,
   "id": "52ed8878-bcbb-4ede-b17d-e87a5a21e506",
   "metadata": {
    "execution": {
     "iopub.execute_input": "2025-03-10T03:29:38.005553Z",
     "iopub.status.busy": "2025-03-10T03:29:38.004993Z",
     "iopub.status.idle": "2025-03-10T03:29:47.289607Z",
     "shell.execute_reply": "2025-03-10T03:29:47.288810Z",
     "shell.execute_reply.started": "2025-03-10T03:29:38.005513Z"
    },
    "tags": []
   },
   "outputs": [
    {
     "data": {
      "application/vnd.jupyter.widget-view+json": {
       "model_id": "a42fa950a0a84ed2adf27c0b5b16e382",
       "version_major": 2,
       "version_minor": 0
      },
      "text/plain": [
       "VBox()"
      ]
     },
     "metadata": {},
     "output_type": "display_data"
    },
    {
     "data": {
      "application/vnd.jupyter.widget-view+json": {
       "model_id": "",
       "version_major": 2,
       "version_minor": 0
      },
      "text/plain": [
       "FloatProgress(value=0.0, bar_style='info', description='Progress:', layout=Layout(height='25px', width='50%'),…"
      ]
     },
     "metadata": {},
     "output_type": "display_data"
    }
   ],
   "source": [
    "# String Indexing\n",
    "indexer = StringIndexer(inputCol = \"weathercode\", outputCol = \"weathercode_index\") # Indexing the 'weathercode' column\n",
    "indexer_model = indexer.fit(taxi_and_weather_df) # Fit the StringIndexer model  \n",
    "taxi_and_weather_df = indexer_model.transform(taxi_and_weather_df) # Transform the DataFrame with the indexer model"
   ]
  },
  {
   "cell_type": "code",
   "execution_count": 7,
   "id": "1c9bea45-b209-4e14-9650-ae959569bdc7",
   "metadata": {
    "execution": {
     "iopub.execute_input": "2025-03-10T03:29:47.291386Z",
     "iopub.status.busy": "2025-03-10T03:29:47.291133Z",
     "iopub.status.idle": "2025-03-10T03:29:47.537144Z",
     "shell.execute_reply": "2025-03-10T03:29:47.536290Z",
     "shell.execute_reply.started": "2025-03-10T03:29:47.291348Z"
    },
    "tags": []
   },
   "outputs": [
    {
     "data": {
      "application/vnd.jupyter.widget-view+json": {
       "model_id": "88cb4529bd9647158f072907bce22977",
       "version_major": 2,
       "version_minor": 0
      },
      "text/plain": [
       "VBox()"
      ]
     },
     "metadata": {},
     "output_type": "display_data"
    },
    {
     "data": {
      "application/vnd.jupyter.widget-view+json": {
       "model_id": "",
       "version_major": 2,
       "version_minor": 0
      },
      "text/plain": [
       "FloatProgress(value=0.0, bar_style='info', description='Progress:', layout=Layout(height='25px', width='50%'),…"
      ]
     },
     "metadata": {},
     "output_type": "display_data"
    }
   ],
   "source": [
    "# One-Hot Encoding\n",
    "encoder = OneHotEncoder(inputCol = \"weathercode_index\", outputCol = \"weathercode_onehot\") # One-hot encoding\n",
    "encoder_model = encoder.fit(taxi_and_weather_df) # Fit the OneHotEncoder model\n",
    "taxi_and_weather_df = encoder_model.transform(taxi_and_weather_df) # Transform the DataFrame with the encoder model"
   ]
  },
  {
   "cell_type": "code",
   "execution_count": 8,
   "id": "625ececd-2d22-4945-9800-b03823ccfabe",
   "metadata": {
    "execution": {
     "iopub.execute_input": "2025-03-10T03:29:47.538654Z",
     "iopub.status.busy": "2025-03-10T03:29:47.538414Z",
     "iopub.status.idle": "2025-03-10T03:30:00.876091Z",
     "shell.execute_reply": "2025-03-10T03:30:00.875019Z",
     "shell.execute_reply.started": "2025-03-10T03:29:47.538618Z"
    },
    "tags": []
   },
   "outputs": [
    {
     "data": {
      "application/vnd.jupyter.widget-view+json": {
       "model_id": "e2ed1bb192d245159726c56f2b28a241",
       "version_major": 2,
       "version_minor": 0
      },
      "text/plain": [
       "VBox()"
      ]
     },
     "metadata": {},
     "output_type": "display_data"
    },
    {
     "data": {
      "application/vnd.jupyter.widget-view+json": {
       "model_id": "",
       "version_major": 2,
       "version_minor": 0
      },
      "text/plain": [
       "FloatProgress(value=0.0, bar_style='info', description='Progress:', layout=Layout(height='25px', width='50%'),…"
      ]
     },
     "metadata": {},
     "output_type": "display_data"
    }
   ],
   "source": [
    "# Normalize numeric features using MinMaxScaler\n",
    "columns_to_normalize = [\"temperature_2m\", \"relative_humidity_2m\", \"precipitation\", \"windspeed_10m\", \"apparent_temperature\", \"windgusts_10m\"] \n",
    "columns_normalized = []\n",
    "\n",
    "for column in columns_to_normalize:\n",
    "    assembler = VectorAssembler(inputCols = [column], outputCol = f\"{column}_vec\") # Convert each column into a vector\n",
    "    scaler = MinMaxScaler(inputCol = f\"{column}_vec\", outputCol = f\"{column}_scaled\") # Apply MinMaxScaler to normalize the feature values\n",
    "    taxi_and_weather_df = assembler.transform(taxi_and_weather_df) # Assemble vector for the column\n",
    "    scaler_model = scaler.fit(taxi_and_weather_df) # Fit the scaler model\n",
    "    taxi_and_weather_df = scaler_model.transform(taxi_and_weather_df)\n",
    "    columns_normalized.append(f\"{column}_scaled\")"
   ]
  },
  {
   "cell_type": "code",
   "execution_count": 9,
   "id": "e24b2ace-3deb-4738-8661-0a8ffe1f1a21",
   "metadata": {
    "execution": {
     "iopub.execute_input": "2025-03-10T03:30:00.882461Z",
     "iopub.status.busy": "2025-03-10T03:30:00.881265Z",
     "iopub.status.idle": "2025-03-10T03:30:01.185622Z",
     "shell.execute_reply": "2025-03-10T03:30:01.184820Z",
     "shell.execute_reply.started": "2025-03-10T03:30:00.882421Z"
    },
    "tags": []
   },
   "outputs": [
    {
     "data": {
      "application/vnd.jupyter.widget-view+json": {
       "model_id": "47a184c14d4a41d3853e7b87874e82a7",
       "version_major": 2,
       "version_minor": 0
      },
      "text/plain": [
       "VBox()"
      ]
     },
     "metadata": {},
     "output_type": "display_data"
    },
    {
     "data": {
      "application/vnd.jupyter.widget-view+json": {
       "model_id": "",
       "version_major": 2,
       "version_minor": 0
      },
      "text/plain": [
       "FloatProgress(value=0.0, bar_style='info', description='Progress:', layout=Layout(height='25px', width='50%'),…"
      ]
     },
     "metadata": {},
     "output_type": "display_data"
    }
   ],
   "source": [
    "# Select relevant columns\n",
    "columns_to_select = [\"temperature_2m_scaled\", \"relative_humidity_2m_scaled\", \"precipitation_scaled\", \"windspeed_10m_scaled\",\n",
    "                     \"apparent_temperature_scaled\", \"windgusts_10m_scaled\", \"weathercode_onehot\", \"count\"]\n",
    "taxi_and_weather_df = taxi_and_weather_df.select(*columns_to_select)"
   ]
  },
  {
   "cell_type": "markdown",
   "id": "98598cd2-9804-4036-84a0-a33739d9517c",
   "metadata": {},
   "source": [
    "---\n",
    "### 2. Feature Engineering"
   ]
  },
  {
   "cell_type": "code",
   "execution_count": 10,
   "id": "bfbc726b-e069-49b5-b1bf-2a7338ae4595",
   "metadata": {
    "execution": {
     "iopub.execute_input": "2025-03-10T03:30:01.188983Z",
     "iopub.status.busy": "2025-03-10T03:30:01.188668Z",
     "iopub.status.idle": "2025-03-10T03:30:01.432388Z",
     "shell.execute_reply": "2025-03-10T03:30:01.431455Z",
     "shell.execute_reply.started": "2025-03-10T03:30:01.188944Z"
    },
    "tags": []
   },
   "outputs": [
    {
     "data": {
      "application/vnd.jupyter.widget-view+json": {
       "model_id": "4a782e75d39c4c749e39da570f9399ff",
       "version_major": 2,
       "version_minor": 0
      },
      "text/plain": [
       "VBox()"
      ]
     },
     "metadata": {},
     "output_type": "display_data"
    },
    {
     "data": {
      "application/vnd.jupyter.widget-view+json": {
       "model_id": "",
       "version_major": 2,
       "version_minor": 0
      },
      "text/plain": [
       "FloatProgress(value=0.0, bar_style='info', description='Progress:', layout=Layout(height='25px', width='50%'),…"
      ]
     },
     "metadata": {},
     "output_type": "display_data"
    }
   ],
   "source": [
    "# Assemble features into a vector for the machine learning model\n",
    "feature_columns = [\"temperature_2m_scaled\", \"relative_humidity_2m_scaled\", \"precipitation_scaled\", \"windspeed_10m_scaled\",\n",
    "                   \"apparent_temperature_scaled\", \"windgusts_10m_scaled\", \"weathercode_onehot\"]\n",
    "vector_assembler = VectorAssembler(inputCols = feature_columns, outputCol = \"features\")\n",
    "taxi_and_weather = vector_assembler.transform(taxi_and_weather_df)"
   ]
  },
  {
   "cell_type": "code",
   "execution_count": 11,
   "id": "eed17fbb-d659-43b5-8aec-7c3c8c1411a1",
   "metadata": {
    "execution": {
     "iopub.execute_input": "2025-03-10T03:30:01.433955Z",
     "iopub.status.busy": "2025-03-10T03:30:01.433703Z",
     "iopub.status.idle": "2025-03-10T03:30:03.737376Z",
     "shell.execute_reply": "2025-03-10T03:30:03.736712Z",
     "shell.execute_reply.started": "2025-03-10T03:30:01.433921Z"
    },
    "tags": []
   },
   "outputs": [
    {
     "data": {
      "application/vnd.jupyter.widget-view+json": {
       "model_id": "4d7cb562d16543d588c610a426470660",
       "version_major": 2,
       "version_minor": 0
      },
      "text/plain": [
       "VBox()"
      ]
     },
     "metadata": {},
     "output_type": "display_data"
    },
    {
     "data": {
      "application/vnd.jupyter.widget-view+json": {
       "model_id": "",
       "version_major": 2,
       "version_minor": 0
      },
      "text/plain": [
       "FloatProgress(value=0.0, bar_style='info', description='Progress:', layout=Layout(height='25px', width='50%'),…"
      ]
     },
     "metadata": {},
     "output_type": "display_data"
    },
    {
     "name": "stdout",
     "output_type": "stream",
     "text": [
      "+---------------------+---------------------------+--------------------+--------------------+---------------------------+--------------------+------------------+-----+--------------------+\n",
      "|temperature_2m_scaled|relative_humidity_2m_scaled|precipitation_scaled|windspeed_10m_scaled|apparent_temperature_scaled|windgusts_10m_scaled|weathercode_onehot|count|            features|\n",
      "+---------------------+---------------------------+--------------------+--------------------+---------------------------+--------------------+------------------+-----+--------------------+\n",
      "| [0.5407725321888412]|       [0.7945205479452054]|[0.01851851851851...|[0.6704035874439461]|       [0.4904214559386973]|[0.6372093023255813]|    (11,[4],[1.0])|  462|(17,[0,1,2,3,4,5,...|\n",
      "| [0.5429184549356224]|       [0.8082191780821917]|[0.01851851851851...|[0.6636771300448431]|       [0.49425287356321...| [0.641860465116279]|    (11,[4],[1.0])|  522|(17,[0,1,2,3,4,5,...|\n",
      "| [0.5493562231759657]|       [0.7945205479452054]|[0.01851851851851...|[0.6121076233183856]|       [0.5057471264367815]|[0.6263565891472868]|    (11,[4],[1.0])|  490|(17,[0,1,2,3,4,5,...|\n",
      "| [0.5450643776824035]|       [0.7945205479452054]|               [0.0]|[0.5582959641255605]|       [0.5076628352490421]|[0.5705426356589147]|    (11,[0],[1.0])|  269|(17,[0,1,3,4,5,6]...|\n",
      "| [0.5343347639484979]|       [0.7945205479452054]|               [0.0]|[0.5067264573991032]|        [0.503831417624521]|[0.5147286821705426]|    (11,[0],[1.0])|  150|(17,[0,1,3,4,5,6]...|\n",
      "+---------------------+---------------------------+--------------------+--------------------+---------------------------+--------------------+------------------+-----+--------------------+\n",
      "only showing top 5 rows"
     ]
    }
   ],
   "source": [
    "taxi_and_weather.show(5)"
   ]
  },
  {
   "cell_type": "markdown",
   "id": "b5ef1fe2-7960-484c-ae02-67f6e83958f4",
   "metadata": {},
   "source": [
    "---\n",
    "### 3. Data Splitting"
   ]
  },
  {
   "cell_type": "code",
   "execution_count": 12,
   "id": "9f77be70-0f72-44f1-b11d-73b916623267",
   "metadata": {
    "execution": {
     "iopub.execute_input": "2025-03-10T03:30:03.739134Z",
     "iopub.status.busy": "2025-03-10T03:30:03.738872Z",
     "iopub.status.idle": "2025-03-10T03:30:04.013254Z",
     "shell.execute_reply": "2025-03-10T03:30:04.012348Z",
     "shell.execute_reply.started": "2025-03-10T03:30:03.739097Z"
    },
    "tags": []
   },
   "outputs": [
    {
     "data": {
      "application/vnd.jupyter.widget-view+json": {
       "model_id": "bd6cf171b7c44c869bf213a42cf5322b",
       "version_major": 2,
       "version_minor": 0
      },
      "text/plain": [
       "VBox()"
      ]
     },
     "metadata": {},
     "output_type": "display_data"
    },
    {
     "data": {
      "application/vnd.jupyter.widget-view+json": {
       "model_id": "",
       "version_major": 2,
       "version_minor": 0
      },
      "text/plain": [
       "FloatProgress(value=0.0, bar_style='info', description='Progress:', layout=Layout(height='25px', width='50%'),…"
      ]
     },
     "metadata": {},
     "output_type": "display_data"
    }
   ],
   "source": [
    "# Split the data into training and testing sets\n",
    "train_data, test_data = taxi_and_weather.randomSplit([0.8, 0.2], seed = 37)"
   ]
  },
  {
   "cell_type": "markdown",
   "id": "9dd8ce2e-1084-487a-968d-eff6832210b0",
   "metadata": {},
   "source": [
    "---\n",
    "### 4. Machine Learning Model Development - Linear Regression"
   ]
  },
  {
   "cell_type": "code",
   "execution_count": 13,
   "id": "237fe332-3943-483f-864d-3382e0f7e3bd",
   "metadata": {
    "execution": {
     "iopub.execute_input": "2025-03-10T03:30:04.014827Z",
     "iopub.status.busy": "2025-03-10T03:30:04.014583Z",
     "iopub.status.idle": "2025-03-10T03:30:04.272113Z",
     "shell.execute_reply": "2025-03-10T03:30:04.270704Z",
     "shell.execute_reply.started": "2025-03-10T03:30:04.014789Z"
    }
   },
   "outputs": [
    {
     "data": {
      "application/vnd.jupyter.widget-view+json": {
       "model_id": "20dc8dc013094b3d8c6c2f72c419ce51",
       "version_major": 2,
       "version_minor": 0
      },
      "text/plain": [
       "VBox()"
      ]
     },
     "metadata": {},
     "output_type": "display_data"
    },
    {
     "data": {
      "application/vnd.jupyter.widget-view+json": {
       "model_id": "",
       "version_major": 2,
       "version_minor": 0
      },
      "text/plain": [
       "FloatProgress(value=0.0, bar_style='info', description='Progress:', layout=Layout(height='25px', width='50%'),…"
      ]
     },
     "metadata": {},
     "output_type": "display_data"
    }
   ],
   "source": [
    "# Define the linear regression model\n",
    "lr = LinearRegression(featuresCol = \"features\", labelCol = \"count\")"
   ]
  },
  {
   "cell_type": "code",
   "execution_count": 14,
   "id": "9b0ecbca-dcef-4b40-88a6-eddbaf780cd4",
   "metadata": {
    "execution": {
     "iopub.execute_input": "2025-03-10T03:30:04.274332Z",
     "iopub.status.busy": "2025-03-10T03:30:04.273766Z",
     "iopub.status.idle": "2025-03-10T03:30:04.341490Z",
     "shell.execute_reply": "2025-03-10T03:30:04.340474Z",
     "shell.execute_reply.started": "2025-03-10T03:30:04.274294Z"
    },
    "tags": []
   },
   "outputs": [
    {
     "data": {
      "application/vnd.jupyter.widget-view+json": {
       "model_id": "7c77b1ca6ea84713a721d6a5c2d7fe68",
       "version_major": 2,
       "version_minor": 0
      },
      "text/plain": [
       "VBox()"
      ]
     },
     "metadata": {},
     "output_type": "display_data"
    },
    {
     "data": {
      "application/vnd.jupyter.widget-view+json": {
       "model_id": "",
       "version_major": 2,
       "version_minor": 0
      },
      "text/plain": [
       "FloatProgress(value=0.0, bar_style='info', description='Progress:', layout=Layout(height='25px', width='50%'),…"
      ]
     },
     "metadata": {},
     "output_type": "display_data"
    }
   ],
   "source": [
    "# Create evaluators for RMSE, MAE, and R2\n",
    "evaluator_rmse = RegressionEvaluator(metricName = \"rmse\", labelCol = \"count\", predictionCol = \"prediction\")\n",
    "evaluator_mae = RegressionEvaluator(metricName = \"mae\", labelCol = \"count\", predictionCol = \"prediction\")\n",
    "evaluator_r2 = RegressionEvaluator(metricName = \"r2\", labelCol = \"count\", predictionCol = \"prediction\")"
   ]
  },
  {
   "cell_type": "code",
   "execution_count": 15,
   "id": "c1119630-7f82-4ee3-82e7-0649af23a7ed",
   "metadata": {
    "execution": {
     "iopub.execute_input": "2025-03-10T03:30:04.343161Z",
     "iopub.status.busy": "2025-03-10T03:30:04.342905Z",
     "iopub.status.idle": "2025-03-10T03:30:04.453780Z",
     "shell.execute_reply": "2025-03-10T03:30:04.452883Z",
     "shell.execute_reply.started": "2025-03-10T03:30:04.343125Z"
    },
    "tags": []
   },
   "outputs": [
    {
     "data": {
      "application/vnd.jupyter.widget-view+json": {
       "model_id": "1a2ddfcc5bba4c338f0c7136e13926db",
       "version_major": 2,
       "version_minor": 0
      },
      "text/plain": [
       "VBox()"
      ]
     },
     "metadata": {},
     "output_type": "display_data"
    },
    {
     "data": {
      "application/vnd.jupyter.widget-view+json": {
       "model_id": "",
       "version_major": 2,
       "version_minor": 0
      },
      "text/plain": [
       "FloatProgress(value=0.0, bar_style='info', description='Progress:', layout=Layout(height='25px', width='50%'),…"
      ]
     },
     "metadata": {},
     "output_type": "display_data"
    }
   ],
   "source": [
    "# Set up parameter grid for hyperparameter tuning\n",
    "paramGrid = (ParamGridBuilder()\n",
    "             .addGrid(lr.regParam, [0.1, 0.01, 0.001])\n",
    "             .addGrid(lr.elasticNetParam, [0.0, 0.5, 1.0])\n",
    "             .addGrid(lr.maxIter, [10, 50, 100])\n",
    "             .build())"
   ]
  },
  {
   "cell_type": "code",
   "execution_count": 16,
   "id": "05b7daf5-8d65-4071-86b2-d94c9fbf71e7",
   "metadata": {
    "execution": {
     "iopub.execute_input": "2025-03-10T03:30:04.455585Z",
     "iopub.status.busy": "2025-03-10T03:30:04.455347Z",
     "iopub.status.idle": "2025-03-10T03:30:04.594892Z",
     "shell.execute_reply": "2025-03-10T03:30:04.594109Z",
     "shell.execute_reply.started": "2025-03-10T03:30:04.455551Z"
    },
    "tags": []
   },
   "outputs": [
    {
     "data": {
      "application/vnd.jupyter.widget-view+json": {
       "model_id": "5a27787ef48b41b5b70578213033802a",
       "version_major": 2,
       "version_minor": 0
      },
      "text/plain": [
       "VBox()"
      ]
     },
     "metadata": {},
     "output_type": "display_data"
    },
    {
     "data": {
      "application/vnd.jupyter.widget-view+json": {
       "model_id": "",
       "version_major": 2,
       "version_minor": 0
      },
      "text/plain": [
       "FloatProgress(value=0.0, bar_style='info', description='Progress:', layout=Layout(height='25px', width='50%'),…"
      ]
     },
     "metadata": {},
     "output_type": "display_data"
    }
   ],
   "source": [
    "# Set up cross-validation\n",
    "lr_crossval = CrossValidator(estimator = lr,\n",
    "                             estimatorParamMaps = paramGrid,\n",
    "                             evaluator = evaluator_rmse,\n",
    "                             numFolds = 3,\n",
    "                             parallelism = 3)"
   ]
  },
  {
   "cell_type": "code",
   "execution_count": 17,
   "id": "a001d6a4-c41a-44fa-8f8a-b6cd2ed94ec7",
   "metadata": {
    "execution": {
     "iopub.execute_input": "2025-03-10T03:30:04.596761Z",
     "iopub.status.busy": "2025-03-10T03:30:04.596194Z",
     "iopub.status.idle": "2025-03-10T03:30:42.374354Z",
     "shell.execute_reply": "2025-03-10T03:30:42.372907Z",
     "shell.execute_reply.started": "2025-03-10T03:30:04.596724Z"
    },
    "tags": []
   },
   "outputs": [
    {
     "data": {
      "application/vnd.jupyter.widget-view+json": {
       "model_id": "7d3fba7eb0b04cf6af48099fce5fe68c",
       "version_major": 2,
       "version_minor": 0
      },
      "text/plain": [
       "VBox()"
      ]
     },
     "metadata": {},
     "output_type": "display_data"
    },
    {
     "data": {
      "application/vnd.jupyter.widget-view+json": {
       "model_id": "",
       "version_major": 2,
       "version_minor": 0
      },
      "text/plain": [
       "FloatProgress(value=0.0, bar_style='info', description='Progress:', layout=Layout(height='25px', width='50%'),…"
      ]
     },
     "metadata": {},
     "output_type": "display_data"
    },
    {
     "name": "stderr",
     "output_type": "stream",
     "text": [
      "Exception in thread cell_monitor-14:\n",
      "Traceback (most recent call last):\n",
      "  File \"/mnt/notebook-env/lib/python3.9/threading.py\", line 980, in _bootstrap_inner\n",
      "    self.run()\n",
      "  File \"/mnt/notebook-env/lib/python3.9/threading.py\", line 917, in run\n",
      "    self._target(*self._args, **self._kwargs)\n",
      "  File \"/mnt/notebook-env/lib/python3.9/site-packages/awseditorssparkmonitoringwidget/cellmonitor.py\", line 154, in cell_monitor\n",
      "    job_group_filtered_jobs = [job for job in jobs_data if job['jobGroup'] == str(statement_id)]\n",
      "  File \"/mnt/notebook-env/lib/python3.9/site-packages/awseditorssparkmonitoringwidget/cellmonitor.py\", line 154, in <listcomp>\n",
      "    job_group_filtered_jobs = [job for job in jobs_data if job['jobGroup'] == str(statement_id)]\n",
      "KeyError: 'jobGroup'\n",
      "Exception in thread cell_monitor-15:\n",
      "Traceback (most recent call last):\n",
      "  File \"/mnt/notebook-env/lib/python3.9/threading.py\", line 980, in _bootstrap_inner\n",
      "    self.run()\n",
      "  File \"/mnt/notebook-env/lib/python3.9/threading.py\", line 917, in run\n",
      "    self._target(*self._args, **self._kwargs)\n",
      "  File \"/mnt/notebook-env/lib/python3.9/site-packages/awseditorssparkmonitoringwidget/cellmonitor.py\", line 154, in cell_monitor\n",
      "    job_group_filtered_jobs = [job for job in jobs_data if job['jobGroup'] == str(statement_id)]\n",
      "  File \"/mnt/notebook-env/lib/python3.9/site-packages/awseditorssparkmonitoringwidget/cellmonitor.py\", line 154, in <listcomp>\n",
      "    job_group_filtered_jobs = [job for job in jobs_data if job['jobGroup'] == str(statement_id)]\n",
      "KeyError: 'jobGroup'\n",
      "Exception in thread cell_monitor-16:\n",
      "Traceback (most recent call last):\n",
      "  File \"/mnt/notebook-env/lib/python3.9/threading.py\", line 980, in _bootstrap_inner\n",
      "    self.run()\n",
      "  File \"/mnt/notebook-env/lib/python3.9/threading.py\", line 917, in run\n",
      "    self._target(*self._args, **self._kwargs)\n",
      "  File \"/mnt/notebook-env/lib/python3.9/site-packages/awseditorssparkmonitoringwidget/cellmonitor.py\", line 154, in cell_monitor\n",
      "    job_group_filtered_jobs = [job for job in jobs_data if job['jobGroup'] == str(statement_id)]\n",
      "  File \"/mnt/notebook-env/lib/python3.9/site-packages/awseditorssparkmonitoringwidget/cellmonitor.py\", line 154, in <listcomp>\n",
      "    job_group_filtered_jobs = [job for job in jobs_data if job['jobGroup'] == str(statement_id)]\n",
      "KeyError: 'jobGroup'\n",
      "Exception in thread cell_monitor-17:\n",
      "Traceback (most recent call last):\n",
      "  File \"/mnt/notebook-env/lib/python3.9/threading.py\", line 980, in _bootstrap_inner\n",
      "    self.run()\n",
      "  File \"/mnt/notebook-env/lib/python3.9/threading.py\", line 917, in run\n",
      "    self._target(*self._args, **self._kwargs)\n",
      "  File \"/mnt/notebook-env/lib/python3.9/site-packages/awseditorssparkmonitoringwidget/cellmonitor.py\", line 154, in cell_monitor\n",
      "    job_group_filtered_jobs = [job for job in jobs_data if job['jobGroup'] == str(statement_id)]\n",
      "  File \"/mnt/notebook-env/lib/python3.9/site-packages/awseditorssparkmonitoringwidget/cellmonitor.py\", line 154, in <listcomp>\n",
      "    job_group_filtered_jobs = [job for job in jobs_data if job['jobGroup'] == str(statement_id)]\n",
      "KeyError: 'jobGroup'\n",
      "Exception in thread cell_monitor-12:\n",
      "Traceback (most recent call last):\n",
      "  File \"/mnt/notebook-env/lib/python3.9/threading.py\", line 980, in _bootstrap_inner\n",
      "    self.run()\n",
      "  File \"/mnt/notebook-env/lib/python3.9/threading.py\", line 917, in run\n",
      "    self._target(*self._args, **self._kwargs)\n",
      "  File \"/mnt/notebook-env/lib/python3.9/site-packages/awseditorssparkmonitoringwidget/cellmonitor.py\", line 154, in cell_monitor\n",
      "    job_group_filtered_jobs = [job for job in jobs_data if job['jobGroup'] == str(statement_id)]\n",
      "  File \"/mnt/notebook-env/lib/python3.9/site-packages/awseditorssparkmonitoringwidget/cellmonitor.py\", line 154, in <listcomp>\n",
      "    job_group_filtered_jobs = [job for job in jobs_data if job['jobGroup'] == str(statement_id)]\n",
      "KeyError: 'jobGroup'\n",
      "Exception in thread cell_monitor-13:\n",
      "Traceback (most recent call last):\n",
      "  File \"/mnt/notebook-env/lib/python3.9/threading.py\", line 980, in _bootstrap_inner\n",
      "    self.run()\n",
      "  File \"/mnt/notebook-env/lib/python3.9/threading.py\", line 917, in run\n",
      "    self._target(*self._args, **self._kwargs)\n",
      "  File \"/mnt/notebook-env/lib/python3.9/site-packages/awseditorssparkmonitoringwidget/cellmonitor.py\", line 154, in cell_monitor\n",
      "    job_group_filtered_jobs = [job for job in jobs_data if job['jobGroup'] == str(statement_id)]\n",
      "  File \"/mnt/notebook-env/lib/python3.9/site-packages/awseditorssparkmonitoringwidget/cellmonitor.py\", line 154, in <listcomp>\n",
      "    job_group_filtered_jobs = [job for job in jobs_data if job['jobGroup'] == str(statement_id)]\n",
      "KeyError: 'jobGroup'\n"
     ]
    }
   ],
   "source": [
    "# Fit the model and get the best one\n",
    "lr_cv = lr_crossval.fit(train_data)\n",
    "best_lr = lr_cv.bestModel"
   ]
  },
  {
   "cell_type": "code",
   "execution_count": 18,
   "id": "9db2b93c-f72c-4cab-a0f5-6fe040e63322",
   "metadata": {
    "execution": {
     "iopub.execute_input": "2025-03-10T03:30:42.379173Z",
     "iopub.status.busy": "2025-03-10T03:30:42.378499Z",
     "iopub.status.idle": "2025-03-10T03:30:42.487516Z",
     "shell.execute_reply": "2025-03-10T03:30:42.481968Z",
     "shell.execute_reply.started": "2025-03-10T03:30:42.379131Z"
    }
   },
   "outputs": [
    {
     "data": {
      "application/vnd.jupyter.widget-view+json": {
       "model_id": "55582a7cc688466c96fa458d55913e4b",
       "version_major": 2,
       "version_minor": 0
      },
      "text/plain": [
       "VBox()"
      ]
     },
     "metadata": {},
     "output_type": "display_data"
    },
    {
     "data": {
      "application/vnd.jupyter.widget-view+json": {
       "model_id": "",
       "version_major": 2,
       "version_minor": 0
      },
      "text/plain": [
       "FloatProgress(value=0.0, bar_style='info', description='Progress:', layout=Layout(height='25px', width='50%'),…"
      ]
     },
     "metadata": {},
     "output_type": "display_data"
    }
   ],
   "source": [
    "# Make predictions and evaluate the model\n",
    "lr_prediction = best_lr.transform(test_data)"
   ]
  },
  {
   "cell_type": "code",
   "execution_count": 19,
   "id": "d274c780-da2f-4910-979b-0f1670810434",
   "metadata": {
    "execution": {
     "iopub.execute_input": "2025-03-10T03:30:42.489099Z",
     "iopub.status.busy": "2025-03-10T03:30:42.488652Z",
     "iopub.status.idle": "2025-03-10T03:30:44.807431Z",
     "shell.execute_reply": "2025-03-10T03:30:44.806408Z",
     "shell.execute_reply.started": "2025-03-10T03:30:42.489059Z"
    }
   },
   "outputs": [
    {
     "name": "stderr",
     "output_type": "stream",
     "text": [
      "Exception in thread cell_monitor-18:\n",
      "Traceback (most recent call last):\n",
      "  File \"/mnt/notebook-env/lib/python3.9/threading.py\", line 980, in _bootstrap_inner\n",
      "    self.run()\n",
      "  File \"/mnt/notebook-env/lib/python3.9/threading.py\", line 917, in run\n",
      "    self._target(*self._args, **self._kwargs)\n",
      "  File \"/mnt/notebook-env/lib/python3.9/site-packages/awseditorssparkmonitoringwidget/cellmonitor.py\", line 154, in cell_monitor\n",
      "    job_group_filtered_jobs = [job for job in jobs_data if job['jobGroup'] == str(statement_id)]\n",
      "  File \"/mnt/notebook-env/lib/python3.9/site-packages/awseditorssparkmonitoringwidget/cellmonitor.py\", line 154, in <listcomp>\n",
      "    job_group_filtered_jobs = [job for job in jobs_data if job['jobGroup'] == str(statement_id)]\n",
      "KeyError: 'jobGroup'\n"
     ]
    },
    {
     "data": {
      "application/vnd.jupyter.widget-view+json": {
       "model_id": "5855c66e4f614907a73adbda95a319b7",
       "version_major": 2,
       "version_minor": 0
      },
      "text/plain": [
       "VBox()"
      ]
     },
     "metadata": {},
     "output_type": "display_data"
    },
    {
     "data": {
      "application/vnd.jupyter.widget-view+json": {
       "model_id": "",
       "version_major": 2,
       "version_minor": 0
      },
      "text/plain": [
       "FloatProgress(value=0.0, bar_style='info', description='Progress:', layout=Layout(height='25px', width='50%'),…"
      ]
     },
     "metadata": {},
     "output_type": "display_data"
    },
    {
     "name": "stderr",
     "output_type": "stream",
     "text": [
      "Exception in thread cell_monitor-19:\n",
      "Traceback (most recent call last):\n",
      "  File \"/mnt/notebook-env/lib/python3.9/threading.py\", line 980, in _bootstrap_inner\n",
      "    self.run()\n",
      "  File \"/mnt/notebook-env/lib/python3.9/threading.py\", line 917, in run\n",
      "    self._target(*self._args, **self._kwargs)\n",
      "  File \"/mnt/notebook-env/lib/python3.9/site-packages/awseditorssparkmonitoringwidget/cellmonitor.py\", line 154, in cell_monitor\n",
      "    job_group_filtered_jobs = [job for job in jobs_data if job['jobGroup'] == str(statement_id)]\n",
      "  File \"/mnt/notebook-env/lib/python3.9/site-packages/awseditorssparkmonitoringwidget/cellmonitor.py\", line 154, in <listcomp>\n",
      "    job_group_filtered_jobs = [job for job in jobs_data if job['jobGroup'] == str(statement_id)]\n",
      "KeyError: 'jobGroup'\n"
     ]
    }
   ],
   "source": [
    "# Evaluate the model using RMSE, MAE, and R2\n",
    "lr_rmse = evaluator_rmse.evaluate(lr_prediction)\n",
    "lr_mae = evaluator_mae.evaluate(lr_prediction)\n",
    "lr_r2 = evaluator_r2.evaluate(lr_prediction)"
   ]
  },
  {
   "cell_type": "code",
   "execution_count": 20,
   "id": "47a317e9-6cdd-4309-a68e-fa360a281ac2",
   "metadata": {
    "execution": {
     "iopub.execute_input": "2025-03-10T03:30:44.809482Z",
     "iopub.status.busy": "2025-03-10T03:30:44.809214Z",
     "iopub.status.idle": "2025-03-10T03:30:45.003338Z",
     "shell.execute_reply": "2025-03-10T03:30:45.002394Z",
     "shell.execute_reply.started": "2025-03-10T03:30:44.809443Z"
    }
   },
   "outputs": [
    {
     "data": {
      "application/vnd.jupyter.widget-view+json": {
       "model_id": "607899d69a5d41c0974687a9a11654ac",
       "version_major": 2,
       "version_minor": 0
      },
      "text/plain": [
       "VBox()"
      ]
     },
     "metadata": {},
     "output_type": "display_data"
    },
    {
     "name": "stderr",
     "output_type": "stream",
     "text": [
      "Exception in thread cell_monitor-20:\n",
      "Traceback (most recent call last):\n",
      "  File \"/mnt/notebook-env/lib/python3.9/threading.py\", line 980, in _bootstrap_inner\n",
      "    self.run()\n",
      "  File \"/mnt/notebook-env/lib/python3.9/threading.py\", line 917, in run\n",
      "    self._target(*self._args, **self._kwargs)\n",
      "  File \"/mnt/notebook-env/lib/python3.9/site-packages/awseditorssparkmonitoringwidget/cellmonitor.py\", line 154, in cell_monitor\n",
      "    job_group_filtered_jobs = [job for job in jobs_data if job['jobGroup'] == str(statement_id)]\n",
      "  File \"/mnt/notebook-env/lib/python3.9/site-packages/awseditorssparkmonitoringwidget/cellmonitor.py\", line 154, in <listcomp>\n",
      "    job_group_filtered_jobs = [job for job in jobs_data if job['jobGroup'] == str(statement_id)]\n",
      "KeyError: 'jobGroup'\n"
     ]
    },
    {
     "data": {
      "application/vnd.jupyter.widget-view+json": {
       "model_id": "",
       "version_major": 2,
       "version_minor": 0
      },
      "text/plain": [
       "FloatProgress(value=0.0, bar_style='info', description='Progress:', layout=Layout(height='25px', width='50%'),…"
      ]
     },
     "metadata": {},
     "output_type": "display_data"
    },
    {
     "name": "stdout",
     "output_type": "stream",
     "text": [
      "RMSE: 339.9076221923039\n",
      "MAE: 288.92843891878266\n",
      "R2: 0.31265111142037494"
     ]
    }
   ],
   "source": [
    "print(f\"RMSE: {lr_rmse}\")\n",
    "print(f\"MAE: {lr_mae}\")\n",
    "print(f\"R2: {lr_r2}\")"
   ]
  },
  {
   "cell_type": "markdown",
   "id": "32504e7d-a8b3-476c-9b24-a01f59b63f7e",
   "metadata": {},
   "source": [
    "---\n",
    "### 5. Machine Learning Model Development - Random Forest Regressor"
   ]
  },
  {
   "cell_type": "code",
   "execution_count": 21,
   "id": "32238d09-9a69-4260-a75e-2dfd1adcd69a",
   "metadata": {
    "execution": {
     "iopub.execute_input": "2025-03-10T03:30:45.007947Z",
     "iopub.status.busy": "2025-03-10T03:30:45.004683Z",
     "iopub.status.idle": "2025-03-10T03:30:45.160250Z",
     "shell.execute_reply": "2025-03-10T03:30:45.159473Z",
     "shell.execute_reply.started": "2025-03-10T03:30:45.007890Z"
    }
   },
   "outputs": [
    {
     "data": {
      "application/vnd.jupyter.widget-view+json": {
       "model_id": "b70e6e5239d84cebb6183b25c175a304",
       "version_major": 2,
       "version_minor": 0
      },
      "text/plain": [
       "VBox()"
      ]
     },
     "metadata": {},
     "output_type": "display_data"
    },
    {
     "data": {
      "application/vnd.jupyter.widget-view+json": {
       "model_id": "",
       "version_major": 2,
       "version_minor": 0
      },
      "text/plain": [
       "FloatProgress(value=0.0, bar_style='info', description='Progress:', layout=Layout(height='25px', width='50%'),…"
      ]
     },
     "metadata": {},
     "output_type": "display_data"
    }
   ],
   "source": [
    "# Define the random forest regressor model\n",
    "rf = RandomForestRegressor(featuresCol = \"features\", labelCol = \"count\")"
   ]
  },
  {
   "cell_type": "code",
   "execution_count": 22,
   "id": "57efa216-9556-432d-88ea-0d154afb5e9e",
   "metadata": {
    "execution": {
     "iopub.execute_input": "2025-03-10T03:30:45.164377Z",
     "iopub.status.busy": "2025-03-10T03:30:45.163854Z",
     "iopub.status.idle": "2025-03-10T03:30:45.288805Z",
     "shell.execute_reply": "2025-03-10T03:30:45.287721Z",
     "shell.execute_reply.started": "2025-03-10T03:30:45.164303Z"
    }
   },
   "outputs": [
    {
     "data": {
      "application/vnd.jupyter.widget-view+json": {
       "model_id": "ee96107732b540abb041b3c3bb5e3759",
       "version_major": 2,
       "version_minor": 0
      },
      "text/plain": [
       "VBox()"
      ]
     },
     "metadata": {},
     "output_type": "display_data"
    },
    {
     "name": "stderr",
     "output_type": "stream",
     "text": [
      "Exception in thread cell_monitor-21:\n",
      "Traceback (most recent call last):\n",
      "  File \"/mnt/notebook-env/lib/python3.9/threading.py\", line 980, in _bootstrap_inner\n",
      "    self.run()\n",
      "  File \"/mnt/notebook-env/lib/python3.9/threading.py\", line 917, in run\n",
      "    self._target(*self._args, **self._kwargs)\n",
      "  File \"/mnt/notebook-env/lib/python3.9/site-packages/awseditorssparkmonitoringwidget/cellmonitor.py\", line 154, in cell_monitor\n",
      "    job_group_filtered_jobs = [job for job in jobs_data if job['jobGroup'] == str(statement_id)]\n",
      "  File \"/mnt/notebook-env/lib/python3.9/site-packages/awseditorssparkmonitoringwidget/cellmonitor.py\", line 154, in <listcomp>\n",
      "    job_group_filtered_jobs = [job for job in jobs_data if job['jobGroup'] == str(statement_id)]\n",
      "KeyError: 'jobGroup'\n"
     ]
    },
    {
     "data": {
      "application/vnd.jupyter.widget-view+json": {
       "model_id": "",
       "version_major": 2,
       "version_minor": 0
      },
      "text/plain": [
       "FloatProgress(value=0.0, bar_style='info', description='Progress:', layout=Layout(height='25px', width='50%'),…"
      ]
     },
     "metadata": {},
     "output_type": "display_data"
    }
   ],
   "source": [
    "# Create evaluators for RMSE, MAE, and R2\n",
    "evaluator_rmse = RegressionEvaluator(metricName = \"rmse\", labelCol = \"count\", predictionCol = \"prediction\")\n",
    "evaluator_mae = RegressionEvaluator(metricName = \"mae\", labelCol = \"count\", predictionCol = \"prediction\")\n",
    "evaluator_r2 = RegressionEvaluator(metricName = \"r2\", labelCol = \"count\", predictionCol = \"prediction\")"
   ]
  },
  {
   "cell_type": "code",
   "execution_count": 23,
   "id": "b5c13584-225d-40a9-bc2a-2230cfed729e",
   "metadata": {
    "execution": {
     "iopub.execute_input": "2025-03-10T03:30:45.290591Z",
     "iopub.status.busy": "2025-03-10T03:30:45.290096Z",
     "iopub.status.idle": "2025-03-10T03:30:45.358490Z",
     "shell.execute_reply": "2025-03-10T03:30:45.357742Z",
     "shell.execute_reply.started": "2025-03-10T03:30:45.290552Z"
    }
   },
   "outputs": [
    {
     "data": {
      "application/vnd.jupyter.widget-view+json": {
       "model_id": "5a3ff388b0f842e38b44baf4118c2664",
       "version_major": 2,
       "version_minor": 0
      },
      "text/plain": [
       "VBox()"
      ]
     },
     "metadata": {},
     "output_type": "display_data"
    },
    {
     "name": "stderr",
     "output_type": "stream",
     "text": [
      "Exception in thread cell_monitor-22:\n",
      "Traceback (most recent call last):\n",
      "  File \"/mnt/notebook-env/lib/python3.9/threading.py\", line 980, in _bootstrap_inner\n",
      "    self.run()\n",
      "  File \"/mnt/notebook-env/lib/python3.9/threading.py\", line 917, in run\n",
      "    self._target(*self._args, **self._kwargs)\n",
      "  File \"/mnt/notebook-env/lib/python3.9/site-packages/awseditorssparkmonitoringwidget/cellmonitor.py\", line 154, in cell_monitor\n",
      "    job_group_filtered_jobs = [job for job in jobs_data if job['jobGroup'] == str(statement_id)]\n",
      "  File \"/mnt/notebook-env/lib/python3.9/site-packages/awseditorssparkmonitoringwidget/cellmonitor.py\", line 154, in <listcomp>\n",
      "    job_group_filtered_jobs = [job for job in jobs_data if job['jobGroup'] == str(statement_id)]\n",
      "KeyError: 'jobGroup'\n"
     ]
    },
    {
     "data": {
      "application/vnd.jupyter.widget-view+json": {
       "model_id": "",
       "version_major": 2,
       "version_minor": 0
      },
      "text/plain": [
       "FloatProgress(value=0.0, bar_style='info', description='Progress:', layout=Layout(height='25px', width='50%'),…"
      ]
     },
     "metadata": {},
     "output_type": "display_data"
    }
   ],
   "source": [
    "# Set up parameter grid for hyperparameter tuning\n",
    "paramGrid = (ParamGridBuilder()\n",
    "             .addGrid(rf.numTrees, [10, 50, 100])\n",
    "             .addGrid(rf.maxDepth, [5, 10, 20])\n",
    "             .addGrid(rf.maxBins, [32, 64])\n",
    "             .build())"
   ]
  },
  {
   "cell_type": "code",
   "execution_count": 24,
   "id": "1b7c7d6e-8378-42f0-a08e-a51980bdfb93",
   "metadata": {
    "execution": {
     "iopub.execute_input": "2025-03-10T03:30:45.396001Z",
     "iopub.status.busy": "2025-03-10T03:30:45.395557Z",
     "iopub.status.idle": "2025-03-10T03:30:45.487545Z",
     "shell.execute_reply": "2025-03-10T03:30:45.486579Z",
     "shell.execute_reply.started": "2025-03-10T03:30:45.395956Z"
    }
   },
   "outputs": [
    {
     "data": {
      "application/vnd.jupyter.widget-view+json": {
       "model_id": "26f9a87dc6254df089514ff06585b3a5",
       "version_major": 2,
       "version_minor": 0
      },
      "text/plain": [
       "VBox()"
      ]
     },
     "metadata": {},
     "output_type": "display_data"
    },
    {
     "data": {
      "application/vnd.jupyter.widget-view+json": {
       "model_id": "",
       "version_major": 2,
       "version_minor": 0
      },
      "text/plain": [
       "FloatProgress(value=0.0, bar_style='info', description='Progress:', layout=Layout(height='25px', width='50%'),…"
      ]
     },
     "metadata": {},
     "output_type": "display_data"
    },
    {
     "name": "stderr",
     "output_type": "stream",
     "text": [
      "Exception in thread cell_monitor-23:\n",
      "Traceback (most recent call last):\n",
      "  File \"/mnt/notebook-env/lib/python3.9/threading.py\", line 980, in _bootstrap_inner\n",
      "    self.run()\n",
      "  File \"/mnt/notebook-env/lib/python3.9/threading.py\", line 917, in run\n",
      "    self._target(*self._args, **self._kwargs)\n",
      "  File \"/mnt/notebook-env/lib/python3.9/site-packages/awseditorssparkmonitoringwidget/cellmonitor.py\", line 154, in cell_monitor\n",
      "    job_group_filtered_jobs = [job for job in jobs_data if job['jobGroup'] == str(statement_id)]\n",
      "  File \"/mnt/notebook-env/lib/python3.9/site-packages/awseditorssparkmonitoringwidget/cellmonitor.py\", line 154, in <listcomp>\n",
      "    job_group_filtered_jobs = [job for job in jobs_data if job['jobGroup'] == str(statement_id)]\n",
      "KeyError: 'jobGroup'\n"
     ]
    }
   ],
   "source": [
    "# Set up cross-validation\n",
    "rf_crossval = CrossValidator(estimator = rf,\n",
    "                             estimatorParamMaps = paramGrid,\n",
    "                             evaluator = evaluator_rmse,\n",
    "                             numFolds = 3,\n",
    "                             parallelism = 3)"
   ]
  },
  {
   "cell_type": "code",
   "execution_count": 25,
   "id": "715c3d03-710a-4c64-9c94-534455c56328",
   "metadata": {
    "execution": {
     "iopub.execute_input": "2025-03-10T03:30:45.489028Z",
     "iopub.status.busy": "2025-03-10T03:30:45.488690Z",
     "iopub.status.idle": "2025-03-10T03:33:37.259190Z",
     "shell.execute_reply": "2025-03-10T03:33:37.258353Z",
     "shell.execute_reply.started": "2025-03-10T03:30:45.488990Z"
    }
   },
   "outputs": [
    {
     "data": {
      "application/vnd.jupyter.widget-view+json": {
       "model_id": "022a9188989449ccba68ea0a3e6fc798",
       "version_major": 2,
       "version_minor": 0
      },
      "text/plain": [
       "VBox()"
      ]
     },
     "metadata": {},
     "output_type": "display_data"
    },
    {
     "name": "stderr",
     "output_type": "stream",
     "text": [
      "Exception in thread cell_monitor-24:\n",
      "Traceback (most recent call last):\n",
      "  File \"/mnt/notebook-env/lib/python3.9/threading.py\", line 980, in _bootstrap_inner\n",
      "    self.run()\n",
      "  File \"/mnt/notebook-env/lib/python3.9/threading.py\", line 917, in run\n",
      "    self._target(*self._args, **self._kwargs)\n",
      "  File \"/mnt/notebook-env/lib/python3.9/site-packages/awseditorssparkmonitoringwidget/cellmonitor.py\", line 154, in cell_monitor\n",
      "    job_group_filtered_jobs = [job for job in jobs_data if job['jobGroup'] == str(statement_id)]\n",
      "  File \"/mnt/notebook-env/lib/python3.9/site-packages/awseditorssparkmonitoringwidget/cellmonitor.py\", line 154, in <listcomp>\n",
      "    job_group_filtered_jobs = [job for job in jobs_data if job['jobGroup'] == str(statement_id)]\n",
      "KeyError: 'jobGroup'\n"
     ]
    },
    {
     "data": {
      "application/vnd.jupyter.widget-view+json": {
       "model_id": "",
       "version_major": 2,
       "version_minor": 0
      },
      "text/plain": [
       "FloatProgress(value=0.0, bar_style='info', description='Progress:', layout=Layout(height='25px', width='50%'),…"
      ]
     },
     "metadata": {},
     "output_type": "display_data"
    },
    {
     "name": "stderr",
     "output_type": "stream",
     "text": [
      "Exception in thread cell_monitor-25:\n",
      "Traceback (most recent call last):\n",
      "  File \"/mnt/notebook-env/lib/python3.9/threading.py\", line 980, in _bootstrap_inner\n",
      "    self.run()\n",
      "  File \"/mnt/notebook-env/lib/python3.9/threading.py\", line 917, in run\n",
      "    self._target(*self._args, **self._kwargs)\n",
      "  File \"/mnt/notebook-env/lib/python3.9/site-packages/awseditorssparkmonitoringwidget/cellmonitor.py\", line 154, in cell_monitor\n",
      "    job_group_filtered_jobs = [job for job in jobs_data if job['jobGroup'] == str(statement_id)]\n",
      "  File \"/mnt/notebook-env/lib/python3.9/site-packages/awseditorssparkmonitoringwidget/cellmonitor.py\", line 154, in <listcomp>\n",
      "    job_group_filtered_jobs = [job for job in jobs_data if job['jobGroup'] == str(statement_id)]\n",
      "KeyError: 'jobGroup'\n"
     ]
    }
   ],
   "source": [
    "# Fit the model and get the best one\n",
    "rf_cv = rf_crossval.fit(train_data)\n",
    "best_rf = rf_cv.bestModel"
   ]
  },
  {
   "cell_type": "code",
   "execution_count": 26,
   "id": "d2e31828-c7cf-4de2-bbdc-812b9baa66ae",
   "metadata": {
    "execution": {
     "iopub.execute_input": "2025-03-10T03:33:37.260574Z",
     "iopub.status.busy": "2025-03-10T03:33:37.260096Z",
     "iopub.status.idle": "2025-03-10T03:33:38.037021Z",
     "shell.execute_reply": "2025-03-10T03:33:38.036100Z",
     "shell.execute_reply.started": "2025-03-10T03:33:37.260547Z"
    }
   },
   "outputs": [
    {
     "data": {
      "application/vnd.jupyter.widget-view+json": {
       "model_id": "42051cc425d3455e90c21f8760704360",
       "version_major": 2,
       "version_minor": 0
      },
      "text/plain": [
       "VBox()"
      ]
     },
     "metadata": {},
     "output_type": "display_data"
    },
    {
     "data": {
      "application/vnd.jupyter.widget-view+json": {
       "model_id": "",
       "version_major": 2,
       "version_minor": 0
      },
      "text/plain": [
       "FloatProgress(value=0.0, bar_style='info', description='Progress:', layout=Layout(height='25px', width='50%'),…"
      ]
     },
     "metadata": {},
     "output_type": "display_data"
    },
    {
     "name": "stderr",
     "output_type": "stream",
     "text": [
      "Exception in thread cell_monitor-26:\n",
      "Traceback (most recent call last):\n",
      "  File \"/mnt/notebook-env/lib/python3.9/threading.py\", line 980, in _bootstrap_inner\n",
      "    self.run()\n",
      "  File \"/mnt/notebook-env/lib/python3.9/threading.py\", line 917, in run\n",
      "    self._target(*self._args, **self._kwargs)\n",
      "  File \"/mnt/notebook-env/lib/python3.9/site-packages/awseditorssparkmonitoringwidget/cellmonitor.py\", line 154, in cell_monitor\n",
      "    job_group_filtered_jobs = [job for job in jobs_data if job['jobGroup'] == str(statement_id)]\n",
      "  File \"/mnt/notebook-env/lib/python3.9/site-packages/awseditorssparkmonitoringwidget/cellmonitor.py\", line 154, in <listcomp>\n",
      "    job_group_filtered_jobs = [job for job in jobs_data if job['jobGroup'] == str(statement_id)]\n",
      "KeyError: 'jobGroup'\n"
     ]
    }
   ],
   "source": [
    "# Make predictions and evaluate the model\n",
    "rf_prediction = best_rf.transform(test_data)"
   ]
  },
  {
   "cell_type": "code",
   "execution_count": 27,
   "id": "40fc56aa-247c-4d24-ae7a-1713323e0cae",
   "metadata": {
    "execution": {
     "iopub.execute_input": "2025-03-10T03:33:38.040222Z",
     "iopub.status.busy": "2025-03-10T03:33:38.039579Z",
     "iopub.status.idle": "2025-03-10T03:33:41.324236Z",
     "shell.execute_reply": "2025-03-10T03:33:41.323213Z",
     "shell.execute_reply.started": "2025-03-10T03:33:38.040005Z"
    }
   },
   "outputs": [
    {
     "data": {
      "application/vnd.jupyter.widget-view+json": {
       "model_id": "246c63bdc9a547b2a5c4e839db06e541",
       "version_major": 2,
       "version_minor": 0
      },
      "text/plain": [
       "VBox()"
      ]
     },
     "metadata": {},
     "output_type": "display_data"
    },
    {
     "data": {
      "application/vnd.jupyter.widget-view+json": {
       "model_id": "",
       "version_major": 2,
       "version_minor": 0
      },
      "text/plain": [
       "FloatProgress(value=0.0, bar_style='info', description='Progress:', layout=Layout(height='25px', width='50%'),…"
      ]
     },
     "metadata": {},
     "output_type": "display_data"
    },
    {
     "name": "stderr",
     "output_type": "stream",
     "text": [
      "Exception in thread cell_monitor-27:\n",
      "Traceback (most recent call last):\n",
      "  File \"/mnt/notebook-env/lib/python3.9/threading.py\", line 980, in _bootstrap_inner\n",
      "    self.run()\n",
      "  File \"/mnt/notebook-env/lib/python3.9/threading.py\", line 917, in run\n",
      "    self._target(*self._args, **self._kwargs)\n",
      "  File \"/mnt/notebook-env/lib/python3.9/site-packages/awseditorssparkmonitoringwidget/cellmonitor.py\", line 154, in cell_monitor\n",
      "    job_group_filtered_jobs = [job for job in jobs_data if job['jobGroup'] == str(statement_id)]\n",
      "  File \"/mnt/notebook-env/lib/python3.9/site-packages/awseditorssparkmonitoringwidget/cellmonitor.py\", line 154, in <listcomp>\n",
      "    job_group_filtered_jobs = [job for job in jobs_data if job['jobGroup'] == str(statement_id)]\n",
      "KeyError: 'jobGroup'\n"
     ]
    }
   ],
   "source": [
    "# Evaluate the model using RMSE, MAE, and R2\n",
    "rf_rmse = evaluator_rmse.evaluate(rf_prediction)\n",
    "rf_mae = evaluator_mae.evaluate(rf_prediction)\n",
    "rf_r2 = evaluator_r2.evaluate(rf_prediction)"
   ]
  },
  {
   "cell_type": "code",
   "execution_count": 28,
   "id": "eda85179-c9b9-48d7-a1f8-01e2c0618eb4",
   "metadata": {
    "execution": {
     "iopub.execute_input": "2025-03-10T03:33:41.326184Z",
     "iopub.status.busy": "2025-03-10T03:33:41.325663Z",
     "iopub.status.idle": "2025-03-10T03:33:41.398086Z",
     "shell.execute_reply": "2025-03-10T03:33:41.393565Z",
     "shell.execute_reply.started": "2025-03-10T03:33:41.326140Z"
    }
   },
   "outputs": [
    {
     "data": {
      "application/vnd.jupyter.widget-view+json": {
       "model_id": "b6ba83f1dbf9497fb354df79858d992e",
       "version_major": 2,
       "version_minor": 0
      },
      "text/plain": [
       "VBox()"
      ]
     },
     "metadata": {},
     "output_type": "display_data"
    },
    {
     "data": {
      "application/vnd.jupyter.widget-view+json": {
       "model_id": "",
       "version_major": 2,
       "version_minor": 0
      },
      "text/plain": [
       "FloatProgress(value=0.0, bar_style='info', description='Progress:', layout=Layout(height='25px', width='50%'),…"
      ]
     },
     "metadata": {},
     "output_type": "display_data"
    },
    {
     "name": "stdout",
     "output_type": "stream",
     "text": [
      "RMSE: 274.3137924485776\n",
      "MAE: 217.86258742740262\n",
      "R2: 0.5523374990144407"
     ]
    }
   ],
   "source": [
    "print(f\"RMSE: {rf_rmse}\")\n",
    "print(f\"MAE: {rf_mae}\")\n",
    "print(f\"R2: {rf_r2}\")"
   ]
  },
  {
   "cell_type": "markdown",
   "id": "b2938b3b-a0f5-48e2-9164-df38ce40ddde",
   "metadata": {},
   "source": [
    "---\n",
    "### 6. Machine Learning Model Development - Gradient Boosted Trees"
   ]
  },
  {
   "cell_type": "code",
   "execution_count": 29,
   "id": "2c233f47-2ca4-49fc-a3a4-594fafcbd613",
   "metadata": {
    "execution": {
     "iopub.execute_input": "2025-03-10T03:33:41.399993Z",
     "iopub.status.busy": "2025-03-10T03:33:41.399682Z",
     "iopub.status.idle": "2025-03-10T03:33:41.689991Z",
     "shell.execute_reply": "2025-03-10T03:33:41.689193Z",
     "shell.execute_reply.started": "2025-03-10T03:33:41.399899Z"
    },
    "tags": []
   },
   "outputs": [
    {
     "data": {
      "application/vnd.jupyter.widget-view+json": {
       "model_id": "33801a246abf4d26a2df724bee7f0d80",
       "version_major": 2,
       "version_minor": 0
      },
      "text/plain": [
       "VBox()"
      ]
     },
     "metadata": {},
     "output_type": "display_data"
    },
    {
     "name": "stderr",
     "output_type": "stream",
     "text": [
      "Exception in thread cell_monitor-28:\n",
      "Traceback (most recent call last):\n",
      "  File \"/mnt/notebook-env/lib/python3.9/threading.py\", line 980, in _bootstrap_inner\n",
      "    self.run()\n",
      "  File \"/mnt/notebook-env/lib/python3.9/threading.py\", line 917, in run\n",
      "    self._target(*self._args, **self._kwargs)\n",
      "  File \"/mnt/notebook-env/lib/python3.9/site-packages/awseditorssparkmonitoringwidget/cellmonitor.py\", line 154, in cell_monitor\n",
      "    job_group_filtered_jobs = [job for job in jobs_data if job['jobGroup'] == str(statement_id)]\n",
      "  File \"/mnt/notebook-env/lib/python3.9/site-packages/awseditorssparkmonitoringwidget/cellmonitor.py\", line 154, in <listcomp>\n",
      "    job_group_filtered_jobs = [job for job in jobs_data if job['jobGroup'] == str(statement_id)]\n",
      "KeyError: 'jobGroup'\n"
     ]
    },
    {
     "data": {
      "application/vnd.jupyter.widget-view+json": {
       "model_id": "",
       "version_major": 2,
       "version_minor": 0
      },
      "text/plain": [
       "FloatProgress(value=0.0, bar_style='info', description='Progress:', layout=Layout(height='25px', width='50%'),…"
      ]
     },
     "metadata": {},
     "output_type": "display_data"
    },
    {
     "name": "stderr",
     "output_type": "stream",
     "text": [
      "Exception in thread cell_monitor-29:\n",
      "Traceback (most recent call last):\n",
      "  File \"/mnt/notebook-env/lib/python3.9/threading.py\", line 980, in _bootstrap_inner\n",
      "    self.run()\n",
      "  File \"/mnt/notebook-env/lib/python3.9/threading.py\", line 917, in run\n",
      "    self._target(*self._args, **self._kwargs)\n",
      "  File \"/mnt/notebook-env/lib/python3.9/site-packages/awseditorssparkmonitoringwidget/cellmonitor.py\", line 154, in cell_monitor\n",
      "    job_group_filtered_jobs = [job for job in jobs_data if job['jobGroup'] == str(statement_id)]\n",
      "  File \"/mnt/notebook-env/lib/python3.9/site-packages/awseditorssparkmonitoringwidget/cellmonitor.py\", line 154, in <listcomp>\n",
      "    job_group_filtered_jobs = [job for job in jobs_data if job['jobGroup'] == str(statement_id)]\n",
      "KeyError: 'jobGroup'\n"
     ]
    }
   ],
   "source": [
    "# Define the Gradient Boosted Tree regressor model\n",
    "gbt = GBTRegressor(featuresCol = \"features\", labelCol = \"count\")"
   ]
  },
  {
   "cell_type": "code",
   "execution_count": 30,
   "id": "4f18fe0f-a0ad-415e-9776-d939a347b43f",
   "metadata": {
    "execution": {
     "iopub.execute_input": "2025-03-10T03:33:41.691893Z",
     "iopub.status.busy": "2025-03-10T03:33:41.691634Z",
     "iopub.status.idle": "2025-03-10T03:33:41.749772Z",
     "shell.execute_reply": "2025-03-10T03:33:41.748793Z",
     "shell.execute_reply.started": "2025-03-10T03:33:41.691856Z"
    },
    "tags": []
   },
   "outputs": [
    {
     "data": {
      "application/vnd.jupyter.widget-view+json": {
       "model_id": "7b7b341c2cea4295b5aae6dab26df947",
       "version_major": 2,
       "version_minor": 0
      },
      "text/plain": [
       "VBox()"
      ]
     },
     "metadata": {},
     "output_type": "display_data"
    },
    {
     "data": {
      "application/vnd.jupyter.widget-view+json": {
       "model_id": "",
       "version_major": 2,
       "version_minor": 0
      },
      "text/plain": [
       "FloatProgress(value=0.0, bar_style='info', description='Progress:', layout=Layout(height='25px', width='50%'),…"
      ]
     },
     "metadata": {},
     "output_type": "display_data"
    }
   ],
   "source": [
    "# Create evaluators for RMSE, MAE, and R2\n",
    "evaluator_rmse = RegressionEvaluator(metricName = \"rmse\", labelCol = \"count\", predictionCol = \"prediction\")\n",
    "evaluator_mae = RegressionEvaluator(metricName = \"mae\", labelCol = \"count\", predictionCol = \"prediction\")\n",
    "evaluator_r2 = RegressionEvaluator(metricName = \"r2\", labelCol = \"count\", predictionCol = \"prediction\")"
   ]
  },
  {
   "cell_type": "code",
   "execution_count": 31,
   "id": "1e21c920-a54a-4ab1-b263-5ecd1658e60a",
   "metadata": {
    "execution": {
     "iopub.execute_input": "2025-03-10T03:33:41.756894Z",
     "iopub.status.busy": "2025-03-10T03:33:41.756202Z",
     "iopub.status.idle": "2025-03-10T03:33:41.829250Z",
     "shell.execute_reply": "2025-03-10T03:33:41.828188Z",
     "shell.execute_reply.started": "2025-03-10T03:33:41.756853Z"
    },
    "tags": []
   },
   "outputs": [
    {
     "data": {
      "application/vnd.jupyter.widget-view+json": {
       "model_id": "21411f271a2e46ebadc1f01b5c6369a4",
       "version_major": 2,
       "version_minor": 0
      },
      "text/plain": [
       "VBox()"
      ]
     },
     "metadata": {},
     "output_type": "display_data"
    },
    {
     "data": {
      "application/vnd.jupyter.widget-view+json": {
       "model_id": "",
       "version_major": 2,
       "version_minor": 0
      },
      "text/plain": [
       "FloatProgress(value=0.0, bar_style='info', description='Progress:', layout=Layout(height='25px', width='50%'),…"
      ]
     },
     "metadata": {},
     "output_type": "display_data"
    },
    {
     "name": "stderr",
     "output_type": "stream",
     "text": [
      "Exception in thread cell_monitor-30:\n",
      "Traceback (most recent call last):\n",
      "  File \"/mnt/notebook-env/lib/python3.9/threading.py\", line 980, in _bootstrap_inner\n",
      "    self.run()\n",
      "  File \"/mnt/notebook-env/lib/python3.9/threading.py\", line 917, in run\n",
      "    self._target(*self._args, **self._kwargs)\n",
      "  File \"/mnt/notebook-env/lib/python3.9/site-packages/awseditorssparkmonitoringwidget/cellmonitor.py\", line 154, in cell_monitor\n",
      "    job_group_filtered_jobs = [job for job in jobs_data if job['jobGroup'] == str(statement_id)]\n",
      "  File \"/mnt/notebook-env/lib/python3.9/site-packages/awseditorssparkmonitoringwidget/cellmonitor.py\", line 154, in <listcomp>\n",
      "    job_group_filtered_jobs = [job for job in jobs_data if job['jobGroup'] == str(statement_id)]\n",
      "KeyError: 'jobGroup'\n"
     ]
    }
   ],
   "source": [
    "# Set up parameter grid for hyperparameter tuning\n",
    "paramGrid = (ParamGridBuilder()\n",
    "             .addGrid(gbt.maxIter, [10, 25, 50])\n",
    "             .addGrid(gbt.maxDepth, [5, 10])\n",
    "             .addGrid(gbt.stepSize, [0.05, 0.1])\n",
    "             .build())"
   ]
  },
  {
   "cell_type": "code",
   "execution_count": 32,
   "id": "187a6c70-ce37-42f8-9e92-49d11fb4f65d",
   "metadata": {
    "execution": {
     "iopub.execute_input": "2025-03-10T03:33:41.830850Z",
     "iopub.status.busy": "2025-03-10T03:33:41.830693Z",
     "iopub.status.idle": "2025-03-10T03:33:41.903781Z",
     "shell.execute_reply": "2025-03-10T03:33:41.902922Z",
     "shell.execute_reply.started": "2025-03-10T03:33:41.830828Z"
    },
    "tags": []
   },
   "outputs": [
    {
     "data": {
      "application/vnd.jupyter.widget-view+json": {
       "model_id": "52843c67e3cd470d9faaf257ed24c9f0",
       "version_major": 2,
       "version_minor": 0
      },
      "text/plain": [
       "VBox()"
      ]
     },
     "metadata": {},
     "output_type": "display_data"
    },
    {
     "data": {
      "application/vnd.jupyter.widget-view+json": {
       "model_id": "",
       "version_major": 2,
       "version_minor": 0
      },
      "text/plain": [
       "FloatProgress(value=0.0, bar_style='info', description='Progress:', layout=Layout(height='25px', width='50%'),…"
      ]
     },
     "metadata": {},
     "output_type": "display_data"
    }
   ],
   "source": [
    "# Set up cross-validation\n",
    "gbt_crossval = CrossValidator(estimator = gbt,\n",
    "                              estimatorParamMaps = paramGrid,\n",
    "                              evaluator = evaluator_rmse,\n",
    "                              numFolds = 3,\n",
    "                              parallelism = 3)"
   ]
  },
  {
   "cell_type": "code",
   "execution_count": 33,
   "id": "f0a7176e-8966-4a73-b162-ed11e21c1d23",
   "metadata": {
    "execution": {
     "iopub.execute_input": "2025-03-10T03:33:41.905012Z",
     "iopub.status.busy": "2025-03-10T03:33:41.904830Z",
     "iopub.status.idle": "2025-03-10T03:41:06.274497Z",
     "shell.execute_reply": "2025-03-10T03:41:06.273306Z",
     "shell.execute_reply.started": "2025-03-10T03:33:41.904987Z"
    },
    "tags": []
   },
   "outputs": [
    {
     "data": {
      "application/vnd.jupyter.widget-view+json": {
       "model_id": "50529cbe6ab846d0a113140c18306d34",
       "version_major": 2,
       "version_minor": 0
      },
      "text/plain": [
       "VBox()"
      ]
     },
     "metadata": {},
     "output_type": "display_data"
    },
    {
     "name": "stderr",
     "output_type": "stream",
     "text": [
      "Exception in thread cell_monitor-31:\n",
      "Traceback (most recent call last):\n",
      "  File \"/mnt/notebook-env/lib/python3.9/threading.py\", line 980, in _bootstrap_inner\n",
      "    self.run()\n",
      "  File \"/mnt/notebook-env/lib/python3.9/threading.py\", line 917, in run\n",
      "    self._target(*self._args, **self._kwargs)\n",
      "  File \"/mnt/notebook-env/lib/python3.9/site-packages/awseditorssparkmonitoringwidget/cellmonitor.py\", line 154, in cell_monitor\n",
      "    job_group_filtered_jobs = [job for job in jobs_data if job['jobGroup'] == str(statement_id)]\n",
      "  File \"/mnt/notebook-env/lib/python3.9/site-packages/awseditorssparkmonitoringwidget/cellmonitor.py\", line 154, in <listcomp>\n",
      "    job_group_filtered_jobs = [job for job in jobs_data if job['jobGroup'] == str(statement_id)]\n",
      "KeyError: 'jobGroup'\n"
     ]
    },
    {
     "data": {
      "application/vnd.jupyter.widget-view+json": {
       "model_id": "",
       "version_major": 2,
       "version_minor": 0
      },
      "text/plain": [
       "FloatProgress(value=0.0, bar_style='info', description='Progress:', layout=Layout(height='25px', width='50%'),…"
      ]
     },
     "metadata": {},
     "output_type": "display_data"
    },
    {
     "name": "stderr",
     "output_type": "stream",
     "text": [
      "Exception in thread cell_monitor-32:\n",
      "Traceback (most recent call last):\n",
      "  File \"/mnt/notebook-env/lib/python3.9/threading.py\", line 980, in _bootstrap_inner\n",
      "    self.run()\n",
      "  File \"/mnt/notebook-env/lib/python3.9/threading.py\", line 917, in run\n",
      "    self._target(*self._args, **self._kwargs)\n",
      "  File \"/mnt/notebook-env/lib/python3.9/site-packages/awseditorssparkmonitoringwidget/cellmonitor.py\", line 154, in cell_monitor\n",
      "    job_group_filtered_jobs = [job for job in jobs_data if job['jobGroup'] == str(statement_id)]\n",
      "  File \"/mnt/notebook-env/lib/python3.9/site-packages/awseditorssparkmonitoringwidget/cellmonitor.py\", line 154, in <listcomp>\n",
      "    job_group_filtered_jobs = [job for job in jobs_data if job['jobGroup'] == str(statement_id)]\n",
      "KeyError: 'jobGroup'\n",
      "Exception in thread cell_monitor-33:\n",
      "Traceback (most recent call last):\n",
      "  File \"/mnt/notebook-env/lib/python3.9/threading.py\", line 980, in _bootstrap_inner\n",
      "    self.run()\n",
      "  File \"/mnt/notebook-env/lib/python3.9/threading.py\", line 917, in run\n",
      "    self._target(*self._args, **self._kwargs)\n",
      "  File \"/mnt/notebook-env/lib/python3.9/site-packages/awseditorssparkmonitoringwidget/cellmonitor.py\", line 154, in cell_monitor\n",
      "    job_group_filtered_jobs = [job for job in jobs_data if job['jobGroup'] == str(statement_id)]\n",
      "  File \"/mnt/notebook-env/lib/python3.9/site-packages/awseditorssparkmonitoringwidget/cellmonitor.py\", line 154, in <listcomp>\n",
      "    job_group_filtered_jobs = [job for job in jobs_data if job['jobGroup'] == str(statement_id)]\n",
      "KeyError: 'jobGroup'\n"
     ]
    }
   ],
   "source": [
    "# Fit the model and get the best one\n",
    "gbt_cv = gbt_crossval.fit(train_data)\n",
    "best_gbt = gbt_cv.bestModel"
   ]
  },
  {
   "cell_type": "code",
   "execution_count": 34,
   "id": "62a70551-4623-4cbb-ba59-09ff6ad55b72",
   "metadata": {
    "execution": {
     "iopub.execute_input": "2025-03-10T03:41:06.276205Z",
     "iopub.status.busy": "2025-03-10T03:41:06.275771Z",
     "iopub.status.idle": "2025-03-10T03:41:06.570843Z",
     "shell.execute_reply": "2025-03-10T03:41:06.569736Z",
     "shell.execute_reply.started": "2025-03-10T03:41:06.276166Z"
    },
    "tags": []
   },
   "outputs": [
    {
     "data": {
      "application/vnd.jupyter.widget-view+json": {
       "model_id": "8e8de9450310494e8c5a1bbca6958e1d",
       "version_major": 2,
       "version_minor": 0
      },
      "text/plain": [
       "VBox()"
      ]
     },
     "metadata": {},
     "output_type": "display_data"
    },
    {
     "data": {
      "application/vnd.jupyter.widget-view+json": {
       "model_id": "",
       "version_major": 2,
       "version_minor": 0
      },
      "text/plain": [
       "FloatProgress(value=0.0, bar_style='info', description='Progress:', layout=Layout(height='25px', width='50%'),…"
      ]
     },
     "metadata": {},
     "output_type": "display_data"
    },
    {
     "name": "stderr",
     "output_type": "stream",
     "text": [
      "Exception in thread cell_monitor-34:\n",
      "Traceback (most recent call last):\n",
      "  File \"/mnt/notebook-env/lib/python3.9/threading.py\", line 980, in _bootstrap_inner\n",
      "    self.run()\n",
      "  File \"/mnt/notebook-env/lib/python3.9/threading.py\", line 917, in run\n",
      "    self._target(*self._args, **self._kwargs)\n",
      "  File \"/mnt/notebook-env/lib/python3.9/site-packages/awseditorssparkmonitoringwidget/cellmonitor.py\", line 154, in cell_monitor\n",
      "    job_group_filtered_jobs = [job for job in jobs_data if job['jobGroup'] == str(statement_id)]\n",
      "  File \"/mnt/notebook-env/lib/python3.9/site-packages/awseditorssparkmonitoringwidget/cellmonitor.py\", line 154, in <listcomp>\n",
      "    job_group_filtered_jobs = [job for job in jobs_data if job['jobGroup'] == str(statement_id)]\n",
      "KeyError: 'jobGroup'\n"
     ]
    }
   ],
   "source": [
    "# Make predictions and evaluate the model\n",
    "gbt_prediction = best_gbt.transform(test_data)"
   ]
  },
  {
   "cell_type": "code",
   "execution_count": 35,
   "id": "0a4dc030-f1e8-4602-9776-510a27a21e3c",
   "metadata": {
    "execution": {
     "iopub.execute_input": "2025-03-10T03:41:06.572538Z",
     "iopub.status.busy": "2025-03-10T03:41:06.572291Z",
     "iopub.status.idle": "2025-03-10T03:41:07.831335Z",
     "shell.execute_reply": "2025-03-10T03:41:07.830601Z",
     "shell.execute_reply.started": "2025-03-10T03:41:06.572501Z"
    },
    "tags": []
   },
   "outputs": [
    {
     "data": {
      "application/vnd.jupyter.widget-view+json": {
       "model_id": "3bdafa12c6be4b259cc2ea970e74faff",
       "version_major": 2,
       "version_minor": 0
      },
      "text/plain": [
       "VBox()"
      ]
     },
     "metadata": {},
     "output_type": "display_data"
    },
    {
     "data": {
      "application/vnd.jupyter.widget-view+json": {
       "model_id": "",
       "version_major": 2,
       "version_minor": 0
      },
      "text/plain": [
       "FloatProgress(value=0.0, bar_style='info', description='Progress:', layout=Layout(height='25px', width='50%'),…"
      ]
     },
     "metadata": {},
     "output_type": "display_data"
    },
    {
     "name": "stderr",
     "output_type": "stream",
     "text": [
      "Exception in thread cell_monitor-35:\n",
      "Traceback (most recent call last):\n",
      "  File \"/mnt/notebook-env/lib/python3.9/threading.py\", line 980, in _bootstrap_inner\n",
      "    self.run()\n",
      "  File \"/mnt/notebook-env/lib/python3.9/threading.py\", line 917, in run\n",
      "    self._target(*self._args, **self._kwargs)\n",
      "  File \"/mnt/notebook-env/lib/python3.9/site-packages/awseditorssparkmonitoringwidget/cellmonitor.py\", line 154, in cell_monitor\n",
      "    job_group_filtered_jobs = [job for job in jobs_data if job['jobGroup'] == str(statement_id)]\n",
      "  File \"/mnt/notebook-env/lib/python3.9/site-packages/awseditorssparkmonitoringwidget/cellmonitor.py\", line 154, in <listcomp>\n",
      "    job_group_filtered_jobs = [job for job in jobs_data if job['jobGroup'] == str(statement_id)]\n",
      "KeyError: 'jobGroup'\n"
     ]
    }
   ],
   "source": [
    "# Evaluate the model using RMSE, MAE, and R2\n",
    "gbt_rmse = evaluator_rmse.evaluate(gbt_prediction)\n",
    "gbt_mae = evaluator_mae.evaluate(gbt_prediction)\n",
    "gbt_r2 = evaluator_r2.evaluate(gbt_prediction)"
   ]
  },
  {
   "cell_type": "code",
   "execution_count": 36,
   "id": "0ec87fd3-25ea-46ca-9450-3676c1871417",
   "metadata": {
    "execution": {
     "iopub.execute_input": "2025-03-10T03:41:07.835354Z",
     "iopub.status.busy": "2025-03-10T03:41:07.835169Z",
     "iopub.status.idle": "2025-03-10T03:41:07.902869Z",
     "shell.execute_reply": "2025-03-10T03:41:07.901928Z",
     "shell.execute_reply.started": "2025-03-10T03:41:07.835330Z"
    },
    "tags": []
   },
   "outputs": [
    {
     "data": {
      "application/vnd.jupyter.widget-view+json": {
       "model_id": "5756b3163a384412a38ce8a1c75f070f",
       "version_major": 2,
       "version_minor": 0
      },
      "text/plain": [
       "VBox()"
      ]
     },
     "metadata": {},
     "output_type": "display_data"
    },
    {
     "data": {
      "application/vnd.jupyter.widget-view+json": {
       "model_id": "",
       "version_major": 2,
       "version_minor": 0
      },
      "text/plain": [
       "FloatProgress(value=0.0, bar_style='info', description='Progress:', layout=Layout(height='25px', width='50%'),…"
      ]
     },
     "metadata": {},
     "output_type": "display_data"
    },
    {
     "name": "stdout",
     "output_type": "stream",
     "text": [
      "RMSE: 313.52590314208976\n",
      "MAE: 250.7995995095155\n",
      "R2: 0.41520684175554456"
     ]
    }
   ],
   "source": [
    "print(f\"RMSE: {gbt_rmse}\")\n",
    "print(f\"MAE: {gbt_mae}\")\n",
    "print(f\"R2: {gbt_r2}\")"
   ]
  },
  {
   "cell_type": "markdown",
   "id": "764415f8-e794-42ec-ab32-1c0362efad89",
   "metadata": {},
   "source": [
    "---\n",
    "### 7. Machine Learning Model Development - Generalized Linear Regression"
   ]
  },
  {
   "cell_type": "code",
   "execution_count": 37,
   "id": "0d8d28ba-f6bc-438f-ac6c-37ea8a376fae",
   "metadata": {
    "execution": {
     "iopub.execute_input": "2025-03-10T03:41:07.905998Z",
     "iopub.status.busy": "2025-03-10T03:41:07.905062Z",
     "iopub.status.idle": "2025-03-10T03:41:08.011057Z",
     "shell.execute_reply": "2025-03-10T03:41:08.010168Z",
     "shell.execute_reply.started": "2025-03-10T03:41:07.905958Z"
    },
    "tags": []
   },
   "outputs": [
    {
     "data": {
      "application/vnd.jupyter.widget-view+json": {
       "model_id": "51d1c0d6ac2b491fb51a4c3f967bd913",
       "version_major": 2,
       "version_minor": 0
      },
      "text/plain": [
       "VBox()"
      ]
     },
     "metadata": {},
     "output_type": "display_data"
    },
    {
     "name": "stderr",
     "output_type": "stream",
     "text": [
      "Exception in thread cell_monitor-36:\n",
      "Traceback (most recent call last):\n",
      "  File \"/mnt/notebook-env/lib/python3.9/threading.py\", line 980, in _bootstrap_inner\n",
      "    self.run()\n",
      "  File \"/mnt/notebook-env/lib/python3.9/threading.py\", line 917, in run\n",
      "    self._target(*self._args, **self._kwargs)\n",
      "  File \"/mnt/notebook-env/lib/python3.9/site-packages/awseditorssparkmonitoringwidget/cellmonitor.py\", line 154, in cell_monitor\n",
      "    job_group_filtered_jobs = [job for job in jobs_data if job['jobGroup'] == str(statement_id)]\n",
      "  File \"/mnt/notebook-env/lib/python3.9/site-packages/awseditorssparkmonitoringwidget/cellmonitor.py\", line 154, in <listcomp>\n",
      "    job_group_filtered_jobs = [job for job in jobs_data if job['jobGroup'] == str(statement_id)]\n",
      "KeyError: 'jobGroup'\n"
     ]
    },
    {
     "data": {
      "application/vnd.jupyter.widget-view+json": {
       "model_id": "",
       "version_major": 2,
       "version_minor": 0
      },
      "text/plain": [
       "FloatProgress(value=0.0, bar_style='info', description='Progress:', layout=Layout(height='25px', width='50%'),…"
      ]
     },
     "metadata": {},
     "output_type": "display_data"
    }
   ],
   "source": [
    "# Define the Generalized Linear Regression model\n",
    "glr = GeneralizedLinearRegression(featuresCol = \"features\", labelCol = \"count\", family = \"gaussian\", link = \"identity\")"
   ]
  },
  {
   "cell_type": "code",
   "execution_count": 38,
   "id": "36a8ffdc-c272-4e3b-a7a8-af222c880914",
   "metadata": {
    "execution": {
     "iopub.execute_input": "2025-03-10T03:41:08.022636Z",
     "iopub.status.busy": "2025-03-10T03:41:08.012728Z",
     "iopub.status.idle": "2025-03-10T03:41:08.096642Z",
     "shell.execute_reply": "2025-03-10T03:41:08.095715Z",
     "shell.execute_reply.started": "2025-03-10T03:41:08.022592Z"
    },
    "tags": []
   },
   "outputs": [
    {
     "name": "stderr",
     "output_type": "stream",
     "text": [
      "Exception in thread cell_monitor-37:\n",
      "Traceback (most recent call last):\n",
      "  File \"/mnt/notebook-env/lib/python3.9/threading.py\", line 980, in _bootstrap_inner\n",
      "    self.run()\n",
      "  File \"/mnt/notebook-env/lib/python3.9/threading.py\", line 917, in run\n",
      "    self._target(*self._args, **self._kwargs)\n",
      "  File \"/mnt/notebook-env/lib/python3.9/site-packages/awseditorssparkmonitoringwidget/cellmonitor.py\", line 154, in cell_monitor\n",
      "    job_group_filtered_jobs = [job for job in jobs_data if job['jobGroup'] == str(statement_id)]\n",
      "  File \"/mnt/notebook-env/lib/python3.9/site-packages/awseditorssparkmonitoringwidget/cellmonitor.py\", line 154, in <listcomp>\n",
      "    job_group_filtered_jobs = [job for job in jobs_data if job['jobGroup'] == str(statement_id)]\n",
      "KeyError: 'jobGroup'\n"
     ]
    },
    {
     "data": {
      "application/vnd.jupyter.widget-view+json": {
       "model_id": "ec9e4cb9640747a994d39c7831037809",
       "version_major": 2,
       "version_minor": 0
      },
      "text/plain": [
       "VBox()"
      ]
     },
     "metadata": {},
     "output_type": "display_data"
    },
    {
     "data": {
      "application/vnd.jupyter.widget-view+json": {
       "model_id": "",
       "version_major": 2,
       "version_minor": 0
      },
      "text/plain": [
       "FloatProgress(value=0.0, bar_style='info', description='Progress:', layout=Layout(height='25px', width='50%'),…"
      ]
     },
     "metadata": {},
     "output_type": "display_data"
    }
   ],
   "source": [
    "# Create evaluators for RMSE, MAE, and R2\n",
    "evaluator_rmse = RegressionEvaluator(metricName = \"rmse\", labelCol = \"count\", predictionCol = \"prediction\")\n",
    "evaluator_mae = RegressionEvaluator(metricName = \"mae\", labelCol = \"count\", predictionCol = \"prediction\")\n",
    "evaluator_r2 = RegressionEvaluator(metricName = \"r2\", labelCol = \"count\", predictionCol = \"prediction\")"
   ]
  },
  {
   "cell_type": "code",
   "execution_count": 39,
   "id": "b491bb2b-2f94-4fc8-9cb6-71505547f8aa",
   "metadata": {
    "execution": {
     "iopub.execute_input": "2025-03-10T03:41:08.097710Z",
     "iopub.status.busy": "2025-03-10T03:41:08.097539Z",
     "iopub.status.idle": "2025-03-10T03:41:08.170804Z",
     "shell.execute_reply": "2025-03-10T03:41:08.170052Z",
     "shell.execute_reply.started": "2025-03-10T03:41:08.097686Z"
    },
    "tags": []
   },
   "outputs": [
    {
     "data": {
      "application/vnd.jupyter.widget-view+json": {
       "model_id": "b0831587661a4804b30980b2133dcf38",
       "version_major": 2,
       "version_minor": 0
      },
      "text/plain": [
       "VBox()"
      ]
     },
     "metadata": {},
     "output_type": "display_data"
    },
    {
     "name": "stderr",
     "output_type": "stream",
     "text": [
      "Exception in thread cell_monitor-38:\n",
      "Traceback (most recent call last):\n",
      "  File \"/mnt/notebook-env/lib/python3.9/threading.py\", line 980, in _bootstrap_inner\n",
      "    self.run()\n",
      "  File \"/mnt/notebook-env/lib/python3.9/threading.py\", line 917, in run\n",
      "    self._target(*self._args, **self._kwargs)\n",
      "  File \"/mnt/notebook-env/lib/python3.9/site-packages/awseditorssparkmonitoringwidget/cellmonitor.py\", line 154, in cell_monitor\n",
      "    job_group_filtered_jobs = [job for job in jobs_data if job['jobGroup'] == str(statement_id)]\n",
      "  File \"/mnt/notebook-env/lib/python3.9/site-packages/awseditorssparkmonitoringwidget/cellmonitor.py\", line 154, in <listcomp>\n",
      "    job_group_filtered_jobs = [job for job in jobs_data if job['jobGroup'] == str(statement_id)]\n",
      "KeyError: 'jobGroup'\n"
     ]
    },
    {
     "data": {
      "application/vnd.jupyter.widget-view+json": {
       "model_id": "",
       "version_major": 2,
       "version_minor": 0
      },
      "text/plain": [
       "FloatProgress(value=0.0, bar_style='info', description='Progress:', layout=Layout(height='25px', width='50%'),…"
      ]
     },
     "metadata": {},
     "output_type": "display_data"
    }
   ],
   "source": [
    "# Set up parameter grid for hyperparameter tuning\n",
    "paramGrid = (ParamGridBuilder()\n",
    "             .addGrid(glr.regParam, [0.1, 0.01, 0.001])\n",
    "             .addGrid(glr.maxIter, [10, 50, 100])\n",
    "             .addGrid(glr.family, [\"gaussian\", \"poisson\"])\n",
    "             .addGrid(glr.link, [\"identity\", \"log\"])\n",
    "             .build())"
   ]
  },
  {
   "cell_type": "code",
   "execution_count": 40,
   "id": "f571fb94-17eb-4570-86be-3b5524841cc1",
   "metadata": {
    "execution": {
     "iopub.execute_input": "2025-03-10T03:41:08.172945Z",
     "iopub.status.busy": "2025-03-10T03:41:08.172162Z",
     "iopub.status.idle": "2025-03-10T03:41:08.260010Z",
     "shell.execute_reply": "2025-03-10T03:41:08.258971Z",
     "shell.execute_reply.started": "2025-03-10T03:41:08.172916Z"
    },
    "tags": []
   },
   "outputs": [
    {
     "data": {
      "application/vnd.jupyter.widget-view+json": {
       "model_id": "d1dcbde296f440c6b1a1f8ef7ae1ff9c",
       "version_major": 2,
       "version_minor": 0
      },
      "text/plain": [
       "VBox()"
      ]
     },
     "metadata": {},
     "output_type": "display_data"
    },
    {
     "name": "stderr",
     "output_type": "stream",
     "text": [
      "Exception in thread "
     ]
    },
    {
     "data": {
      "application/vnd.jupyter.widget-view+json": {
       "model_id": "",
       "version_major": 2,
       "version_minor": 0
      },
      "text/plain": [
       "FloatProgress(value=0.0, bar_style='info', description='Progress:', layout=Layout(height='25px', width='50%'),…"
      ]
     },
     "metadata": {},
     "output_type": "display_data"
    },
    {
     "name": "stderr",
     "output_type": "stream",
     "text": [
      "cell_monitor-39:\n",
      "Traceback (most recent call last):\n",
      "  File \"/mnt/notebook-env/lib/python3.9/threading.py\", line 980, in _bootstrap_inner\n",
      "    self.run()\n",
      "  File \"/mnt/notebook-env/lib/python3.9/threading.py\", line 917, in run\n",
      "    self._target(*self._args, **self._kwargs)\n",
      "  File \"/mnt/notebook-env/lib/python3.9/site-packages/awseditorssparkmonitoringwidget/cellmonitor.py\", line 154, in cell_monitor\n",
      "    job_group_filtered_jobs = [job for job in jobs_data if job['jobGroup'] == str(statement_id)]\n",
      "  File \"/mnt/notebook-env/lib/python3.9/site-packages/awseditorssparkmonitoringwidget/cellmonitor.py\", line 154, in <listcomp>\n",
      "    job_group_filtered_jobs = [job for job in jobs_data if job['jobGroup'] == str(statement_id)]\n",
      "KeyError: 'jobGroup'\n"
     ]
    }
   ],
   "source": [
    "# Set up cross-validation\n",
    "glr_crossval = CrossValidator(estimator = glr,\n",
    "                              estimatorParamMaps = paramGrid,\n",
    "                              evaluator = evaluator_rmse,\n",
    "                              numFolds = 3,\n",
    "                              parallelism = 3)"
   ]
  },
  {
   "cell_type": "code",
   "execution_count": 41,
   "id": "b8b93623-b36c-488b-85d1-b40c36b78e65",
   "metadata": {
    "execution": {
     "iopub.execute_input": "2025-03-10T03:41:08.262109Z",
     "iopub.status.busy": "2025-03-10T03:41:08.261662Z",
     "iopub.status.idle": "2025-03-10T03:41:40.569583Z",
     "shell.execute_reply": "2025-03-10T03:41:40.568508Z",
     "shell.execute_reply.started": "2025-03-10T03:41:08.262070Z"
    },
    "tags": []
   },
   "outputs": [
    {
     "data": {
      "application/vnd.jupyter.widget-view+json": {
       "model_id": "002ea4c2fdf4434fba4a9a0f5474a480",
       "version_major": 2,
       "version_minor": 0
      },
      "text/plain": [
       "VBox()"
      ]
     },
     "metadata": {},
     "output_type": "display_data"
    },
    {
     "name": "stderr",
     "output_type": "stream",
     "text": [
      "Exception in thread cell_monitor-40:\n",
      "Traceback (most recent call last):\n",
      "  File \"/mnt/notebook-env/lib/python3.9/threading.py\", line 980, in _bootstrap_inner\n",
      "    self.run()\n",
      "  File \"/mnt/notebook-env/lib/python3.9/threading.py\", line 917, in run\n",
      "    self._target(*self._args, **self._kwargs)\n",
      "  File \"/mnt/notebook-env/lib/python3.9/site-packages/awseditorssparkmonitoringwidget/cellmonitor.py\", line 154, in cell_monitor\n",
      "    job_group_filtered_jobs = [job for job in jobs_data if job['jobGroup'] == str(statement_id)]\n",
      "  File \"/mnt/notebook-env/lib/python3.9/site-packages/awseditorssparkmonitoringwidget/cellmonitor.py\", line 154, in <listcomp>\n",
      "    job_group_filtered_jobs = [job for job in jobs_data if job['jobGroup'] == str(statement_id)]\n",
      "KeyError: 'jobGroup'\n"
     ]
    },
    {
     "data": {
      "application/vnd.jupyter.widget-view+json": {
       "model_id": "",
       "version_major": 2,
       "version_minor": 0
      },
      "text/plain": [
       "FloatProgress(value=0.0, bar_style='info', description='Progress:', layout=Layout(height='25px', width='50%'),…"
      ]
     },
     "metadata": {},
     "output_type": "display_data"
    },
    {
     "name": "stderr",
     "output_type": "stream",
     "text": [
      "Exception in thread cell_monitor-41:\n",
      "Traceback (most recent call last):\n",
      "  File \"/mnt/notebook-env/lib/python3.9/threading.py\", line 980, in _bootstrap_inner\n",
      "    self.run()\n",
      "  File \"/mnt/notebook-env/lib/python3.9/threading.py\", line 917, in run\n",
      "    self._target(*self._args, **self._kwargs)\n",
      "  File \"/mnt/notebook-env/lib/python3.9/site-packages/awseditorssparkmonitoringwidget/cellmonitor.py\", line 154, in cell_monitor\n",
      "    job_group_filtered_jobs = [job for job in jobs_data if job['jobGroup'] == str(statement_id)]\n",
      "  File \"/mnt/notebook-env/lib/python3.9/site-packages/awseditorssparkmonitoringwidget/cellmonitor.py\", line 154, in <listcomp>\n",
      "    job_group_filtered_jobs = [job for job in jobs_data if job['jobGroup'] == str(statement_id)]\n",
      "KeyError: 'jobGroup'\n"
     ]
    }
   ],
   "source": [
    "# Fit the model and get the best one\n",
    "glr_cv = glr_crossval.fit(train_data)\n",
    "best_glr = glr_cv.bestModel"
   ]
  },
  {
   "cell_type": "code",
   "execution_count": 42,
   "id": "99a3099c-bd31-4a4f-9fa9-509e3a0a3edb",
   "metadata": {
    "execution": {
     "iopub.execute_input": "2025-03-10T03:41:40.571336Z",
     "iopub.status.busy": "2025-03-10T03:41:40.571070Z",
     "iopub.status.idle": "2025-03-10T03:41:40.638162Z",
     "shell.execute_reply": "2025-03-10T03:41:40.637205Z",
     "shell.execute_reply.started": "2025-03-10T03:41:40.571284Z"
    },
    "tags": []
   },
   "outputs": [
    {
     "data": {
      "application/vnd.jupyter.widget-view+json": {
       "model_id": "a9d5b49184c149faa53f2f1f49f2905a",
       "version_major": 2,
       "version_minor": 0
      },
      "text/plain": [
       "VBox()"
      ]
     },
     "metadata": {},
     "output_type": "display_data"
    },
    {
     "data": {
      "application/vnd.jupyter.widget-view+json": {
       "model_id": "",
       "version_major": 2,
       "version_minor": 0
      },
      "text/plain": [
       "FloatProgress(value=0.0, bar_style='info', description='Progress:', layout=Layout(height='25px', width='50%'),…"
      ]
     },
     "metadata": {},
     "output_type": "display_data"
    }
   ],
   "source": [
    "# Make predictions and evaluate the model\n",
    "glr_prediction = best_glr.transform(test_data)"
   ]
  },
  {
   "cell_type": "code",
   "execution_count": 43,
   "id": "9d23d1bc-102d-4701-aa53-b7d9af82ccf8",
   "metadata": {
    "execution": {
     "iopub.execute_input": "2025-03-10T03:41:40.640686Z",
     "iopub.status.busy": "2025-03-10T03:41:40.639177Z",
     "iopub.status.idle": "2025-03-10T03:41:41.947759Z",
     "shell.execute_reply": "2025-03-10T03:41:41.947088Z",
     "shell.execute_reply.started": "2025-03-10T03:41:40.640636Z"
    },
    "tags": []
   },
   "outputs": [
    {
     "data": {
      "application/vnd.jupyter.widget-view+json": {
       "model_id": "6d67842f579b4f98bd2e8f49186e75ac",
       "version_major": 2,
       "version_minor": 0
      },
      "text/plain": [
       "VBox()"
      ]
     },
     "metadata": {},
     "output_type": "display_data"
    },
    {
     "name": "stderr",
     "output_type": "stream",
     "text": [
      "Exception in thread cell_monitor-42:\n",
      "Traceback (most recent call last):\n",
      "  File \"/mnt/notebook-env/lib/python3.9/threading.py\", line 980, in _bootstrap_inner\n",
      "    self.run()\n",
      "  File \"/mnt/notebook-env/lib/python3.9/threading.py\", line 917, in run\n",
      "    self._target(*self._args, **self._kwargs)\n",
      "  File \"/mnt/notebook-env/lib/python3.9/site-packages/awseditorssparkmonitoringwidget/cellmonitor.py\", line 154, in cell_monitor\n",
      "    job_group_filtered_jobs = [job for job in jobs_data if job['jobGroup'] == str(statement_id)]\n",
      "  File \"/mnt/notebook-env/lib/python3.9/site-packages/awseditorssparkmonitoringwidget/cellmonitor.py\", line 154, in <listcomp>\n",
      "    job_group_filtered_jobs = [job for job in jobs_data if job['jobGroup'] == str(statement_id)]\n",
      "KeyError: 'jobGroup'\n"
     ]
    },
    {
     "data": {
      "application/vnd.jupyter.widget-view+json": {
       "model_id": "",
       "version_major": 2,
       "version_minor": 0
      },
      "text/plain": [
       "FloatProgress(value=0.0, bar_style='info', description='Progress:', layout=Layout(height='25px', width='50%'),…"
      ]
     },
     "metadata": {},
     "output_type": "display_data"
    },
    {
     "name": "stderr",
     "output_type": "stream",
     "text": [
      "Exception in thread cell_monitor-43:\n",
      "Traceback (most recent call last):\n",
      "  File \"/mnt/notebook-env/lib/python3.9/threading.py\", line 980, in _bootstrap_inner\n",
      "    self.run()\n",
      "  File \"/mnt/notebook-env/lib/python3.9/threading.py\", line 917, in run\n",
      "    self._target(*self._args, **self._kwargs)\n",
      "  File \"/mnt/notebook-env/lib/python3.9/site-packages/awseditorssparkmonitoringwidget/cellmonitor.py\", line 154, in cell_monitor\n",
      "    job_group_filtered_jobs = [job for job in jobs_data if job['jobGroup'] == str(statement_id)]\n",
      "  File \"/mnt/notebook-env/lib/python3.9/site-packages/awseditorssparkmonitoringwidget/cellmonitor.py\", line 154, in <listcomp>\n",
      "    job_group_filtered_jobs = [job for job in jobs_data if job['jobGroup'] == str(statement_id)]\n",
      "KeyError: 'jobGroup'\n"
     ]
    }
   ],
   "source": [
    "# Evaluate the model using RMSE, MAE, and R2\n",
    "glr_rmse = evaluator_rmse.evaluate(glr_prediction)\n",
    "glr_mae = evaluator_mae.evaluate(glr_prediction)\n",
    "glr_r2 = evaluator_r2.evaluate(glr_prediction)"
   ]
  },
  {
   "cell_type": "code",
   "execution_count": 44,
   "id": "c6f75a51-6dfc-41b3-9f6b-b2c2c542b78d",
   "metadata": {
    "execution": {
     "iopub.execute_input": "2025-03-10T03:41:41.949165Z",
     "iopub.status.busy": "2025-03-10T03:41:41.948884Z",
     "iopub.status.idle": "2025-03-10T03:41:42.008041Z",
     "shell.execute_reply": "2025-03-10T03:41:42.007197Z",
     "shell.execute_reply.started": "2025-03-10T03:41:41.949125Z"
    },
    "tags": []
   },
   "outputs": [
    {
     "data": {
      "application/vnd.jupyter.widget-view+json": {
       "model_id": "0aade541ae4b432182a4e4b70ee45ad7",
       "version_major": 2,
       "version_minor": 0
      },
      "text/plain": [
       "VBox()"
      ]
     },
     "metadata": {},
     "output_type": "display_data"
    },
    {
     "data": {
      "application/vnd.jupyter.widget-view+json": {
       "model_id": "",
       "version_major": 2,
       "version_minor": 0
      },
      "text/plain": [
       "FloatProgress(value=0.0, bar_style='info', description='Progress:', layout=Layout(height='25px', width='50%'),…"
      ]
     },
     "metadata": {},
     "output_type": "display_data"
    },
    {
     "name": "stdout",
     "output_type": "stream",
     "text": [
      "RMSE: 348.01020452699476\n",
      "MAE: 296.11438648812674\n",
      "R2: 0.2794910409658623"
     ]
    }
   ],
   "source": [
    "print(f\"RMSE: {glr_rmse}\")\n",
    "print(f\"MAE: {glr_mae}\")\n",
    "print(f\"R2: {glr_r2}\")"
   ]
  },
  {
   "cell_type": "markdown",
   "id": "78e04119-1046-4fd2-b4fa-5bd6cde7db69",
   "metadata": {},
   "source": [
    "---\n",
    "### 8. Evaluate Model Performance - Performance Visualization"
   ]
  },
  {
   "cell_type": "code",
   "execution_count": 45,
   "id": "062865f6-178d-410d-b487-14efbc2d92c1",
   "metadata": {
    "execution": {
     "iopub.execute_input": "2025-03-10T03:41:42.009498Z",
     "iopub.status.busy": "2025-03-10T03:41:42.009240Z",
     "iopub.status.idle": "2025-03-10T03:41:42.101464Z",
     "shell.execute_reply": "2025-03-10T03:41:42.097759Z",
     "shell.execute_reply.started": "2025-03-10T03:41:42.009445Z"
    }
   },
   "outputs": [
    {
     "data": {
      "application/vnd.jupyter.widget-view+json": {
       "model_id": "70862a15455545fa8af1b09a531ba0c8",
       "version_major": 2,
       "version_minor": 0
      },
      "text/plain": [
       "VBox()"
      ]
     },
     "metadata": {},
     "output_type": "display_data"
    },
    {
     "name": "stderr",
     "output_type": "stream",
     "text": [
      "Exception in thread cell_monitor-44:\n",
      "Traceback (most recent call last):\n",
      "  File \"/mnt/notebook-env/lib/python3.9/threading.py\", line 980, in _bootstrap_inner\n",
      "    self.run()"
     ]
    },
    {
     "data": {
      "application/vnd.jupyter.widget-view+json": {
       "model_id": "",
       "version_major": 2,
       "version_minor": 0
      },
      "text/plain": [
       "FloatProgress(value=0.0, bar_style='info', description='Progress:', layout=Layout(height='25px', width='50%'),…"
      ]
     },
     "metadata": {},
     "output_type": "display_data"
    },
    {
     "name": "stderr",
     "output_type": "stream",
     "text": [
      "\n",
      "  File \"/mnt/notebook-env/lib/python3.9/threading.py\", line 917, in run\n",
      "    self._target(*self._args, **self._kwargs)\n",
      "  File \"/mnt/notebook-env/lib/python3.9/site-packages/awseditorssparkmonitoringwidget/cellmonitor.py\", line 154, in cell_monitor\n",
      "    job_group_filtered_jobs = [job for job in jobs_data if job['jobGroup'] == str(statement_id)]\n",
      "  File \"/mnt/notebook-env/lib/python3.9/site-packages/awseditorssparkmonitoringwidget/cellmonitor.py\", line 154, in <listcomp>\n",
      "    job_group_filtered_jobs = [job for job in jobs_data if job['jobGroup'] == str(statement_id)]\n",
      "KeyError: 'jobGroup'\n"
     ]
    }
   ],
   "source": [
    "# Creating a list of RMSE, MAE, and R2 for each model\n",
    "results = [Row(Model = \"LR\", RMSE = lr_rmse, MAE = lr_mae, R2 = lr_r2),\n",
    "           Row(Model = \"RF\", RMSE = rf_rmse, MAE = rf_mae, R2 = rf_r2),\n",
    "           Row(Model = \"GBT\", RMSE = gbt_rmse, MAE = gbt_mae, R2 = gbt_r2),\n",
    "           Row(Model = \"GLR\", RMSE = glr_rmse, MAE = glr_mae, R2 = glr_r2)]"
   ]
  },
  {
   "cell_type": "code",
   "execution_count": 46,
   "id": "1b0195f0-ce2d-41a0-969e-e1d95e80fc89",
   "metadata": {
    "execution": {
     "iopub.execute_input": "2025-03-10T03:41:42.103013Z",
     "iopub.status.busy": "2025-03-10T03:41:42.102583Z",
     "iopub.status.idle": "2025-03-10T03:41:42.869213Z",
     "shell.execute_reply": "2025-03-10T03:41:42.867868Z",
     "shell.execute_reply.started": "2025-03-10T03:41:42.102974Z"
    }
   },
   "outputs": [
    {
     "data": {
      "application/vnd.jupyter.widget-view+json": {
       "model_id": "fdf100c0f7964411baaa215fc928bc73",
       "version_major": 2,
       "version_minor": 0
      },
      "text/plain": [
       "VBox()"
      ]
     },
     "metadata": {},
     "output_type": "display_data"
    },
    {
     "name": "stderr",
     "output_type": "stream",
     "text": [
      "Exception in thread cell_monitor-45:\n",
      "Traceback (most recent call last):\n",
      "  File \"/mnt/notebook-env/lib/python3.9/threading.py\", line 980, in _bootstrap_inner\n",
      "    self.run()\n",
      "  File \"/mnt/notebook-env/lib/python3.9/threading.py\", line 917, in run\n",
      "    self._target(*self._args, **self._kwargs)\n",
      "  File \"/mnt/notebook-env/lib/python3.9/site-packages/awseditorssparkmonitoringwidget/cellmonitor.py\", line 154, in cell_monitor\n",
      "    job_group_filtered_jobs = [job for job in jobs_data if job['jobGroup'] == str(statement_id)]\n",
      "  File \"/mnt/notebook-env/lib/python3.9/site-packages/awseditorssparkmonitoringwidget/cellmonitor.py\", line 154, in <listcomp>\n",
      "    job_group_filtered_jobs = [job for job in jobs_data if job['jobGroup'] == str(statement_id)]\n",
      "KeyError: 'jobGroup'\n"
     ]
    },
    {
     "data": {
      "application/vnd.jupyter.widget-view+json": {
       "model_id": "",
       "version_major": 2,
       "version_minor": 0
      },
      "text/plain": [
       "FloatProgress(value=0.0, bar_style='info', description='Progress:', layout=Layout(height='25px', width='50%'),…"
      ]
     },
     "metadata": {},
     "output_type": "display_data"
    },
    {
     "name": "stderr",
     "output_type": "stream",
     "text": [
      "Exception in thread cell_monitor-46:\n",
      "Traceback (most recent call last):\n",
      "  File \"/mnt/notebook-env/lib/python3.9/threading.py\", line 980, in _bootstrap_inner\n",
      "    self.run()\n",
      "  File \"/mnt/notebook-env/lib/python3.9/threading.py\", line 917, in run\n",
      "    self._target(*self._args, **self._kwargs)\n",
      "  File \"/mnt/notebook-env/lib/python3.9/site-packages/awseditorssparkmonitoringwidget/cellmonitor.py\", line 154, in cell_monitor\n",
      "    job_group_filtered_jobs = [job for job in jobs_data if job['jobGroup'] == str(statement_id)]\n",
      "  File \"/mnt/notebook-env/lib/python3.9/site-packages/awseditorssparkmonitoringwidget/cellmonitor.py\", line 154, in <listcomp>\n",
      "    job_group_filtered_jobs = [job for job in jobs_data if job['jobGroup'] == str(statement_id)]\n",
      "KeyError: 'jobGroup'\n"
     ]
    }
   ],
   "source": [
    "# Create a PySpark DataFrame and convert to a Pandas DataFrame\n",
    "performance_df = spark.createDataFrame(results)\n",
    "performance_pd = performance_df.toPandas()"
   ]
  },
  {
   "cell_type": "code",
   "execution_count": 47,
   "id": "b1d68957-4cd1-43a0-b6d5-46d1b852cddc",
   "metadata": {
    "execution": {
     "iopub.execute_input": "2025-03-10T03:41:42.870700Z",
     "iopub.status.busy": "2025-03-10T03:41:42.870313Z",
     "iopub.status.idle": "2025-03-10T03:41:43.652792Z",
     "shell.execute_reply": "2025-03-10T03:41:43.651885Z",
     "shell.execute_reply.started": "2025-03-10T03:41:42.870674Z"
    }
   },
   "outputs": [
    {
     "data": {
      "application/vnd.jupyter.widget-view+json": {
       "model_id": "4d7ff3ab1c084b18b666c65962db2568",
       "version_major": 2,
       "version_minor": 0
      },
      "text/plain": [
       "VBox()"
      ]
     },
     "metadata": {},
     "output_type": "display_data"
    },
    {
     "data": {
      "application/vnd.jupyter.widget-view+json": {
       "model_id": "",
       "version_major": 2,
       "version_minor": 0
      },
      "text/plain": [
       "FloatProgress(value=0.0, bar_style='info', description='Progress:', layout=Layout(height='25px', width='50%'),…"
      ]
     },
     "metadata": {},
     "output_type": "display_data"
    },
    {
     "name": "stderr",
     "output_type": "stream",
     "text": [
      "Exception in thread cell_monitor-47:\n",
      "Traceback (most recent call last):\n",
      "  File \"/mnt/notebook-env/lib/python3.9/threading.py\", line 980, in _bootstrap_inner\n",
      "    self.run()\n",
      "  File \"/mnt/notebook-env/lib/python3.9/threading.py\", line 917, in run\n",
      "    self._target(*self._args, **self._kwargs)\n",
      "  File \"/mnt/notebook-env/lib/python3.9/site-packages/awseditorssparkmonitoringwidget/cellmonitor.py\", line 154, in cell_monitor\n",
      "    job_group_filtered_jobs = [job for job in jobs_data if job['jobGroup'] == str(statement_id)]\n",
      "  File \"/mnt/notebook-env/lib/python3.9/site-packages/awseditorssparkmonitoringwidget/cellmonitor.py\", line 154, in <listcomp>\n",
      "    job_group_filtered_jobs = [job for job in jobs_data if job['jobGroup'] == str(statement_id)]\n",
      "KeyError: 'jobGroup'\n"
     ]
    },
    {
     "name": "stdout",
     "output_type": "stream",
     "text": [
      "<stdin>:4: FutureWarning: \n",
      "\n",
      "Passing `palette` without assigning `hue` is deprecated and will be removed in v0.14.0. Assign the `x` variable to `hue` and set `legend=False` for the same effect.\n",
      "\n",
      "<stdin>:8: FutureWarning: \n",
      "\n",
      "Passing `palette` without assigning `hue` is deprecated and will be removed in v0.14.0. Assign the `x` variable to `hue` and set `legend=False` for the same effect.\n",
      "\n",
      "<stdin>:12: FutureWarning: \n",
      "\n",
      "Passing `palette` without assigning `hue` is deprecated and will be removed in v0.14.0. Assign the `x` variable to `hue` and set `legend=False` for the same effect."
     ]
    }
   ],
   "source": [
    "# Visualize the performance metrics for four models\n",
    "plt.figure(figsize = (20, 12))\n",
    "\n",
    "# Subplot 1: RMSE Comparison barplot\n",
    "plt.subplot(1, 3, 1)\n",
    "sns.barplot(x = 'Model', y = 'RMSE', data = performance_pd, palette = 'Blues_d')\n",
    "plt.title('RMSE Comparison')\n",
    "\n",
    "# Subplot 2: MAE Comparison barplot\n",
    "plt.subplot(1, 3, 2)\n",
    "sns.barplot(x = 'Model', y = 'MAE', data = performance_pd, palette = 'Blues_d')\n",
    "plt.title('MAE Comparison')\n",
    "\n",
    "# Subplot 3: R2 Comparison barplot\n",
    "plt.subplot(1, 3, 3)\n",
    "sns.barplot(x = 'Model', y = 'R2', data = performance_pd, palette = 'Blues_d')\n",
    "plt.title('R2 Comparison')\n",
    "\n",
    "plt.tight_layout()"
   ]
  },
  {
   "cell_type": "code",
   "execution_count": 48,
   "id": "1c168f71-d5d0-47ae-94b8-8dc8a4eda019",
   "metadata": {
    "execution": {
     "iopub.execute_input": "2025-03-10T03:41:43.654449Z",
     "iopub.status.busy": "2025-03-10T03:41:43.654202Z",
     "iopub.status.idle": "2025-03-10T03:41:44.422564Z",
     "shell.execute_reply": "2025-03-10T03:41:44.421845Z",
     "shell.execute_reply.started": "2025-03-10T03:41:43.654412Z"
    }
   },
   "outputs": [
    {
     "data": {
      "application/vnd.jupyter.widget-view+json": {
       "model_id": "f9f8c63e73ce46faadf9b0d9c8477c20",
       "version_major": 2,
       "version_minor": 0
      },
      "text/plain": [
       "VBox()"
      ]
     },
     "metadata": {},
     "output_type": "display_data"
    },
    {
     "data": {
      "application/vnd.jupyter.widget-view+json": {
       "model_id": "",
       "version_major": 2,
       "version_minor": 0
      },
      "text/plain": [
       "FloatProgress(value=0.0, bar_style='info', description='Progress:', layout=Layout(height='25px', width='50%'),…"
      ]
     },
     "metadata": {},
     "output_type": "display_data"
    },
    {
     "name": "stderr",
     "output_type": "stream",
     "text": [
      "Exception in thread cell_monitor-48:\n",
      "Traceback (most recent call last):\n",
      "  File \"/mnt/notebook-env/lib/python3.9/threading.py\", line 980, in _bootstrap_inner\n",
      "    self.run()\n",
      "  File \"/mnt/notebook-env/lib/python3.9/threading.py\", line 917, in run\n",
      "    self._target(*self._args, **self._kwargs)\n",
      "  File \"/mnt/notebook-env/lib/python3.9/site-packages/awseditorssparkmonitoringwidget/cellmonitor.py\", line 154, in cell_monitor\n",
      "    job_group_filtered_jobs = [job for job in jobs_data if job['jobGroup'] == str(statement_id)]\n",
      "  File \"/mnt/notebook-env/lib/python3.9/site-packages/awseditorssparkmonitoringwidget/cellmonitor.py\", line 154, in <listcomp>\n",
      "    job_group_filtered_jobs = [job for job in jobs_data if job['jobGroup'] == str(statement_id)]\n",
      "KeyError: 'jobGroup'\n"
     ]
    }
   ],
   "source": [
    "# Save the plot image locally\n",
    "local_path = '/tmp/model_performance_comparison.png'\n",
    "plt.savefig(local_path)"
   ]
  },
  {
   "cell_type": "code",
   "execution_count": 49,
   "id": "286f773b-0a6d-4977-b40a-1bc337d734e5",
   "metadata": {
    "execution": {
     "iopub.execute_input": "2025-03-10T03:41:44.424315Z",
     "iopub.status.busy": "2025-03-10T03:41:44.424060Z",
     "iopub.status.idle": "2025-03-10T03:41:45.208450Z",
     "shell.execute_reply": "2025-03-10T03:41:45.207241Z",
     "shell.execute_reply.started": "2025-03-10T03:41:44.424279Z"
    }
   },
   "outputs": [
    {
     "data": {
      "application/vnd.jupyter.widget-view+json": {
       "model_id": "0a6f2195859d436dae7db8bdca1336c0",
       "version_major": 2,
       "version_minor": 0
      },
      "text/plain": [
       "VBox()"
      ]
     },
     "metadata": {},
     "output_type": "display_data"
    },
    {
     "data": {
      "application/vnd.jupyter.widget-view+json": {
       "model_id": "",
       "version_major": 2,
       "version_minor": 0
      },
      "text/plain": [
       "FloatProgress(value=0.0, bar_style='info', description='Progress:', layout=Layout(height='25px', width='50%'),…"
      ]
     },
     "metadata": {},
     "output_type": "display_data"
    },
    {
     "name": "stderr",
     "output_type": "stream",
     "text": [
      "Exception in thread cell_monitor-49:\n",
      "Traceback (most recent call last):\n",
      "  File \"/mnt/notebook-env/lib/python3.9/threading.py\", line 980, in _bootstrap_inner\n",
      "    self.run()\n",
      "  File \"/mnt/notebook-env/lib/python3.9/threading.py\", line 917, in run\n",
      "    self._target(*self._args, **self._kwargs)\n",
      "  File \"/mnt/notebook-env/lib/python3.9/site-packages/awseditorssparkmonitoringwidget/cellmonitor.py\", line 154, in cell_monitor\n",
      "    job_group_filtered_jobs = [job for job in jobs_data if job['jobGroup'] == str(statement_id)]\n",
      "  File \"/mnt/notebook-env/lib/python3.9/site-packages/awseditorssparkmonitoringwidget/cellmonitor.py\", line 154, in <listcomp>\n",
      "    job_group_filtered_jobs = [job for job in jobs_data if job['jobGroup'] == str(statement_id)]\n",
      "KeyError: 'jobGroup'\n"
     ]
    },
    {
     "name": "stdout",
     "output_type": "stream",
     "text": [
      "Heatmap successfully uploaded to s3://csc555-jaewon/final_project/2024_chicago_taxi_and_weather/model_performance_comparison.png"
     ]
    }
   ],
   "source": [
    "# Upload the plot image to an S3 bucket\n",
    "s3 = boto3.client('s3')\n",
    "bucket_name = 'csc555-jaewon'\n",
    "s3_path = 'final_project/2024_chicago_taxi_and_weather/model_performance_comparison.png'\n",
    "s3.upload_file(local_path, bucket_name, s3_path)\n",
    "print(f\"Heatmap successfully uploaded to s3://{bucket_name}/{s3_path}\")"
   ]
  },
  {
   "cell_type": "code",
   "execution_count": 50,
   "id": "de03e1e8-b2df-4b54-b645-840efcf5ce60",
   "metadata": {
    "execution": {
     "iopub.execute_input": "2025-03-10T03:41:45.210434Z",
     "iopub.status.busy": "2025-03-10T03:41:45.209934Z",
     "iopub.status.idle": "2025-03-10T03:41:45.249381Z",
     "shell.execute_reply": "2025-03-10T03:41:45.248138Z",
     "shell.execute_reply.started": "2025-03-10T03:41:45.210394Z"
    }
   },
   "outputs": [
    {
     "data": {
      "application/vnd.jupyter.widget-view+json": {
       "model_id": "0bb7eb4ba02d469288978c660c3a4912",
       "version_major": 2,
       "version_minor": 0
      },
      "text/plain": [
       "VBox()"
      ]
     },
     "metadata": {},
     "output_type": "display_data"
    },
    {
     "data": {
      "application/vnd.jupyter.widget-view+json": {
       "model_id": "",
       "version_major": 2,
       "version_minor": 0
      },
      "text/plain": [
       "FloatProgress(value=0.0, bar_style='info', description='Progress:', layout=Layout(height='25px', width='50%'),…"
      ]
     },
     "metadata": {},
     "output_type": "display_data"
    }
   ],
   "source": [
    "# Remove the locally saved image\n",
    "os.remove(local_path)"
   ]
  },
  {
   "cell_type": "markdown",
   "id": "2d106086-357f-48f2-b143-990b2380dbcf",
   "metadata": {},
   "source": [
    "---\n",
    "### 9. Evaluate Model Performance - Residual Visualization"
   ]
  },
  {
   "cell_type": "code",
   "execution_count": 51,
   "id": "85d76e80-bbd7-4357-a952-a72f44f803ab",
   "metadata": {
    "execution": {
     "iopub.execute_input": "2025-03-10T03:41:45.253570Z",
     "iopub.status.busy": "2025-03-10T03:41:45.250580Z",
     "iopub.status.idle": "2025-03-10T03:41:45.559812Z",
     "shell.execute_reply": "2025-03-10T03:41:45.559066Z",
     "shell.execute_reply.started": "2025-03-10T03:41:45.253530Z"
    },
    "tags": []
   },
   "outputs": [
    {
     "data": {
      "application/vnd.jupyter.widget-view+json": {
       "model_id": "b6a8ffe79aa74123bff3bedc4f4bce93",
       "version_major": 2,
       "version_minor": 0
      },
      "text/plain": [
       "VBox()"
      ]
     },
     "metadata": {},
     "output_type": "display_data"
    },
    {
     "name": "stderr",
     "output_type": "stream",
     "text": [
      "Exception in thread cell_monitor-50:\n",
      "Traceback (most recent call last):\n",
      "  File \"/mnt/notebook-env/lib/python3.9/threading.py\", line 980, in _bootstrap_inner\n"
     ]
    },
    {
     "data": {
      "application/vnd.jupyter.widget-view+json": {
       "model_id": "",
       "version_major": 2,
       "version_minor": 0
      },
      "text/plain": [
       "FloatProgress(value=0.0, bar_style='info', description='Progress:', layout=Layout(height='25px', width='50%'),…"
      ]
     },
     "metadata": {},
     "output_type": "display_data"
    },
    {
     "name": "stderr",
     "output_type": "stream",
     "text": [
      "    self.run()\n",
      "  File \"/mnt/notebook-env/lib/python3.9/threading.py\", line 917, in run\n",
      "    self._target(*self._args, **self._kwargs)\n",
      "  File \"/mnt/notebook-env/lib/python3.9/site-packages/awseditorssparkmonitoringwidget/cellmonitor.py\", line 154, in cell_monitor\n",
      "    job_group_filtered_jobs = [job for job in jobs_data if job['jobGroup'] == str(statement_id)]\n",
      "  File \"/mnt/notebook-env/lib/python3.9/site-packages/awseditorssparkmonitoringwidget/cellmonitor.py\", line 154, in <listcomp>\n",
      "    job_group_filtered_jobs = [job for job in jobs_data if job['jobGroup'] == str(statement_id)]\n",
      "KeyError: 'jobGroup'\n",
      "Exception in thread cell_monitor-51:\n",
      "Traceback (most recent call last):\n",
      "  File \"/mnt/notebook-env/lib/python3.9/threading.py\", line 980, in _bootstrap_inner\n",
      "    self.run()\n",
      "  File \"/mnt/notebook-env/lib/python3.9/threading.py\", line 917, in run\n",
      "    self._target(*self._args, **self._kwargs)\n",
      "  File \"/mnt/notebook-env/lib/python3.9/site-packages/awseditorssparkmonitoringwidget/cellmonitor.py\", line 154, in cell_monitor\n",
      "    job_group_filtered_jobs = [job for job in jobs_data if job['jobGroup'] == str(statement_id)]\n",
      "  File \"/mnt/notebook-env/lib/python3.9/site-packages/awseditorssparkmonitoringwidget/cellmonitor.py\", line 154, in <listcomp>\n",
      "    job_group_filtered_jobs = [job for job in jobs_data if job['jobGroup'] == str(statement_id)]\n",
      "KeyError: 'jobGroup'\n"
     ]
    }
   ],
   "source": [
    "# Calculating residuals for each model\n",
    "lr_residuals = lr_prediction.withColumn(\"residuals\", col(\"count\") - col(\"prediction\"))\n",
    "rf_residuals = rf_prediction.withColumn(\"residuals\", col(\"count\") - col(\"prediction\"))\n",
    "gbt_residuals = gbt_prediction.withColumn(\"residuals\", col(\"count\") - col(\"prediction\"))\n",
    "glr_residuals = glr_prediction.withColumn(\"residuals\", col(\"count\") - col(\"prediction\"))"
   ]
  },
  {
   "cell_type": "code",
   "execution_count": 52,
   "id": "4d6a890e-941c-4b34-b9f4-bdff8959aee9",
   "metadata": {
    "execution": {
     "iopub.execute_input": "2025-03-10T03:41:45.561184Z",
     "iopub.status.busy": "2025-03-10T03:41:45.561007Z",
     "iopub.status.idle": "2025-03-10T03:41:47.843664Z",
     "shell.execute_reply": "2025-03-10T03:41:47.842979Z",
     "shell.execute_reply.started": "2025-03-10T03:41:45.561161Z"
    }
   },
   "outputs": [
    {
     "data": {
      "application/vnd.jupyter.widget-view+json": {
       "model_id": "785792d5d75c46b2bb14e6688f8953d2",
       "version_major": 2,
       "version_minor": 0
      },
      "text/plain": [
       "VBox()"
      ]
     },
     "metadata": {},
     "output_type": "display_data"
    },
    {
     "data": {
      "application/vnd.jupyter.widget-view+json": {
       "model_id": "",
       "version_major": 2,
       "version_minor": 0
      },
      "text/plain": [
       "FloatProgress(value=0.0, bar_style='info', description='Progress:', layout=Layout(height='25px', width='50%'),…"
      ]
     },
     "metadata": {},
     "output_type": "display_data"
    },
    {
     "name": "stderr",
     "output_type": "stream",
     "text": [
      "Exception in thread cell_monitor-52:\n",
      "Traceback (most recent call last):\n",
      "  File \"/mnt/notebook-env/lib/python3.9/threading.py\", line 980, in _bootstrap_inner\n",
      "    self.run()\n",
      "  File \"/mnt/notebook-env/lib/python3.9/threading.py\", line 917, in run\n",
      "    self._target(*self._args, **self._kwargs)\n",
      "  File \"/mnt/notebook-env/lib/python3.9/site-packages/awseditorssparkmonitoringwidget/cellmonitor.py\", line 154, in cell_monitor\n",
      "    job_group_filtered_jobs = [job for job in jobs_data if job['jobGroup'] == str(statement_id)]\n",
      "  File \"/mnt/notebook-env/lib/python3.9/site-packages/awseditorssparkmonitoringwidget/cellmonitor.py\", line 154, in <listcomp>\n",
      "    job_group_filtered_jobs = [job for job in jobs_data if job['jobGroup'] == str(statement_id)]\n",
      "KeyError: 'jobGroup'\n"
     ]
    }
   ],
   "source": [
    "# Convert a PySpark DataFrame to a Pandas DataFrame\n",
    "lr_residuals_pd = lr_residuals.select(\"prediction\", \"residuals\").toPandas()\n",
    "rf_residuals_pd = rf_residuals.select(\"prediction\", \"residuals\").toPandas()\n",
    "gbt_residuals_pd = gbt_residuals.select(\"prediction\", \"residuals\").toPandas()\n",
    "glr_residuals_pd = glr_residuals.select(\"prediction\", \"residuals\").toPandas()"
   ]
  },
  {
   "cell_type": "code",
   "execution_count": 53,
   "id": "7a546ee1-1ba8-4a2c-af19-91298893209d",
   "metadata": {
    "execution": {
     "iopub.execute_input": "2025-03-10T03:41:47.845618Z",
     "iopub.status.busy": "2025-03-10T03:41:47.845370Z",
     "iopub.status.idle": "2025-03-10T03:41:48.594209Z",
     "shell.execute_reply": "2025-03-10T03:41:48.593479Z",
     "shell.execute_reply.started": "2025-03-10T03:41:47.845581Z"
    },
    "tags": []
   },
   "outputs": [
    {
     "data": {
      "application/vnd.jupyter.widget-view+json": {
       "model_id": "3ec1faa145c64379ad945bf0b4a9e253",
       "version_major": 2,
       "version_minor": 0
      },
      "text/plain": [
       "VBox()"
      ]
     },
     "metadata": {},
     "output_type": "display_data"
    },
    {
     "data": {
      "application/vnd.jupyter.widget-view+json": {
       "model_id": "",
       "version_major": 2,
       "version_minor": 0
      },
      "text/plain": [
       "FloatProgress(value=0.0, bar_style='info', description='Progress:', layout=Layout(height='25px', width='50%'),…"
      ]
     },
     "metadata": {},
     "output_type": "display_data"
    },
    {
     "name": "stderr",
     "output_type": "stream",
     "text": [
      "Exception in thread cell_monitor-53:\n",
      "Traceback (most recent call last):\n",
      "  File \"/mnt/notebook-env/lib/python3.9/threading.py\", line 980, in _bootstrap_inner\n",
      "    self.run()\n",
      "  File \"/mnt/notebook-env/lib/python3.9/threading.py\", line 917, in run\n",
      "    self._target(*self._args, **self._kwargs)\n",
      "  File \"/mnt/notebook-env/lib/python3.9/site-packages/awseditorssparkmonitoringwidget/cellmonitor.py\", line 154, in cell_monitor\n",
      "    job_group_filtered_jobs = [job for job in jobs_data if job['jobGroup'] == str(statement_id)]\n",
      "  File \"/mnt/notebook-env/lib/python3.9/site-packages/awseditorssparkmonitoringwidget/cellmonitor.py\", line 154, in <listcomp>\n",
      "    job_group_filtered_jobs = [job for job in jobs_data if job['jobGroup'] == str(statement_id)]\n",
      "KeyError: 'jobGroup'\n"
     ]
    }
   ],
   "source": [
    "# Visualize the residuals for four models\n",
    "plt.figure(figsize = (20, 12))\n",
    "\n",
    "# Subplot 1: LR Residuals scatter plot\n",
    "plt.subplot(2, 2, 1)\n",
    "plt.scatter(lr_residuals_pd['prediction'], lr_residuals_pd['residuals'], alpha = 0.5)\n",
    "plt.axhline(0, color = 'red', linestyle = '--')\n",
    "plt.title('LR Residuals')\n",
    "plt.xlabel('Predicted Values')\n",
    "plt.ylabel('Residuals')\n",
    "\n",
    "# Subplot 2: RF Residuals scatter plot\n",
    "plt.subplot(2, 2, 2)\n",
    "plt.scatter(rf_residuals_pd['prediction'], rf_residuals_pd['residuals'], alpha = 0.5)\n",
    "plt.axhline(0, color = 'red', linestyle = '--')\n",
    "plt.title('RF Residuals')\n",
    "plt.xlabel('Predicted Values')\n",
    "plt.ylabel('Residuals')\n",
    "\n",
    "# Subplot 3: GBT Residuals scatter plot\n",
    "plt.subplot(2, 2, 3)\n",
    "plt.scatter(gbt_residuals_pd['prediction'], gbt_residuals_pd['residuals'], alpha = 0.5)\n",
    "plt.axhline(0, color = 'red', linestyle = '--')\n",
    "plt.title('GBT Residuals')\n",
    "plt.xlabel('Predicted Values')\n",
    "plt.ylabel('Residuals')\n",
    "\n",
    "# Subplot 4: GLR Residuals scatter plot\n",
    "plt.subplot(2, 2, 4)\n",
    "plt.scatter(glr_residuals_pd['prediction'], glr_residuals_pd['residuals'], alpha = 0.5)\n",
    "plt.axhline(0, color = 'red', linestyle = '--')\n",
    "plt.title('GLR Residuals')\n",
    "plt.xlabel('Predicted Values')\n",
    "plt.ylabel('Residuals')\n",
    "\n",
    "plt.tight_layout()"
   ]
  },
  {
   "cell_type": "code",
   "execution_count": 54,
   "id": "bfc50988-37e0-4758-86aa-25f5e9b3e0d4",
   "metadata": {
    "execution": {
     "iopub.execute_input": "2025-03-10T03:41:48.595744Z",
     "iopub.status.busy": "2025-03-10T03:41:48.595378Z",
     "iopub.status.idle": "2025-03-10T03:41:49.354572Z",
     "shell.execute_reply": "2025-03-10T03:41:49.353835Z",
     "shell.execute_reply.started": "2025-03-10T03:41:48.595708Z"
    }
   },
   "outputs": [
    {
     "data": {
      "application/vnd.jupyter.widget-view+json": {
       "model_id": "73ff2dba50bd460c9e90105a6160900c",
       "version_major": 2,
       "version_minor": 0
      },
      "text/plain": [
       "VBox()"
      ]
     },
     "metadata": {},
     "output_type": "display_data"
    },
    {
     "data": {
      "application/vnd.jupyter.widget-view+json": {
       "model_id": "",
       "version_major": 2,
       "version_minor": 0
      },
      "text/plain": [
       "FloatProgress(value=0.0, bar_style='info', description='Progress:', layout=Layout(height='25px', width='50%'),…"
      ]
     },
     "metadata": {},
     "output_type": "display_data"
    },
    {
     "name": "stderr",
     "output_type": "stream",
     "text": [
      "Exception in thread cell_monitor-54:\n",
      "Traceback (most recent call last):\n",
      "  File \"/mnt/notebook-env/lib/python3.9/threading.py\", line 980, in _bootstrap_inner\n",
      "    self.run()\n",
      "  File \"/mnt/notebook-env/lib/python3.9/threading.py\", line 917, in run\n",
      "    self._target(*self._args, **self._kwargs)\n",
      "  File \"/mnt/notebook-env/lib/python3.9/site-packages/awseditorssparkmonitoringwidget/cellmonitor.py\", line 154, in cell_monitor\n",
      "    job_group_filtered_jobs = [job for job in jobs_data if job['jobGroup'] == str(statement_id)]\n",
      "  File \"/mnt/notebook-env/lib/python3.9/site-packages/awseditorssparkmonitoringwidget/cellmonitor.py\", line 154, in <listcomp>\n",
      "    job_group_filtered_jobs = [job for job in jobs_data if job['jobGroup'] == str(statement_id)]\n",
      "KeyError: 'jobGroup'\n"
     ]
    }
   ],
   "source": [
    "# Save the plot image locally\n",
    "local_path = '/tmp/residual_comparison.png'\n",
    "plt.savefig(local_path)"
   ]
  },
  {
   "cell_type": "code",
   "execution_count": 55,
   "id": "83c59773-e460-4a9e-8cfb-0172ad386c10",
   "metadata": {
    "execution": {
     "iopub.execute_input": "2025-03-10T03:41:49.356312Z",
     "iopub.status.busy": "2025-03-10T03:41:49.355990Z",
     "iopub.status.idle": "2025-03-10T03:41:49.599372Z",
     "shell.execute_reply": "2025-03-10T03:41:49.598419Z",
     "shell.execute_reply.started": "2025-03-10T03:41:49.356275Z"
    }
   },
   "outputs": [
    {
     "data": {
      "application/vnd.jupyter.widget-view+json": {
       "model_id": "0c5329b704b142ecac208f17f6d30834",
       "version_major": 2,
       "version_minor": 0
      },
      "text/plain": [
       "VBox()"
      ]
     },
     "metadata": {},
     "output_type": "display_data"
    },
    {
     "data": {
      "application/vnd.jupyter.widget-view+json": {
       "model_id": "",
       "version_major": 2,
       "version_minor": 0
      },
      "text/plain": [
       "FloatProgress(value=0.0, bar_style='info', description='Progress:', layout=Layout(height='25px', width='50%'),…"
      ]
     },
     "metadata": {},
     "output_type": "display_data"
    },
    {
     "name": "stderr",
     "output_type": "stream",
     "text": [
      "Exception in thread cell_monitor-55:\n",
      "Traceback (most recent call last):\n",
      "  File \"/mnt/notebook-env/lib/python3.9/threading.py\", line 980, in _bootstrap_inner\n",
      "    self.run()\n",
      "  File \"/mnt/notebook-env/lib/python3.9/threading.py\", line 917, in run\n",
      "    self._target(*self._args, **self._kwargs)\n",
      "  File \"/mnt/notebook-env/lib/python3.9/site-packages/awseditorssparkmonitoringwidget/cellmonitor.py\", line 154, in cell_monitor\n",
      "    job_group_filtered_jobs = [job for job in jobs_data if job['jobGroup'] == str(statement_id)]\n",
      "  File \"/mnt/notebook-env/lib/python3.9/site-packages/awseditorssparkmonitoringwidget/cellmonitor.py\", line 154, in <listcomp>\n",
      "    job_group_filtered_jobs = [job for job in jobs_data if job['jobGroup'] == str(statement_id)]\n",
      "KeyError: 'jobGroup'\n"
     ]
    },
    {
     "name": "stdout",
     "output_type": "stream",
     "text": [
      "Heatmap successfully uploaded to s3://csc555-jaewon/final_project/2024_chicago_taxi_and_weather/residual_comparison.png"
     ]
    }
   ],
   "source": [
    "# Upload the plot image to an S3 bucket\n",
    "s3 = boto3.client('s3')\n",
    "bucket_name = 'csc555-jaewon'\n",
    "s3_path = 'final_project/2024_chicago_taxi_and_weather/residual_comparison.png'\n",
    "s3.upload_file(local_path, bucket_name, s3_path)\n",
    "print(f\"Heatmap successfully uploaded to s3://{bucket_name}/{s3_path}\")"
   ]
  },
  {
   "cell_type": "code",
   "execution_count": 56,
   "id": "934a36cb-c765-418b-909e-fdcaf71dea0d",
   "metadata": {
    "execution": {
     "iopub.execute_input": "2025-03-10T03:41:49.601392Z",
     "iopub.status.busy": "2025-03-10T03:41:49.601057Z",
     "iopub.status.idle": "2025-03-10T03:41:49.655154Z",
     "shell.execute_reply": "2025-03-10T03:41:49.654342Z",
     "shell.execute_reply.started": "2025-03-10T03:41:49.601265Z"
    }
   },
   "outputs": [
    {
     "data": {
      "application/vnd.jupyter.widget-view+json": {
       "model_id": "1b8361357e704d24a420ed3bcd35eafc",
       "version_major": 2,
       "version_minor": 0
      },
      "text/plain": [
       "VBox()"
      ]
     },
     "metadata": {},
     "output_type": "display_data"
    },
    {
     "data": {
      "application/vnd.jupyter.widget-view+json": {
       "model_id": "",
       "version_major": 2,
       "version_minor": 0
      },
      "text/plain": [
       "FloatProgress(value=0.0, bar_style='info', description='Progress:', layout=Layout(height='25px', width='50%'),…"
      ]
     },
     "metadata": {},
     "output_type": "display_data"
    }
   ],
   "source": [
    "# Remove the locally saved image\n",
    "os.remove(local_path)"
   ]
  },
  {
   "cell_type": "code",
   "execution_count": null,
   "id": "e5427317-f09f-45c6-9c06-c6f58a15d605",
   "metadata": {},
   "outputs": [],
   "source": []
  }
 ],
 "metadata": {
  "colab": {
   "provenance": []
  },
  "kernelspec": {
   "display_name": "PySpark",
   "language": "python",
   "name": "pysparkkernel"
  },
  "language_info": {
   "codemirror_mode": {
    "name": "python",
    "version": 3
   },
   "file_extension": ".py",
   "mimetype": "text/x-python",
   "name": "pyspark",
   "pygments_lexer": "python3"
  }
 },
 "nbformat": 4,
 "nbformat_minor": 5
}
